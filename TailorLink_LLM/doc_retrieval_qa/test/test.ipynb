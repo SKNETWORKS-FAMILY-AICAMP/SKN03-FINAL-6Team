{
 "cells": [
  {
   "metadata": {},
   "cell_type": "code",
   "outputs": [],
   "execution_count": null,
   "source": [
    "# # !pip install -U langgraph langsmith langchain_anthropic \n",
    "# !pip install -qU langchain-openai\n",
    "# !pip install openai\n",
    "# !pip install faiss-cpu\n",
    "# !pip install langchain_community\n",
    "# !pip install pdfplumber\n",
    "# !pip install langchain_huggingface\n",
    "# !pip install torch torchvision torchaudio --index-url https://download.pytorch.org/whl/cu124"
   ],
   "id": "907835f035331bf9"
  },
  {
   "metadata": {
    "ExecuteTime": {
     "end_time": "2024-12-05T00:45:37.629294Z",
     "start_time": "2024-12-05T00:45:37.625568Z"
    }
   },
   "cell_type": "code",
   "source": [
    "from dotenv import load_dotenv\n",
    "load_dotenv()"
   ],
   "id": "2768323a40c83c15",
   "outputs": [
    {
     "data": {
      "text/plain": [
       "True"
      ]
     },
     "execution_count": 17,
     "metadata": {},
     "output_type": "execute_result"
    }
   ],
   "execution_count": 17
  },
  {
   "metadata": {
    "ExecuteTime": {
     "end_time": "2024-12-05T00:45:37.957956Z",
     "start_time": "2024-12-05T00:45:37.946893Z"
    }
   },
   "cell_type": "code",
   "source": [
    "from langchain_teddynote import logging\n",
    "logging.langsmith('TailorLink_QA')"
   ],
   "id": "8421582716c03063",
   "outputs": [
    {
     "name": "stdout",
     "output_type": "stream",
     "text": [
      "LangSmith 추적을 시작합니다.\n",
      "[프로젝트명]\n",
      "TailorLink_QA\n"
     ]
    }
   ],
   "execution_count": 18
  },
  {
   "metadata": {},
   "cell_type": "markdown",
   "source": "",
   "id": "dd7497f8ec1e6ac8"
  },
  {
   "metadata": {
    "ExecuteTime": {
     "end_time": "2024-12-05T00:45:38.438670Z",
     "start_time": "2024-12-05T00:45:38.436173Z"
    }
   },
   "cell_type": "code",
   "source": [
    "import faiss\n",
    "from langchain_community.vectorstores import FAISS\n",
    "\n",
    "def load_faiss(embeddings):\n",
    "    \n",
    "    current_dir = os.getcwd()\n",
    "    \n",
    "    # 상대 경로를 기반으로 한 절대 경로 생성\n",
    "    folder_path = os.path.join(current_dir, \"pdf\", \"faiss_db\", \"faiss_db\")\n",
    "    index_name = os.path.join(current_dir, \"pdf\", \"faiss_db\", \"faiss_index\")\n",
    "    \n",
    "    loaded_db = FAISS.load_local(\n",
    "        folder_path=folder_path,\n",
    "        index_name=index_name,\n",
    "        embeddings=embeddings,\n",
    "        allow_dangerous_deserialization=True,\n",
    "    )\n",
    "    return loaded_db"
   ],
   "id": "bd48d5129b6df20a",
   "outputs": [],
   "execution_count": 19
  },
  {
   "metadata": {
    "ExecuteTime": {
     "end_time": "2024-12-05T00:45:38.633316Z",
     "start_time": "2024-12-05T00:45:38.625884Z"
    }
   },
   "cell_type": "code",
   "source": [
    "from langchain_community.document_loaders import PDFPlumberLoader\n",
    "from langchain_core.documents import Document"
   ],
   "id": "874454d58cd6c22d",
   "outputs": [],
   "execution_count": 20
  },
  {
   "metadata": {
    "ExecuteTime": {
     "end_time": "2024-12-05T00:45:38.799725Z",
     "start_time": "2024-12-05T00:45:38.790687Z"
    }
   },
   "cell_type": "code",
   "source": [
    "import pdfplumber\n",
    "import json\n",
    "def LoadPDF2(file_path: str):\n",
    "    docs = []\n",
    "    # PDFPlumber를 사용하여 파일을 로드합니다.\n",
    "    with pdfplumber.open(file_path) as pdf:\n",
    "        for page in pdf.pages:\n",
    "            # 페이지 크기 확인\n",
    "            width, height = page.width, page.height\n",
    "\n",
    "            # 2개의 영역(열)으로 나누기\n",
    "            left_bbox = (0, 0, width / 2, height)   # 왼쪽 열\n",
    "            right_bbox = (width / 2, 0, width, height)  # 오른쪽 열\n",
    "\n",
    "            # 왼쪽 열 텍스트 추출\n",
    "            left_text = page.within_bbox(left_bbox).extract_text() or \"\"\n",
    "            \n",
    "            # 오른쪽 열 텍스트 추출\n",
    "            right_text = page.within_bbox(right_bbox).extract_text() or \"\"\n",
    "\n",
    "            # 텍스트 병합\n",
    "            page_text = left_text + \"\\n\" + right_text\n",
    "\n",
    "            # 문서를 Langchain 형식으로 변환하여 추가\n",
    "            if page_text.strip():\n",
    "                docs.append(Document(\n",
    "                    page_content=page_text,\n",
    "                    metadata={\n",
    "                        'source': file_path,\n",
    "                        'file_path': file_path,\n",
    "                        'page': page.page_number,\n",
    "                        'total_pages': len(pdf.pages),\n",
    "                        'CreationDate': pdf.metadata.get('CreationDate', None),\n",
    "                        'ModDate': pdf.metadata.get('ModDate', None)\n",
    "                    }\n",
    "                ))\n",
    "\n",
    "    return docs\n"
   ],
   "id": "6495dd0c5b9a0a7e",
   "outputs": [],
   "execution_count": 21
  },
  {
   "metadata": {
    "ExecuteTime": {
     "end_time": "2024-12-05T00:46:00.933707Z",
     "start_time": "2024-12-05T00:45:38.946374Z"
    }
   },
   "cell_type": "code",
   "source": "docs = LoadPDF2('../data/genesis/genesis-g90-black-24-manual-kor.pdf')\n",
   "id": "3a4bbe7f0e48e64d",
   "outputs": [],
   "execution_count": 22
  },
  {
   "metadata": {
    "ExecuteTime": {
     "end_time": "2024-12-05T00:46:00.939411Z",
     "start_time": "2024-12-05T00:46:00.934213Z"
    }
   },
   "cell_type": "code",
   "source": "from langchain_text_splitters import RecursiveCharacterTextSplitter",
   "id": "44c9faa48d6205cc",
   "outputs": [],
   "execution_count": 23
  },
  {
   "metadata": {
    "ExecuteTime": {
     "end_time": "2024-12-05T00:46:00.945719Z",
     "start_time": "2024-12-05T00:46:00.943278Z"
    }
   },
   "cell_type": "code",
   "source": [
    "def text_split(docs, chunk_size=500, chunk_overlap=50):\n",
    "    text_splitter = RecursiveCharacterTextSplitter(chunk_size=chunk_size, chunk_overlap=chunk_overlap)\n",
    "    split_documents = text_splitter.split_documents(docs)\n",
    "    print(f\"분할된 청크의수 : {len(split_documents)}\")\n",
    "    return split_documents"
   ],
   "id": "cf04e4a40d477d96",
   "outputs": [],
   "execution_count": 24
  },
  {
   "metadata": {
    "ExecuteTime": {
     "end_time": "2024-12-05T00:46:00.979976Z",
     "start_time": "2024-12-05T00:46:00.948820Z"
    }
   },
   "cell_type": "code",
   "source": "docs = text_split(docs)",
   "id": "859e21b963c82f4d",
   "outputs": [
    {
     "name": "stdout",
     "output_type": "stream",
     "text": [
      "분할된 청크의수 : 1482\n"
     ]
    }
   ],
   "execution_count": 25
  },
  {
   "metadata": {
    "ExecuteTime": {
     "end_time": "2024-12-05T00:46:00.987728Z",
     "start_time": "2024-12-05T00:46:00.983543Z"
    }
   },
   "cell_type": "code",
   "source": [
    "from langchain_core.prompts import PromptTemplate\n",
    "# 프롬프트를 생성합니다.\n",
    "\n",
    "prompt = PromptTemplate.from_template(\n",
    "    \"\"\"You are an assistant for question-answering tasks.\n",
    "    Use only the following pieces of retrieved context to answer the question. \n",
    "    Do not use any outside knowledge or assumptions. \n",
    "    If the context does not provide enough information to answer, just say that you don't know. \n",
    "    Answer in Korean and format your answer in Markdown.\n",
    "\n",
    "    #Context: \n",
    "    {context}\n",
    "\n",
    "    #Question:\n",
    "    {question}\n",
    "\n",
    "    #Answer (in Markdown):\"\"\"\n",
    ")\n"
   ],
   "id": "c1e82cac52c267b5",
   "outputs": [],
   "execution_count": 26
  },
  {
   "metadata": {
    "ExecuteTime": {
     "end_time": "2024-12-05T00:46:01.247234Z",
     "start_time": "2024-12-05T00:46:00.991141Z"
    }
   },
   "cell_type": "code",
   "source": [
    "from langchain_openai import ChatOpenAI\n",
    "\n",
    "llm = ChatOpenAI(model=\"gpt-4o-mini\")"
   ],
   "id": "e1b4a0753fbdd06d",
   "outputs": [],
   "execution_count": 27
  },
  {
   "metadata": {
    "ExecuteTime": {
     "end_time": "2024-12-05T00:46:01.253167Z",
     "start_time": "2024-12-05T00:46:01.251017Z"
    }
   },
   "cell_type": "code",
   "source": "chain = prompt | llm ",
   "id": "6db3ad63cb1aaf",
   "outputs": [],
   "execution_count": 28
  },
  {
   "metadata": {
    "ExecuteTime": {
     "end_time": "2024-12-05T00:45:21.969550Z",
     "start_time": "2024-12-05T00:45:21.960681Z"
    }
   },
   "cell_type": "code",
   "source": [
    "###############################\n",
    "from evaluation.evaluation import evaluate_rag\n"
   ],
   "id": "ff10d0199efc0bf4",
   "outputs": [],
   "execution_count": 16
  },
  {
   "metadata": {
    "ExecuteTime": {
     "end_time": "2024-12-04T10:06:32.990399Z",
     "start_time": "2024-12-04T10:06:32.987740Z"
    }
   },
   "cell_type": "code",
   "source": [
    "# 경고 무시\n",
    "import os\n",
    "import warnings\n",
    "warnings.filterwarnings(\"ignore\")\n",
    "# ./cache/ 경로에 다운로드 받도록 설정\n",
    "os.environ[\"HF_HOME\"] = \"./cache/\""
   ],
   "id": "7b3811e84209794e",
   "outputs": [],
   "execution_count": 18
  },
  {
   "metadata": {
    "ExecuteTime": {
     "end_time": "2024-12-04T10:06:41.305521Z",
     "start_time": "2024-12-04T10:06:32.994770Z"
    }
   },
   "cell_type": "code",
   "source": [
    "from langchain_huggingface import HuggingFaceEmbeddings\n",
    "\n",
    "def get_huggingface_embedding():\n",
    "    # model_name = \"BAAI/bge-m3\"\n",
    "    model_name = \"intfloat/multilingual-e5-large-instruct\"\n",
    "    model_kwargs = {\"device\": \"cuda\"}\n",
    "    encode_kwargs = {\"normalize_embeddings\": True}\n",
    "    hf_embeddings = HuggingFaceEmbeddings(\n",
    "        model_name=model_name, model_kwargs=model_kwargs, encode_kwargs=encode_kwargs\n",
    "    )\n",
    "    return hf_embeddings\n",
    "\n",
    "hf_embeddings = get_huggingface_embedding()"
   ],
   "id": "e726289a934af3b0",
   "outputs": [],
   "execution_count": 19
  },
  {
   "metadata": {
    "ExecuteTime": {
     "end_time": "2024-12-04T10:06:41.318157Z",
     "start_time": "2024-12-04T10:06:41.309436Z"
    }
   },
   "cell_type": "code",
   "source": "faiss = load_faiss(hf_embeddings)",
   "id": "757a4b97a17c038a",
   "outputs": [],
   "execution_count": 20
  },
  {
   "metadata": {
    "ExecuteTime": {
     "end_time": "2024-12-04T10:06:41.395736Z",
     "start_time": "2024-12-04T10:06:41.321576Z"
    }
   },
   "cell_type": "code",
   "source": [
    "from langchain.retrievers import EnsembleRetriever\n",
    "from langchain_community.retrievers import BM25Retriever    "
   ],
   "id": "19e30c8e4b052a28",
   "outputs": [],
   "execution_count": 21
  },
  {
   "metadata": {
    "ExecuteTime": {
     "end_time": "2024-12-04T10:06:41.401824Z",
     "start_time": "2024-12-04T10:06:41.399554Z"
    }
   },
   "cell_type": "code",
   "source": "retriever = faiss.as_retriever(search_kwargs={\"k\": 10})",
   "id": "eab52477a5458ed1",
   "outputs": [],
   "execution_count": 22
  },
  {
   "metadata": {
    "ExecuteTime": {
     "end_time": "2024-12-04T10:06:41.446311Z",
     "start_time": "2024-12-04T10:06:41.405031Z"
    }
   },
   "cell_type": "code",
   "source": [
    "bm25 = BM25Retriever.from_documents(docs)\n",
    "\n",
    "\n",
    "bm25_faiss_73 = EnsembleRetriever(\n",
    "    retrievers=[bm25, retriever],  # 사용할 검색 모델의 리스트\n",
    "    weights=[0.5, 0.5],  # 각 검색 모델의 결과에 적용할 가중치\n",
    "    search_type=\"mmr\",  # 검색 결과의 다양성을 증진시키는 MMR 방식을 사용\n",
    ")\n"
   ],
   "id": "8f5e2c370101012d",
   "outputs": [],
   "execution_count": 23
  },
  {
   "metadata": {
    "ExecuteTime": {
     "end_time": "2024-12-04T10:06:43.414657Z",
     "start_time": "2024-12-04T10:06:41.449991Z"
    }
   },
   "cell_type": "code",
   "source": [
    "from langchain.retrievers import ContextualCompressionRetriever\n",
    "from langchain.retrievers.document_compressors import CrossEncoderReranker\n",
    "from langchain_community.cross_encoders import HuggingFaceCrossEncoder\n",
    "\n",
    "# 모델 초기화\n",
    "model = HuggingFaceCrossEncoder(model_name=\"BAAI/bge-reranker-v2-m3\")\n",
    "\n",
    "# 상위 3개의 문서 선택\n",
    "compressor = CrossEncoderReranker(model=model, top_n=5)\n",
    "\n",
    "# 문서 압축 검색기 초기화\n",
    "compression_retriever = ContextualCompressionRetriever(\n",
    "    base_compressor=compressor, base_retriever=bm25_faiss_73\n",
    ")\n",
    "\n",
    "# 압축된 문서 검색\n",
    "compressed_docs = compression_retriever.invoke(\"안전벨트 에 대해서 알려줄래?\")"
   ],
   "id": "a363ef7823c614f2",
   "outputs": [],
   "execution_count": 24
  },
  {
   "metadata": {
    "ExecuteTime": {
     "end_time": "2024-12-04T10:06:43.421206Z",
     "start_time": "2024-12-04T10:06:43.418676Z"
    }
   },
   "cell_type": "code",
   "source": [
    "from langchain_core.output_parsers import StrOutputParser\n",
    "from langchain_core.runnables import RunnablePassthrough\n",
    "chain = (\n",
    "        {\"context\": bm25_faiss_73, \"question\": RunnablePassthrough()}\n",
    "        | prompt\n",
    "        | llm\n",
    "        | StrOutputParser()\n",
    "    )"
   ],
   "id": "e9f76383ac8f8bfe",
   "outputs": [],
   "execution_count": 25
  },
  {
   "metadata": {
    "ExecuteTime": {
     "end_time": "2024-12-04T10:06:45.911223Z",
     "start_time": "2024-12-04T10:06:43.424773Z"
    }
   },
   "cell_type": "code",
   "source": "chain.invoke('시동 켜는 법은?')",
   "id": "71aa183e85e8d8b",
   "outputs": [
    {
     "data": {
      "text/plain": [
       "'```markdown\\n시동을 켜기 위한 방법은 다음과 같습니다:\\n\\n1. 브레이크 페달을 밟은 상태에서 시동 버튼을 누릅니다.\\n2. 브레이크 페달을 계속 밟고 있는 상태에서 엔진 회전이 적정 범위(1,000 RPM 이내)에 있는지 확인한 후에 변속 다이얼을 원하는 위치로 돌립니다.\\n3. 전자식 파킹 브레이크를 해제한 후 브레이크 페달에서 발을 떼면서 차량이 서서히 움직이는 것을 확인하고 가속 페달을 천천히 밟아 출발합니다.\\n```'"
      ]
     },
     "execution_count": 26,
     "metadata": {},
     "output_type": "execute_result"
    }
   ],
   "execution_count": 26
  },
  {
   "metadata": {},
   "cell_type": "markdown",
   "source": "# graph 작성",
   "id": "832eacdf00133690"
  },
  {
   "metadata": {
    "ExecuteTime": {
     "end_time": "2024-12-04T10:06:45.949599Z",
     "start_time": "2024-12-04T10:06:45.915045Z"
    }
   },
   "cell_type": "code",
   "source": [
    "from typing import Annotated\n",
    "\n",
    "from typing_extensions import TypedDict\n",
    "\n",
    "from langgraph.graph import StateGraph, START, END\n",
    "from langgraph.graph.message import add_messages\n",
    "\n",
    "\n",
    "class State(TypedDict):\n",
    "    # Messages have the type \"list\". The `add_messages` function\n",
    "    # in the annotation defines how this state key should be updated\n",
    "    # (in this case, it appends messages to the list, rather than overwriting them)\n",
    "    messages: Annotated[list, add_messages]\n",
    "\n",
    "\n",
    "graph_builder = StateGraph(State)"
   ],
   "id": "625058a86dd5d0f5",
   "outputs": [],
   "execution_count": 27
  },
  {
   "metadata": {
    "ExecuteTime": {
     "end_time": "2024-12-04T10:06:45.955647Z",
     "start_time": "2024-12-04T10:06:45.953812Z"
    }
   },
   "cell_type": "code",
   "source": "",
   "id": "4a207b3b9a258f57",
   "outputs": [],
   "execution_count": null
  },
  {
   "metadata": {
    "ExecuteTime": {
     "end_time": "2024-12-04T10:06:45.963200Z",
     "start_time": "2024-12-04T10:06:45.959461Z"
    }
   },
   "cell_type": "code",
   "source": [
    "from langchain_openai import ChatOpenAI\n",
    "\n",
    "# llm = ChatOpenAI(model=\"gpt-4o-mini\")\n",
    "\n",
    "def searchFAQ(state: State):\n",
    "    print(state)\n",
    "    return {\"messages\": [chain.invoke(state[\"messages\"][0].content)]}\n",
    "\n",
    "# def searchVectorDB(state: State):\n",
    "#     return {\"messages\": [chain.invoke(state[\"messages\"])]}\n",
    "# The first argument is the unique node name\n",
    "# The second argument is the function or object that will be called whenever\n",
    "# the node is used.\n",
    "graph_builder.add_node(\"searchFAQ\", searchFAQ)\n",
    "# graph_builder.add_node(\"searchVectorDB\", searchVectorDB)"
   ],
   "id": "f98938b4f2547e44",
   "outputs": [
    {
     "data": {
      "text/plain": [
       "<langgraph.graph.state.StateGraph at 0x208ee02da60>"
      ]
     },
     "execution_count": 28,
     "metadata": {},
     "output_type": "execute_result"
    }
   ],
   "execution_count": 28
  },
  {
   "metadata": {
    "ExecuteTime": {
     "end_time": "2024-12-04T10:06:45.971307Z",
     "start_time": "2024-12-04T10:06:45.968221Z"
    }
   },
   "cell_type": "code",
   "source": [
    "graph_builder.add_edge(START, \"searchFAQ\")\n",
    "graph_builder.add_edge(\"searchFAQ\", END)\n",
    "# graph_builder.add_edge(\"searchFAQ\", \"searchVectorDB\")\n",
    "# graph_builder.add_edge(\"searchVectorDB\", END)\n",
    "graph = graph_builder.compile()"
   ],
   "id": "97fe2df65190965a",
   "outputs": [],
   "execution_count": 29
  },
  {
   "metadata": {
    "ExecuteTime": {
     "end_time": "2024-12-04T10:06:46.404750Z",
     "start_time": "2024-12-04T10:06:45.989691Z"
    }
   },
   "cell_type": "code",
   "source": [
    "from IPython.display import Image, display\n",
    "\n",
    "try:\n",
    "    display(Image(graph.get_graph().draw_mermaid_png()))\n",
    "except Exception:\n",
    "    # This requires some extra dependencies and is optional\n",
    "    pass"
   ],
   "id": "95ae7658a6ddd1b1",
   "outputs": [
    {
     "data": {
      "image/png": "[encoded data removed]",
      "text/plain": [
       "<IPython.core.display.Image object>"
      ]
     },
     "metadata": {},
     "output_type": "display_data"
    }
   ],
   "execution_count": 30
  },
  {
   "metadata": {
    "ExecuteTime": {
     "end_time": "2024-12-04T10:06:49.787709Z",
     "start_time": "2024-12-04T10:06:46.409022Z"
    }
   },
   "cell_type": "code",
   "source": "graph.invoke({'messages': '브레이크는 뭐야?'})",
   "id": "a364bbcd83a0bdcf",
   "outputs": [
    {
     "name": "stdout",
     "output_type": "stream",
     "text": [
      "{'messages': [HumanMessage(content='브레이크는 뭐야?', additional_kwargs={}, response_metadata={}, id='4b8d132b-095e-40b2-8354-d7d5a09a3064')]}\n"
     ]
    },
    {
     "data": {
      "text/plain": [
       "{'messages': [HumanMessage(content='브레이크는 뭐야?', additional_kwargs={}, response_metadata={}, id='4b8d132b-095e-40b2-8354-d7d5a09a3064'),\n",
       "  HumanMessage(content='브레이크는 차량의 속도를 줄이거나 정지시키기 위해 사용하는 장치입니다. 브레이크 페달을 밟으면 제동력이 발생하여 차량의 속도가 감소하게 됩니다. 이 차량에는 디스크 브레이크가 장착되어 있으며, 브레이크 패드가 마모되면 소리가 나므로 점검과 교체가 필요합니다. 추가적으로, 엔진 브레이크는 물리적인 브레이크는 아니지만 엔진의 압축 압력으로 바퀴의 회전을 억제하여 제동력을 얻는 방식입니다. \\n\\n브레이크 시스템의 이상이 있을 경우 브레이크 경고등이 켜지며, 이 경우 안전한 장소에 차량을 정지시키고 점검을 받아야 합니다.', additional_kwargs={}, response_metadata={}, id='45fde77c-2288-4012-8d71-f4856a72ab11')]}"
      ]
     },
     "execution_count": 31,
     "metadata": {},
     "output_type": "execute_result"
    }
   ],
   "execution_count": 31
  },
  {
   "metadata": {
    "ExecuteTime": {
     "end_time": "2024-12-04T10:45:07.053844Z",
     "start_time": "2024-12-04T10:45:04.519786Z"
    }
   },
   "cell_type": "code",
   "source": "graph.invoke({'messages': ['브레이크는 뭐야?', '시동은 어떻게 켜?']})\n",
   "id": "eac8ac4ba0038d44",
   "outputs": [
    {
     "name": "stdout",
     "output_type": "stream",
     "text": [
      "{'messages': [HumanMessage(content='브레이크는 뭐야?', additional_kwargs={}, response_metadata={}, id='d0cd5fdc-72b1-49f7-9b44-2f40f722d6cd'), HumanMessage(content='시동은 어떻게 켜?', additional_kwargs={}, response_metadata={}, id='76666ddb-44d8-4836-830e-37a198455d93')]}\n"
     ]
    },
    {
     "data": {
      "text/plain": [
       "{'messages': [HumanMessage(content='브레이크는 뭐야?', additional_kwargs={}, response_metadata={}, id='d0cd5fdc-72b1-49f7-9b44-2f40f722d6cd'),\n",
       "  HumanMessage(content='시동은 어떻게 켜?', additional_kwargs={}, response_metadata={}, id='76666ddb-44d8-4836-830e-37a198455d93'),\n",
       "  HumanMessage(content='브레이크는 차량의 속도를 줄이거나 정지시키기 위해 사용되는 장치입니다. 물리적인 브레이크 외에도 엔진 브레이크라는 개념이 있으며, 이는 엔진의 압축 압력으로 바퀴의 회전을 억제하여 제동력을 얻는 방법입니다. 브레이크 시스템은 안전한 주행을 위해 매우 중요하며, 적절한 점검과 유지 관리가 필요합니다.', additional_kwargs={}, response_metadata={}, id='6d274346-c2d6-4e92-b166-83e9681207bd')]}"
      ]
     },
     "execution_count": 33,
     "metadata": {},
     "output_type": "execute_result"
    }
   ],
   "execution_count": 33
  },
  {
   "metadata": {
    "ExecuteTime": {
     "end_time": "2024-12-04T14:01:22.920101Z",
     "start_time": "2024-12-04T14:01:20.480117Z"
    }
   },
   "cell_type": "code",
   "source": [
    "\n",
    "\n",
    "import pandas as pd\n",
    "from llama_index.llms.openai import OpenAI\n",
    "from autorag.data.legacy.qacreation import make_single_content_qa, generate_qa_llama_index\n",
    "\n",
    "corpus_df = pd.read_parquet('../data/test_dataset/corpus_new_test.parquet', engine='pyarrow')\n"
   ],
   "id": "a6ee812669e7a534",
   "outputs": [
    {
     "data": {
      "text/plain": [
       "\u001B[2;36m[12/04/24 23:01:22]\u001B[0m\u001B[2;36m \u001B[0m\u001B[34mINFO    \u001B[0m \u001B[1m[\u001B[0mconfig.py:\u001B[1;36m58\u001B[0m\u001B[1m]\u001B[0m >> PyTorch version \u001B[1;36m2.5\u001B[0m.\u001B[1;36m1\u001B[0m+cu124 available.                  \u001B]8;id=851615;file://E:\\TailorLink\\SKN03-FINAL-6Team\\TailorLink_LLM\\doc_retrieval_qa\\.venv\\Lib\\site-packages\\datasets\\config.py\u001B\\\u001B[2mconfig.py\u001B[0m\u001B]8;;\u001B\\\u001B[2m:\u001B[0m\u001B]8;id=669801;file://E:\\TailorLink\\SKN03-FINAL-6Team\\TailorLink_LLM\\doc_retrieval_qa\\.venv\\Lib\\site-packages\\datasets\\config.py#58\u001B\\\u001B[2m58\u001B[0m\u001B]8;;\u001B\\\n"
      ],
      "text/html": [
       "<pre style=\"white-space:pre;overflow-x:auto;line-height:normal;font-family:Menlo,'DejaVu Sans Mono',consolas,'Courier New',monospace\"><span style=\"color: #7fbfbf; text-decoration-color: #7fbfbf\">[12/04/24 23:01:22] </span><span style=\"color: #000080; text-decoration-color: #000080\">INFO    </span> <span style=\"font-weight: bold\">[</span>config.py:<span style=\"color: #008080; text-decoration-color: #008080; font-weight: bold\">58</span><span style=\"font-weight: bold\">]</span> &gt;&gt; PyTorch version <span style=\"color: #008080; text-decoration-color: #008080; font-weight: bold\">2.5</span>.<span style=\"color: #008080; text-decoration-color: #008080; font-weight: bold\">1</span>+cu124 available.                  <a href=\"file://E:\\TailorLink\\SKN03-FINAL-6Team\\TailorLink_LLM\\doc_retrieval_qa\\.venv\\Lib\\site-packages\\datasets\\config.py\" target=\"_blank\"><span style=\"color: #7f7f7f; text-decoration-color: #7f7f7f\">config.py</span></a><span style=\"color: #7f7f7f; text-decoration-color: #7f7f7f\">:</span><a href=\"file://E:\\TailorLink\\SKN03-FINAL-6Team\\TailorLink_LLM\\doc_retrieval_qa\\.venv\\Lib\\site-packages\\datasets\\config.py#58\" target=\"_blank\"><span style=\"color: #7f7f7f; text-decoration-color: #7f7f7f\">58</span></a>\n",
       "</pre>\n"
      ]
     },
     "metadata": {},
     "output_type": "display_data"
    }
   ],
   "execution_count": 34
  },
  {
   "metadata": {
    "ExecuteTime": {
     "end_time": "2024-12-04T14:02:59.138548Z",
     "start_time": "2024-12-04T14:02:58.696398Z"
    }
   },
   "cell_type": "code",
   "source": [
    "from evaluation.evaluation import evaluate_rag \n",
    "\n"
   ],
   "id": "9573ff5ec0acf260",
   "outputs": [],
   "execution_count": 39
  },
  {
   "metadata": {
    "ExecuteTime": {
     "end_time": "2024-12-04T14:05:35.953045Z",
     "start_time": "2024-12-04T14:05:35.946747Z"
    }
   },
   "cell_type": "code",
   "source": "corpus_df['generation_gt']",
   "id": "9d2cfd004ec58ad5",
   "outputs": [
    {
     "data": {
      "text/plain": [
       "                               retrieval_gt  \\\n",
       "0  [[8bde77e8-99bc-4c6e-8684-0fb2d91666a2]]   \n",
       "1  [[8bde77e8-99bc-4c6e-8684-0fb2d91666a2]]   \n",
       "2  [[53b81dbe-d185-4551-a5b9-167e67784866]]   \n",
       "3  [[53b81dbe-d185-4551-a5b9-167e67784866]]   \n",
       "4  [[79221b8b-7f94-4bc0-80cf-6d30e392f9fb]]   \n",
       "5  [[79221b8b-7f94-4bc0-80cf-6d30e392f9fb]]   \n",
       "6  [[28421a04-1293-4d0c-b46c-96cde8bad20a]]   \n",
       "7  [[28421a04-1293-4d0c-b46c-96cde8bad20a]]   \n",
       "8  [[a165ce1f-c4f4-4742-8d2a-9bca26f99b21]]   \n",
       "9  [[a165ce1f-c4f4-4742-8d2a-9bca26f99b21]]   \n",
       "\n",
       "                                    qid  \\\n",
       "0  7a646d89-0061-4766-a634-1bc63c53a0f9   \n",
       "1  c55bd7b5-2314-4102-8d0b-9354660a7245   \n",
       "2  60d5a564-d231-4775-b893-607c6bdf5e05   \n",
       "3  6966da76-e355-4ca5-90be-2140929d8479   \n",
       "4  8864b030-a96e-4533-be26-a73e77cab111   \n",
       "5  b31a4343-b9be-4c52-95dd-206a5e095a40   \n",
       "6  e39b031e-731f-472d-8f1b-02080825e7b8   \n",
       "7  18e3f346-735c-460b-9f25-0dde51bebf11   \n",
       "8  e04bbb05-b346-46fb-8b4b-8f00d88a6b85   \n",
       "9  552d4632-6497-4b54-926b-d2a0a6c8ef94   \n",
       "\n",
       "                                            query  \\\n",
       "0                       고속도로 주행 보조 기능은 어떻게 작동하나요?   \n",
       "1                          핸즈오프 경고는 어떤 경우에 발생하나요?   \n",
       "2         제네시스 차량에서 자동 설정속도 조절 기능은 어떤 조건에서 작동하나요?   \n",
       "3   지능형 속도 제한 보조 기능에 이상이 있을 때 클러스터에 어떤 경고가 표시되나요?   \n",
       "4  제네시스 차량의 주차 거리 경고 기능이 작동하지 않을 때 어떤 점검을 해야 하나요?   \n",
       "5          주차 거리 경고 기능이 제한될 수 있는 상황에는 어떤 것들이 있나요?   \n",
       "6                    제네시스 차량의 에어백은 어떤 상황에서 작동하나요?   \n",
       "7       제네시스 차량에서 어린이를 안전하게 보호하기 위한 권장 사항은 무엇인가요?   \n",
       "8           제네시스 차량의 후방 뷰 주차 가이드라인은 어떤 거리를 나타내나요?   \n",
       "9      서라운드 뷰 모니터 자동 켜짐 기능을 설정하려면 어떤 경로를 따라야 하나요?   \n",
       "\n",
       "                                       generation_gt  \n",
       "0  [고속도로 주행 보조는 주행 보조 버튼을 눌러 켜면 작동하며, 스마트 크루즈 컨트롤...  \n",
       "1  [핸즈오프 경고는 일정 시간 동안 스티어링 휠을 잡지 않으면 클러스터에 경고문이 표...  \n",
       "2    [자동 설정속도 조절 기능은 도로의 제한속도가 70 km/h 이상일 때 작동합니다.]  \n",
       "3  [지능형 속도 제한 보조에 이상이 있으면 클러스터에 경고문이 일정 시간 표시되며 통...  \n",
       "4  [주차 거리 경고 기능이 작동하지 않을 경우 초음파 센서가 손상되었는지, 외부 물체...  \n",
       "5  [주차 거리 경고 기능이 제한될 수 있는 상황으로는 초음파 센서 표면에 눈이나 물방...  \n",
       "6  [제네시스 차량의 에어백은 정면에서 보통 이상 강도로 충돌했을 때와 측면에서 보통 ...  \n",
       "7  [제네시스 차량에서는 어린이를 뒷좌석에 설치된 어린이 보호 좌석에 앉히고, 동승석에...  \n",
       "8  [후방 뷰 주차 가이드라인은 차량으로부터 0.5 m, 1 m, 2.3 m 거리를 나...  \n",
       "9  [서라운드 뷰 모니터 자동 켜짐 기능을 설정하려면 시동 'ON' 상태에서 인포테인먼...  "
      ],
      "text/html": [
       "<div>\n",
       "<style scoped>\n",
       "    .dataframe tbody tr th:only-of-type {\n",
       "        vertical-align: middle;\n",
       "    }\n",
       "\n",
       "    .dataframe tbody tr th {\n",
       "        vertical-align: top;\n",
       "    }\n",
       "\n",
       "    .dataframe thead th {\n",
       "        text-align: right;\n",
       "    }\n",
       "</style>\n",
       "<table border=\"1\" class=\"dataframe\">\n",
       "  <thead>\n",
       "    <tr style=\"text-align: right;\">\n",
       "      <th></th>\n",
       "      <th>retrieval_gt</th>\n",
       "      <th>qid</th>\n",
       "      <th>query</th>\n",
       "      <th>generation_gt</th>\n",
       "    </tr>\n",
       "  </thead>\n",
       "  <tbody>\n",
       "    <tr>\n",
       "      <th>0</th>\n",
       "      <td>[[8bde77e8-99bc-4c6e-8684-0fb2d91666a2]]</td>\n",
       "      <td>7a646d89-0061-4766-a634-1bc63c53a0f9</td>\n",
       "      <td>고속도로 주행 보조 기능은 어떻게 작동하나요?</td>\n",
       "      <td>[고속도로 주행 보조는 주행 보조 버튼을 눌러 켜면 작동하며, 스마트 크루즈 컨트롤...</td>\n",
       "    </tr>\n",
       "    <tr>\n",
       "      <th>1</th>\n",
       "      <td>[[8bde77e8-99bc-4c6e-8684-0fb2d91666a2]]</td>\n",
       "      <td>c55bd7b5-2314-4102-8d0b-9354660a7245</td>\n",
       "      <td>핸즈오프 경고는 어떤 경우에 발생하나요?</td>\n",
       "      <td>[핸즈오프 경고는 일정 시간 동안 스티어링 휠을 잡지 않으면 클러스터에 경고문이 표...</td>\n",
       "    </tr>\n",
       "    <tr>\n",
       "      <th>2</th>\n",
       "      <td>[[53b81dbe-d185-4551-a5b9-167e67784866]]</td>\n",
       "      <td>60d5a564-d231-4775-b893-607c6bdf5e05</td>\n",
       "      <td>제네시스 차량에서 자동 설정속도 조절 기능은 어떤 조건에서 작동하나요?</td>\n",
       "      <td>[자동 설정속도 조절 기능은 도로의 제한속도가 70 km/h 이상일 때 작동합니다.]</td>\n",
       "    </tr>\n",
       "    <tr>\n",
       "      <th>3</th>\n",
       "      <td>[[53b81dbe-d185-4551-a5b9-167e67784866]]</td>\n",
       "      <td>6966da76-e355-4ca5-90be-2140929d8479</td>\n",
       "      <td>지능형 속도 제한 보조 기능에 이상이 있을 때 클러스터에 어떤 경고가 표시되나요?</td>\n",
       "      <td>[지능형 속도 제한 보조에 이상이 있으면 클러스터에 경고문이 일정 시간 표시되며 통...</td>\n",
       "    </tr>\n",
       "    <tr>\n",
       "      <th>4</th>\n",
       "      <td>[[79221b8b-7f94-4bc0-80cf-6d30e392f9fb]]</td>\n",
       "      <td>8864b030-a96e-4533-be26-a73e77cab111</td>\n",
       "      <td>제네시스 차량의 주차 거리 경고 기능이 작동하지 않을 때 어떤 점검을 해야 하나요?</td>\n",
       "      <td>[주차 거리 경고 기능이 작동하지 않을 경우 초음파 센서가 손상되었는지, 외부 물체...</td>\n",
       "    </tr>\n",
       "    <tr>\n",
       "      <th>5</th>\n",
       "      <td>[[79221b8b-7f94-4bc0-80cf-6d30e392f9fb]]</td>\n",
       "      <td>b31a4343-b9be-4c52-95dd-206a5e095a40</td>\n",
       "      <td>주차 거리 경고 기능이 제한될 수 있는 상황에는 어떤 것들이 있나요?</td>\n",
       "      <td>[주차 거리 경고 기능이 제한될 수 있는 상황으로는 초음파 센서 표면에 눈이나 물방...</td>\n",
       "    </tr>\n",
       "    <tr>\n",
       "      <th>6</th>\n",
       "      <td>[[28421a04-1293-4d0c-b46c-96cde8bad20a]]</td>\n",
       "      <td>e39b031e-731f-472d-8f1b-02080825e7b8</td>\n",
       "      <td>제네시스 차량의 에어백은 어떤 상황에서 작동하나요?</td>\n",
       "      <td>[제네시스 차량의 에어백은 정면에서 보통 이상 강도로 충돌했을 때와 측면에서 보통 ...</td>\n",
       "    </tr>\n",
       "    <tr>\n",
       "      <th>7</th>\n",
       "      <td>[[28421a04-1293-4d0c-b46c-96cde8bad20a]]</td>\n",
       "      <td>18e3f346-735c-460b-9f25-0dde51bebf11</td>\n",
       "      <td>제네시스 차량에서 어린이를 안전하게 보호하기 위한 권장 사항은 무엇인가요?</td>\n",
       "      <td>[제네시스 차량에서는 어린이를 뒷좌석에 설치된 어린이 보호 좌석에 앉히고, 동승석에...</td>\n",
       "    </tr>\n",
       "    <tr>\n",
       "      <th>8</th>\n",
       "      <td>[[a165ce1f-c4f4-4742-8d2a-9bca26f99b21]]</td>\n",
       "      <td>e04bbb05-b346-46fb-8b4b-8f00d88a6b85</td>\n",
       "      <td>제네시스 차량의 후방 뷰 주차 가이드라인은 어떤 거리를 나타내나요?</td>\n",
       "      <td>[후방 뷰 주차 가이드라인은 차량으로부터 0.5 m, 1 m, 2.3 m 거리를 나...</td>\n",
       "    </tr>\n",
       "    <tr>\n",
       "      <th>9</th>\n",
       "      <td>[[a165ce1f-c4f4-4742-8d2a-9bca26f99b21]]</td>\n",
       "      <td>552d4632-6497-4b54-926b-d2a0a6c8ef94</td>\n",
       "      <td>서라운드 뷰 모니터 자동 켜짐 기능을 설정하려면 어떤 경로를 따라야 하나요?</td>\n",
       "      <td>[서라운드 뷰 모니터 자동 켜짐 기능을 설정하려면 시동 'ON' 상태에서 인포테인먼...</td>\n",
       "    </tr>\n",
       "  </tbody>\n",
       "</table>\n",
       "</div>"
      ]
     },
     "execution_count": 52,
     "metadata": {},
     "output_type": "execute_result"
    }
   ],
   "execution_count": 52
  },
  {
   "metadata": {
    "ExecuteTime": {
     "end_time": "2024-12-04T14:04:15.337592Z",
     "start_time": "2024-12-04T14:04:09.880509Z"
    }
   },
   "cell_type": "code",
   "source": [
    "\n",
    "res = graph.invoke({'messages': corpus_df['query'][0]})\n"
   ],
   "id": "cd677fc71416289",
   "outputs": [
    {
     "name": "stdout",
     "output_type": "stream",
     "text": [
      "{'messages': [HumanMessage(content='고속도로 주행 보조 기능은 어떻게 작동하나요?', additional_kwargs={}, response_metadata={}, id='728c41eb-8d2a-447d-8f4d-f56151c16cdd')]}\n"
     ]
    },
    {
     "data": {
      "text/plain": [
       "\u001B[2;36m[12/04/24 23:04:15]\u001B[0m\u001B[2;36m \u001B[0m\u001B[34mINFO    \u001B[0m \u001B[1m[\u001B[0m_client.py:\u001B[1;36m1027\u001B[0m\u001B[1m]\u001B[0m >> HTTP Request: \u001B[1;33mPOST\u001B[0m                                \u001B]8;id=596608;file://E:\\TailorLink\\SKN03-FINAL-6Team\\TailorLink_LLM\\doc_retrieval_qa\\.venv\\Lib\\site-packages\\httpx\\_client.py\u001B\\\u001B[2m_client.py\u001B[0m\u001B]8;;\u001B\\\u001B[2m:\u001B[0m\u001B]8;id=332943;file://E:\\TailorLink\\SKN03-FINAL-6Team\\TailorLink_LLM\\doc_retrieval_qa\\.venv\\Lib\\site-packages\\httpx\\_client.py#1027\u001B\\\u001B[2m1027\u001B[0m\u001B]8;;\u001B\\\n",
       "\u001B[2;36m                    \u001B[0m         \u001B[4;94mhttps://api.openai.com/v1/chat/completions\u001B[0m \u001B[32m\"HTTP/1.1 200 OK\"\u001B[0m           \u001B[2m               \u001B[0m\n"
      ],
      "text/html": [
       "<pre style=\"white-space:pre;overflow-x:auto;line-height:normal;font-family:Menlo,'DejaVu Sans Mono',consolas,'Courier New',monospace\"><span style=\"color: #7fbfbf; text-decoration-color: #7fbfbf\">[12/04/24 23:04:15] </span><span style=\"color: #000080; text-decoration-color: #000080\">INFO    </span> <span style=\"font-weight: bold\">[</span>_client.py:<span style=\"color: #008080; text-decoration-color: #008080; font-weight: bold\">1027</span><span style=\"font-weight: bold\">]</span> &gt;&gt; HTTP Request: <span style=\"color: #808000; text-decoration-color: #808000; font-weight: bold\">POST</span>                                <a href=\"file://E:\\TailorLink\\SKN03-FINAL-6Team\\TailorLink_LLM\\doc_retrieval_qa\\.venv\\Lib\\site-packages\\httpx\\_client.py\" target=\"_blank\"><span style=\"color: #7f7f7f; text-decoration-color: #7f7f7f\">_client.py</span></a><span style=\"color: #7f7f7f; text-decoration-color: #7f7f7f\">:</span><a href=\"file://E:\\TailorLink\\SKN03-FINAL-6Team\\TailorLink_LLM\\doc_retrieval_qa\\.venv\\Lib\\site-packages\\httpx\\_client.py#1027\" target=\"_blank\"><span style=\"color: #7f7f7f; text-decoration-color: #7f7f7f\">1027</span></a>\n",
       "<span style=\"color: #7fbfbf; text-decoration-color: #7fbfbf\">                    </span>         <span style=\"color: #0000ff; text-decoration-color: #0000ff; text-decoration: underline\">https://api.openai.com/v1/chat/completions</span> <span style=\"color: #008000; text-decoration-color: #008000\">\"HTTP/1.1 200 OK\"</span>           <span style=\"color: #7f7f7f; text-decoration-color: #7f7f7f\">               </span>\n",
       "</pre>\n"
      ]
     },
     "metadata": {},
     "output_type": "display_data"
    }
   ],
   "execution_count": 45
  },
  {
   "metadata": {
    "ExecuteTime": {
     "end_time": "2024-12-04T14:05:08.161468Z",
     "start_time": "2024-12-04T14:05:08.158332Z"
    }
   },
   "cell_type": "code",
   "source": "res['messages'][1].content\n",
   "id": "26092b007ed39ee2",
   "outputs": [
    {
     "data": {
      "text/plain": [
       "'```markdown\\n고속도로 주행 보조 기능은 다음의 방법으로 작동합니다:\\n\\n1. 작동 가능한 도로 주행 시 주행 보조 버튼을 눌러 고속도로 주행 보조를 켭니다.\\n2. 스마트 크루즈 컨트롤과 차로 유지 보조가 켜진 상태로 작동 가능한 도로로 진입하면 자동으로 작동합니다.\\n3. 전방 차량과의 거리와 설정 속도를 유지하며 차로 중앙을 주행하도록 도와줍니다.\\n4. 고속도로 차로변경 보조 기능은 차로 변경 방향으로 방향지시등을 살짝 움직이면 안전하게 차로를 변경하도록 도와줍니다.\\n\\n고속도로 주행 보조는 주행을 보조하는 편의 기능이며, 운전자가 항상 조작을 해야 합니다.\\n```\\n'"
      ]
     },
     "execution_count": 51,
     "metadata": {},
     "output_type": "execute_result"
    }
   ],
   "execution_count": 51
  },
  {
   "metadata": {
    "ExecuteTime": {
     "end_time": "2024-12-04T14:08:53.951658Z",
     "start_time": "2024-12-04T14:08:18.227666Z"
    }
   },
   "cell_type": "code",
   "source": "evaluate_rag(corpus_df['generation_gt'][0][0], res['messages'][1].content, True, False)",
   "id": "bf441388df51d5c4",
   "outputs": [
    {
     "name": "stdout",
     "output_type": "stream",
     "text": [
      "calculating scores...\n",
      "computing bert embedding.\n"
     ]
    },
    {
     "name": "stderr",
     "output_type": "stream",
     "text": [
      "100%|██████████| 1/1 [00:00<00:00,  8.45it/s]\n"
     ]
    },
    {
     "name": "stdout",
     "output_type": "stream",
     "text": [
      "computing greedy matching.\n"
     ]
    },
    {
     "name": "stderr",
     "output_type": "stream",
     "text": [
      "100%|██████████| 1/1 [00:00<00:00, 499.38it/s]"
     ]
    },
    {
     "name": "stdout",
     "output_type": "stream",
     "text": [
      "done in 0.12 seconds, 8.17 sentences/sec\n",
      "Precision: 0.7276\n",
      "Recall: 0.8619\n",
      "F1 Score: 0.7891\n"
     ]
    },
    {
     "name": "stderr",
     "output_type": "stream",
     "text": [
      "\n"
     ]
    },
    {
     "data": {
      "text/plain": [
       "\u001B[2;36m[12/04/24 23:08:36]\u001B[0m\u001B[2;36m \u001B[0m\u001B[34mINFO    \u001B[0m \u001B[1m[\u001B[0mSentenceTransformer.py:\u001B[1;36m218\u001B[0m\u001B[1m]\u001B[0m >> Load pretrained             \u001B]8;id=319862;file://E:\\TailorLink\\SKN03-FINAL-6Team\\TailorLink_LLM\\doc_retrieval_qa\\.venv\\Lib\\site-packages\\sentence_transformers\\SentenceTransformer.py\u001B\\\u001B[2mSentenceTransformer.py\u001B[0m\u001B]8;;\u001B\\\u001B[2m:\u001B[0m\u001B]8;id=305784;file://E:\\TailorLink\\SKN03-FINAL-6Team\\TailorLink_LLM\\doc_retrieval_qa\\.venv\\Lib\\site-packages\\sentence_transformers\\SentenceTransformer.py#218\u001B\\\u001B[2m218\u001B[0m\u001B]8;;\u001B\\\n",
       "\u001B[2;36m                    \u001B[0m         SentenceTransformer:                                        \u001B[2m                          \u001B[0m\n",
       "\u001B[2;36m                    \u001B[0m         sentence-transformers/paraphrase-multilingual-MiniLM-L12-v2 \u001B[2m                          \u001B[0m\n"
      ],
      "text/html": [
       "<pre style=\"white-space:pre;overflow-x:auto;line-height:normal;font-family:Menlo,'DejaVu Sans Mono',consolas,'Courier New',monospace\"><span style=\"color: #7fbfbf; text-decoration-color: #7fbfbf\">[12/04/24 23:08:36] </span><span style=\"color: #000080; text-decoration-color: #000080\">INFO    </span> <span style=\"font-weight: bold\">[</span>SentenceTransformer.py:<span style=\"color: #008080; text-decoration-color: #008080; font-weight: bold\">218</span><span style=\"font-weight: bold\">]</span> &gt;&gt; Load pretrained             <a href=\"file://E:\\TailorLink\\SKN03-FINAL-6Team\\TailorLink_LLM\\doc_retrieval_qa\\.venv\\Lib\\site-packages\\sentence_transformers\\SentenceTransformer.py\" target=\"_blank\"><span style=\"color: #7f7f7f; text-decoration-color: #7f7f7f\">SentenceTransformer.py</span></a><span style=\"color: #7f7f7f; text-decoration-color: #7f7f7f\">:</span><a href=\"file://E:\\TailorLink\\SKN03-FINAL-6Team\\TailorLink_LLM\\doc_retrieval_qa\\.venv\\Lib\\site-packages\\sentence_transformers\\SentenceTransformer.py#218\" target=\"_blank\"><span style=\"color: #7f7f7f; text-decoration-color: #7f7f7f\">218</span></a>\n",
       "<span style=\"color: #7fbfbf; text-decoration-color: #7fbfbf\">                    </span>         SentenceTransformer:                                        <span style=\"color: #7f7f7f; text-decoration-color: #7f7f7f\">                          </span>\n",
       "<span style=\"color: #7fbfbf; text-decoration-color: #7fbfbf\">                    </span>         sentence-transformers/paraphrase-multilingual-MiniLM-L12-v2 <span style=\"color: #7f7f7f; text-decoration-color: #7f7f7f\">                          </span>\n",
       "</pre>\n"
      ]
     },
     "metadata": {},
     "output_type": "display_data"
    },
    {
     "name": "stderr",
     "output_type": "stream",
     "text": [
      "Batches: 100%|██████████| 1/1 [00:00<00:00, 36.91it/s]\n",
      "Batches: 100%|██████████| 1/1 [00:00<00:00, 59.68it/s]\n"
     ]
    },
    {
     "data": {
      "text/plain": [
       "\u001B[2;36m[12/04/24 23:08:53]\u001B[0m\u001B[2;36m \u001B[0m\u001B[34mINFO    \u001B[0m \u001B[1m[\u001B[0m_client.py:\u001B[1;36m1027\u001B[0m\u001B[1m]\u001B[0m >> HTTP Request: \u001B[1;33mPOST\u001B[0m                                \u001B]8;id=281601;file://E:\\TailorLink\\SKN03-FINAL-6Team\\TailorLink_LLM\\doc_retrieval_qa\\.venv\\Lib\\site-packages\\httpx\\_client.py\u001B\\\u001B[2m_client.py\u001B[0m\u001B]8;;\u001B\\\u001B[2m:\u001B[0m\u001B]8;id=344249;file://E:\\TailorLink\\SKN03-FINAL-6Team\\TailorLink_LLM\\doc_retrieval_qa\\.venv\\Lib\\site-packages\\httpx\\_client.py#1027\u001B\\\u001B[2m1027\u001B[0m\u001B]8;;\u001B\\\n",
       "\u001B[2;36m                    \u001B[0m         \u001B[4;94mhttps://api.openai.com/v1/chat/completions\u001B[0m \u001B[32m\"HTTP/1.1 200 OK\"\u001B[0m           \u001B[2m               \u001B[0m\n"
      ],
      "text/html": [
       "<pre style=\"white-space:pre;overflow-x:auto;line-height:normal;font-family:Menlo,'DejaVu Sans Mono',consolas,'Courier New',monospace\"><span style=\"color: #7fbfbf; text-decoration-color: #7fbfbf\">[12/04/24 23:08:53] </span><span style=\"color: #000080; text-decoration-color: #000080\">INFO    </span> <span style=\"font-weight: bold\">[</span>_client.py:<span style=\"color: #008080; text-decoration-color: #008080; font-weight: bold\">1027</span><span style=\"font-weight: bold\">]</span> &gt;&gt; HTTP Request: <span style=\"color: #808000; text-decoration-color: #808000; font-weight: bold\">POST</span>                                <a href=\"file://E:\\TailorLink\\SKN03-FINAL-6Team\\TailorLink_LLM\\doc_retrieval_qa\\.venv\\Lib\\site-packages\\httpx\\_client.py\" target=\"_blank\"><span style=\"color: #7f7f7f; text-decoration-color: #7f7f7f\">_client.py</span></a><span style=\"color: #7f7f7f; text-decoration-color: #7f7f7f\">:</span><a href=\"file://E:\\TailorLink\\SKN03-FINAL-6Team\\TailorLink_LLM\\doc_retrieval_qa\\.venv\\Lib\\site-packages\\httpx\\_client.py#1027\" target=\"_blank\"><span style=\"color: #7f7f7f; text-decoration-color: #7f7f7f\">1027</span></a>\n",
       "<span style=\"color: #7fbfbf; text-decoration-color: #7fbfbf\">                    </span>         <span style=\"color: #0000ff; text-decoration-color: #0000ff; text-decoration: underline\">https://api.openai.com/v1/chat/completions</span> <span style=\"color: #008000; text-decoration-color: #008000\">\"HTTP/1.1 200 OK\"</span>           <span style=\"color: #7f7f7f; text-decoration-color: #7f7f7f\">               </span>\n",
       "</pre>\n"
      ]
     },
     "metadata": {},
     "output_type": "display_data"
    },
    {
     "data": {
      "text/plain": [
       "{'METEOR': {'recall': 0.8695652173913043,\n",
       "  'precision': 0.26666666666666666,\n",
       "  'f1_score': 0.7092198581560283},\n",
       " 'ROUGE-1': {'recall': 0.8695652173913043,\n",
       "  'precision': 0.2631578947368421,\n",
       "  'f1_score': 0.40404040404040403},\n",
       " 'ROUGE-L': {'recall': 0.8260869565217391,\n",
       "  'precision': 0.25,\n",
       "  'f1_score': 0.3838383838383838},\n",
       " 'BERTScore': {'recall': 0.8619177341461182,\n",
       "  'precision': 0.7275931239128113,\n",
       "  'f1_score': 0.7890797257423401},\n",
       " 'Cosine Similarity': {'Cosine Similarity': 0.8653812},\n",
       " 'G-EVAL': 'Similarity Score: 75\\n\\n이유: 두 텍스트는 모두 고속도로 주행 보조 시스템에 대한 설명을 포함하고 있습니다. 참조 텍스트는 주행 보조 버튼 작동 방식과 관련된 간단한 설명을 제공하고 있습니다. 반면, 가설 텍스트는 더 상세하게 작동 절차를 나열하고 있며, 추가적인 기능인 고속도로 차로변경 보조 기능에 대해서도 설명하고 있습니다. \\n\\n따라서, 두 텍스트는 기본적인 주제와 내용이 유사하지만, 가설 텍스트가 더 많은 정보를 포함하고 있어 일부 상이한 점도 존재합니다. 이로 인해 완전히 일치하지는 않지만, 꽤 높은 유사성을 가지고 있다고 판단하여 점수를 부여합니다.'}"
      ]
     },
     "execution_count": 59,
     "metadata": {},
     "output_type": "execute_result"
    }
   ],
   "execution_count": 59
  }
 ],
 "metadata": {
  "kernelspec": {
   "display_name": "Python 3",
   "language": "python",
   "name": "python3"
  },
  "language_info": {
   "codemirror_mode": {
    "name": "ipython",
    "version": 2
   },
   "file_extension": ".py",
   "mimetype": "text/x-python",
   "name": "python",
   "nbconvert_exporter": "python",
   "pygments_lexer": "ipython2",
   "version": "2.7.6"
  }
 },
 "nbformat": 4,
 "nbformat_minor": 5
}
