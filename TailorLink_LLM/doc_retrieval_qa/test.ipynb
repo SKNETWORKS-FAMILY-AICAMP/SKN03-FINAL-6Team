{
 "cells": [
  {
   "cell_type": "code",
   "id": "initial_id",
   "metadata": {
    "collapsed": true,
    "ExecuteTime": {
     "end_time": "2024-12-05T08:44:56.485837Z",
     "start_time": "2024-12-05T08:44:56.413314Z"
    }
   },
   "source": [
    "from pymilvus import connections, db\n",
    "\n",
    "conn = connections.connect(host=\"192.168.0.130\", port=19530)\n",
    "\n",
    "# database = db.create_database(\"my_database\")\n",
    "database = db.using_database(\"my_database\")\n"
   ],
   "outputs": [
    {
     "ename": "ConnectionConfigException",
     "evalue": "<ConnectionConfigException: (code=1, message=Alias of 'default' already creating connections, but the configure is not the same as passed in.)>",
     "output_type": "error",
     "traceback": [
      "\u001B[1;31m---------------------------------------------------------------------------\u001B[0m",
      "\u001B[1;31mConnectionConfigException\u001B[0m                 Traceback (most recent call last)",
      "Cell \u001B[1;32mIn[8], line 3\u001B[0m\n\u001B[0;32m      1\u001B[0m \u001B[38;5;28;01mfrom\u001B[39;00m \u001B[38;5;21;01mpymilvus\u001B[39;00m \u001B[38;5;28;01mimport\u001B[39;00m connections, db\n\u001B[1;32m----> 3\u001B[0m conn \u001B[38;5;241m=\u001B[39m \u001B[43mconnections\u001B[49m\u001B[38;5;241;43m.\u001B[39;49m\u001B[43mconnect\u001B[49m\u001B[43m(\u001B[49m\u001B[43mhost\u001B[49m\u001B[38;5;241;43m=\u001B[39;49m\u001B[38;5;124;43m\"\u001B[39;49m\u001B[38;5;124;43m192.168.0.130\u001B[39;49m\u001B[38;5;124;43m\"\u001B[39;49m\u001B[43m,\u001B[49m\u001B[43m \u001B[49m\u001B[43mport\u001B[49m\u001B[38;5;241;43m=\u001B[39;49m\u001B[38;5;241;43m19530\u001B[39;49m\u001B[43m)\u001B[49m\n\u001B[0;32m      5\u001B[0m \u001B[38;5;66;03m# database = db.create_database(\"my_database\")\u001B[39;00m\n\u001B[0;32m      6\u001B[0m database \u001B[38;5;241m=\u001B[39m db\u001B[38;5;241m.\u001B[39musing_database(\u001B[38;5;124m\"\u001B[39m\u001B[38;5;124mmy_database\u001B[39m\u001B[38;5;124m\"\u001B[39m)\n",
      "File \u001B[1;32mE:\\TailorLink\\SKN03-FINAL-6Team\\TailorLink_LLM\\doc_retrieval_qa\\.venv\\Lib\\site-packages\\pymilvus\\orm\\connections.py:436\u001B[0m, in \u001B[0;36mConnections.connect\u001B[1;34m(self, alias, user, password, db_name, token, **kwargs)\u001B[0m\n\u001B[0;32m    433\u001B[0m kwargs[\u001B[38;5;124m\"\u001B[39m\u001B[38;5;124maddress\u001B[39m\u001B[38;5;124m\"\u001B[39m] \u001B[38;5;241m=\u001B[39m addr\n\u001B[0;32m    435\u001B[0m \u001B[38;5;28;01mif\u001B[39;00m \u001B[38;5;28mself\u001B[39m\u001B[38;5;241m.\u001B[39mhas_connection(alias) \u001B[38;5;129;01mand\u001B[39;00m \u001B[38;5;28mself\u001B[39m\u001B[38;5;241m.\u001B[39m_alias[alias]\u001B[38;5;241m.\u001B[39mget(\u001B[38;5;124m\"\u001B[39m\u001B[38;5;124maddress\u001B[39m\u001B[38;5;124m\"\u001B[39m) \u001B[38;5;241m!=\u001B[39m addr:\n\u001B[1;32m--> 436\u001B[0m     \u001B[38;5;28;01mraise\u001B[39;00m ConnectionConfigException(message\u001B[38;5;241m=\u001B[39mExceptionsMessage\u001B[38;5;241m.\u001B[39mConnDiffConf \u001B[38;5;241m%\u001B[39m alias)\n\u001B[0;32m    438\u001B[0m \u001B[38;5;66;03m# uri might take extra info\u001B[39;00m\n\u001B[0;32m    439\u001B[0m \u001B[38;5;28;01mif\u001B[39;00m parsed_uri \u001B[38;5;129;01mis\u001B[39;00m \u001B[38;5;129;01mnot\u001B[39;00m \u001B[38;5;28;01mNone\u001B[39;00m:\n\u001B[0;32m    440\u001B[0m     \u001B[38;5;66;03m# get db_name from uri\u001B[39;00m\n",
      "\u001B[1;31mConnectionConfigException\u001B[0m: <ConnectionConfigException: (code=1, message=Alias of 'default' already creating connections, but the configure is not the same as passed in.)>"
     ]
    }
   ],
   "execution_count": 8
  },
  {
   "metadata": {
    "ExecuteTime": {
     "end_time": "2024-12-05T08:20:34.631905Z",
     "start_time": "2024-12-05T08:20:34.622841Z"
    }
   },
   "cell_type": "code",
   "source": "database",
   "id": "b229544dc21788a1",
   "outputs": [],
   "execution_count": 5
  },
  {
   "metadata": {
    "ExecuteTime": {
     "end_time": "2024-12-05T08:44:48.318308Z",
     "start_time": "2024-12-05T08:44:48.311395Z"
    }
   },
   "cell_type": "code",
   "source": "db.list_database()",
   "id": "164687f867ed92e0",
   "outputs": [
    {
     "data": {
      "text/plain": [
       "['default', 'my_database']"
      ]
     },
     "execution_count": 7,
     "metadata": {},
     "output_type": "execute_result"
    }
   ],
   "execution_count": 7
  },
  {
   "metadata": {},
   "cell_type": "code",
   "outputs": [],
   "execution_count": null,
   "source": "",
   "id": "ebaefd61259eb15d"
  },
  {
   "metadata": {},
   "cell_type": "code",
   "source": "",
   "id": "46284c13343eca89",
   "outputs": [],
   "execution_count": null
  },
  {
   "metadata": {},
   "cell_type": "code",
   "source": "database",
   "id": "90b7c7e434bfe13",
   "outputs": [],
   "execution_count": null
  },
  {
   "metadata": {},
   "cell_type": "code",
   "source": "pip list",
   "id": "172744f5334843b8",
   "outputs": [],
   "execution_count": null
  },
  {
   "metadata": {},
   "cell_type": "code",
   "source": "",
   "id": "cb5d5ff7daf25cb",
   "outputs": [],
   "execution_count": null
  }
 ],
 "metadata": {
  "kernelspec": {
   "display_name": "Python 3",
   "language": "python",
   "name": "python3"
  },
  "language_info": {
   "codemirror_mode": {
    "name": "ipython",
    "version": 2
   },
   "file_extension": ".py",
   "mimetype": "text/x-python",
   "name": "python",
   "nbconvert_exporter": "python",
   "pygments_lexer": "ipython2",
   "version": "2.7.6"
  }
 },
 "nbformat": 4,
 "nbformat_minor": 5
}
