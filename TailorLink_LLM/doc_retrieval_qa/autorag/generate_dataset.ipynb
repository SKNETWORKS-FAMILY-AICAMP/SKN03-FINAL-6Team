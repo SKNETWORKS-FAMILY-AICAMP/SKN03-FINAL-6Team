{
 "cells": [
  {
   "cell_type": "code",
   "id": "initial_id",
   "metadata": {
    "collapsed": true
   },
   "source": [
    "from IPython.core.debugger import prompt\n",
    "from autorag.data.legacy.corpus import llama_text_node_to_parquet\n",
    "from autorag.data.legacy.qacreation import make_single_content_qa, generate_qa_llama_index\n",
    "from autorag.utils import cast_corpus_dataset\n",
    "from gitdb.fun import chunk_size\n",
    "from llama_index.legacy.llms import OpenAI\n"
   ],
   "outputs": [],
   "execution_count": null
  },
  {
   "metadata": {},
   "cell_type": "code",
   "source": "from autorag.utils.preprocess import cast_corpus_dataset ",
   "id": "ad18832a7abf4e0a",
   "outputs": [],
   "execution_count": null
  },
  {
   "metadata": {},
   "cell_type": "code",
   "source": [
    "from llama_index.core import SimpleDirectoryReader\n",
    "from llama_index.core.node_parser import TokenTextSplitter\n",
    "\n",
    "documents = SimpleDirectoryReader(\"../data/genesis/\", recursive=True).load_data()"
   ],
   "id": "2c83562aca14afd1",
   "outputs": [],
   "execution_count": null
  },
  {
   "metadata": {},
   "cell_type": "code",
   "source": [
    "from autorag.data.legacy.corpus.llama_index import llama_text_node_to_parquet\n",
    "nodes = TokenTextSplitter().get_nodes_from_documents(documents=documents, chunk_size=256, chunk_overlap=64)\n",
    "corpus_df = llama_text_node_to_parquet(nodes)\n",
    "corpus_df = cast_corpus_dataset(corpus_df)\n",
    "corpus_df.to_parquet('../data/test_dataset/corpus_new.parquet')"
   ],
   "id": "4f2de746fd01fa8",
   "outputs": [],
   "execution_count": null
  },
  {
   "metadata": {},
   "cell_type": "markdown",
   "source": "# 질문생성",
   "id": "aa6ab39727969f9a"
  },
  {
   "metadata": {
    "ExecuteTime": {
     "end_time": "2024-12-04T13:55:05.712160Z",
     "start_time": "2024-12-04T13:55:05.709665Z"
    }
   },
   "cell_type": "code",
   "source": [
    "import nest_asyncio\n",
    "nest_asyncio.apply()"
   ],
   "id": "e1f928c08a570138",
   "outputs": [],
   "execution_count": 4
  },
  {
   "metadata": {
    "ExecuteTime": {
     "end_time": "2024-12-04T13:55:06.693536Z",
     "start_time": "2024-12-04T13:55:06.686238Z"
    }
   },
   "cell_type": "code",
   "source": [
    "from dotenv import load_dotenv\n",
    "load_dotenv()"
   ],
   "id": "24bf619e63e167bb",
   "outputs": [
    {
     "data": {
      "text/plain": [
       "True"
      ]
     },
     "execution_count": 5,
     "metadata": {},
     "output_type": "execute_result"
    }
   ],
   "execution_count": 5
  },
  {
   "metadata": {
    "ExecuteTime": {
     "end_time": "2024-12-04T13:55:07.948361Z",
     "start_time": "2024-12-04T13:55:07.944851Z"
    }
   },
   "cell_type": "code",
   "source": [
    "prompt = \"\"\"다음을 참고로 제네시스 차량 매뉴얼에 관한 내용을 만들었습니다.\n",
    "매뉴얼을 보고 할 만한 질문을 만드세요.\n",
    "반드시 제네시스 차량과 관련한 질문이어야 합니다.\n",
    "만약 주어진 매뉴얼 내용이 제네시스 차량과 관련되지 않았다면,\n",
    "'제네시스 차량과 관련 없었습니다.'라고 질문을 만드세요.\n",
    "\n",
    "매뉴얼:\n",
    "{{text}}\n",
    "\n",
    "생성할 질문 개수: {{num_questions}}\n",
    "\n",
    "예시:\n",
    "[Q]: 제네시스 차량의 타이어 공기압은 얼마인가요?\n",
    "[A]: 제네시스 차량의 타이어 공기압은 35 PSI입니다.\n",
    "\n",
    "제네시스 차량과 관련이 없는 매뉴얼의 경우 예시:\n",
    "[Q]: 제네시스 차량과 관련 없었습니다.\n",
    "[A]: 제네시스 차량과 관련 없었습니다.\n",
    "\"\"\""
   ],
   "id": "aafd58a092cd9fba",
   "outputs": [],
   "execution_count": 6
  },
  {
   "metadata": {
    "ExecuteTime": {
     "end_time": "2024-12-04T13:55:19.555655Z",
     "start_time": "2024-12-04T13:55:08.283123Z"
    }
   },
   "cell_type": "code",
   "source": [
    "import pandas as pd\n",
    "from llama_index.llms.openai import OpenAI\n",
    "from autorag.data.legacy.qacreation import make_single_content_qa, generate_qa_llama_index\n",
    "\n",
    "corpus_df = pd.read_parquet('../data/test_dataset/corpus_new.parquet', engine='pyarrow')\n",
    "llm = OpenAI(model='gpt-4o-mini', temperature=0.5)\n",
    "\n",
    "qa_df = make_single_content_qa(corpus_df=corpus_df, content_size=5, qa_creation_func=generate_qa_llama_index,\n",
    "                               llm=llm, prompt=prompt, question_num_per_content=2)"
   ],
   "id": "364795eee964788e",
   "outputs": [
    {
     "name": "stderr",
     "output_type": "stream",
     "text": [
      "0it [00:00, ?it/s]"
     ]
    },
    {
     "data": {
      "text/plain": [
       "\u001B[2;36m[12/04/24 22:55:10]\u001B[0m\u001B[2;36m \u001B[0m\u001B[34mINFO    \u001B[0m \u001B[1m[\u001B[0m_client.py:\u001B[1;36m1773\u001B[0m\u001B[1m]\u001B[0m >> HTTP Request: \u001B[1;33mPOST\u001B[0m                                \u001B]8;id=460521;file://E:\\TailorLink\\SKN03-FINAL-6Team\\TailorLink_LLM\\doc_retrieval_qa\\.venv\\Lib\\site-packages\\httpx\\_client.py\u001B\\\u001B[2m_client.py\u001B[0m\u001B]8;;\u001B\\\u001B[2m:\u001B[0m\u001B]8;id=962981;file://E:\\TailorLink\\SKN03-FINAL-6Team\\TailorLink_LLM\\doc_retrieval_qa\\.venv\\Lib\\site-packages\\httpx\\_client.py#1773\u001B\\\u001B[2m1773\u001B[0m\u001B]8;;\u001B\\\n",
       "\u001B[2;36m                    \u001B[0m         \u001B[4;94mhttps://api.openai.com/v1/chat/completions\u001B[0m \u001B[32m\"HTTP/1.1 200 OK\"\u001B[0m           \u001B[2m               \u001B[0m\n"
      ],
      "text/html": [
       "<pre style=\"white-space:pre;overflow-x:auto;line-height:normal;font-family:Menlo,'DejaVu Sans Mono',consolas,'Courier New',monospace\"><span style=\"color: #7fbfbf; text-decoration-color: #7fbfbf\">[12/04/24 22:55:10] </span><span style=\"color: #000080; text-decoration-color: #000080\">INFO    </span> <span style=\"font-weight: bold\">[</span>_client.py:<span style=\"color: #008080; text-decoration-color: #008080; font-weight: bold\">1773</span><span style=\"font-weight: bold\">]</span> &gt;&gt; HTTP Request: <span style=\"color: #808000; text-decoration-color: #808000; font-weight: bold\">POST</span>                                <a href=\"file://E:\\TailorLink\\SKN03-FINAL-6Team\\TailorLink_LLM\\doc_retrieval_qa\\.venv\\Lib\\site-packages\\httpx\\_client.py\" target=\"_blank\"><span style=\"color: #7f7f7f; text-decoration-color: #7f7f7f\">_client.py</span></a><span style=\"color: #7f7f7f; text-decoration-color: #7f7f7f\">:</span><a href=\"file://E:\\TailorLink\\SKN03-FINAL-6Team\\TailorLink_LLM\\doc_retrieval_qa\\.venv\\Lib\\site-packages\\httpx\\_client.py#1773\" target=\"_blank\"><span style=\"color: #7f7f7f; text-decoration-color: #7f7f7f\">1773</span></a>\n",
       "<span style=\"color: #7fbfbf; text-decoration-color: #7fbfbf\">                    </span>         <span style=\"color: #0000ff; text-decoration-color: #0000ff; text-decoration: underline\">https://api.openai.com/v1/chat/completions</span> <span style=\"color: #008000; text-decoration-color: #008000\">\"HTTP/1.1 200 OK\"</span>           <span style=\"color: #7f7f7f; text-decoration-color: #7f7f7f\">               </span>\n",
       "</pre>\n"
      ]
     },
     "metadata": {},
     "output_type": "display_data"
    },
    {
     "data": {
      "text/plain": [
       "\u001B[2;36m[12/04/24 22:55:11]\u001B[0m\u001B[2;36m \u001B[0m\u001B[34mINFO    \u001B[0m \u001B[1m[\u001B[0m_client.py:\u001B[1;36m1773\u001B[0m\u001B[1m]\u001B[0m >> HTTP Request: \u001B[1;33mPOST\u001B[0m                                \u001B]8;id=627588;file://E:\\TailorLink\\SKN03-FINAL-6Team\\TailorLink_LLM\\doc_retrieval_qa\\.venv\\Lib\\site-packages\\httpx\\_client.py\u001B\\\u001B[2m_client.py\u001B[0m\u001B]8;;\u001B\\\u001B[2m:\u001B[0m\u001B]8;id=941633;file://E:\\TailorLink\\SKN03-FINAL-6Team\\TailorLink_LLM\\doc_retrieval_qa\\.venv\\Lib\\site-packages\\httpx\\_client.py#1773\u001B\\\u001B[2m1773\u001B[0m\u001B]8;;\u001B\\\n",
       "\u001B[2;36m                    \u001B[0m         \u001B[4;94mhttps://api.openai.com/v1/chat/completions\u001B[0m \u001B[32m\"HTTP/1.1 200 OK\"\u001B[0m           \u001B[2m               \u001B[0m\n"
      ],
      "text/html": [
       "<pre style=\"white-space:pre;overflow-x:auto;line-height:normal;font-family:Menlo,'DejaVu Sans Mono',consolas,'Courier New',monospace\"><span style=\"color: #7fbfbf; text-decoration-color: #7fbfbf\">[12/04/24 22:55:11] </span><span style=\"color: #000080; text-decoration-color: #000080\">INFO    </span> <span style=\"font-weight: bold\">[</span>_client.py:<span style=\"color: #008080; text-decoration-color: #008080; font-weight: bold\">1773</span><span style=\"font-weight: bold\">]</span> &gt;&gt; HTTP Request: <span style=\"color: #808000; text-decoration-color: #808000; font-weight: bold\">POST</span>                                <a href=\"file://E:\\TailorLink\\SKN03-FINAL-6Team\\TailorLink_LLM\\doc_retrieval_qa\\.venv\\Lib\\site-packages\\httpx\\_client.py\" target=\"_blank\"><span style=\"color: #7f7f7f; text-decoration-color: #7f7f7f\">_client.py</span></a><span style=\"color: #7f7f7f; text-decoration-color: #7f7f7f\">:</span><a href=\"file://E:\\TailorLink\\SKN03-FINAL-6Team\\TailorLink_LLM\\doc_retrieval_qa\\.venv\\Lib\\site-packages\\httpx\\_client.py#1773\" target=\"_blank\"><span style=\"color: #7f7f7f; text-decoration-color: #7f7f7f\">1773</span></a>\n",
       "<span style=\"color: #7fbfbf; text-decoration-color: #7fbfbf\">                    </span>         <span style=\"color: #0000ff; text-decoration-color: #0000ff; text-decoration: underline\">https://api.openai.com/v1/chat/completions</span> <span style=\"color: #008000; text-decoration-color: #008000\">\"HTTP/1.1 200 OK\"</span>           <span style=\"color: #7f7f7f; text-decoration-color: #7f7f7f\">               </span>\n",
       "</pre>\n"
      ]
     },
     "metadata": {},
     "output_type": "display_data"
    },
    {
     "data": {
      "text/plain": [
       "\u001B[2;36m[12/04/24 22:55:12]\u001B[0m\u001B[2;36m \u001B[0m\u001B[34mINFO    \u001B[0m \u001B[1m[\u001B[0m_client.py:\u001B[1;36m1773\u001B[0m\u001B[1m]\u001B[0m >> HTTP Request: \u001B[1;33mPOST\u001B[0m                                \u001B]8;id=816707;file://E:\\TailorLink\\SKN03-FINAL-6Team\\TailorLink_LLM\\doc_retrieval_qa\\.venv\\Lib\\site-packages\\httpx\\_client.py\u001B\\\u001B[2m_client.py\u001B[0m\u001B]8;;\u001B\\\u001B[2m:\u001B[0m\u001B]8;id=254491;file://E:\\TailorLink\\SKN03-FINAL-6Team\\TailorLink_LLM\\doc_retrieval_qa\\.venv\\Lib\\site-packages\\httpx\\_client.py#1773\u001B\\\u001B[2m1773\u001B[0m\u001B]8;;\u001B\\\n",
       "\u001B[2;36m                    \u001B[0m         \u001B[4;94mhttps://api.openai.com/v1/chat/completions\u001B[0m \u001B[32m\"HTTP/1.1 200 OK\"\u001B[0m           \u001B[2m               \u001B[0m\n"
      ],
      "text/html": [
       "<pre style=\"white-space:pre;overflow-x:auto;line-height:normal;font-family:Menlo,'DejaVu Sans Mono',consolas,'Courier New',monospace\"><span style=\"color: #7fbfbf; text-decoration-color: #7fbfbf\">[12/04/24 22:55:12] </span><span style=\"color: #000080; text-decoration-color: #000080\">INFO    </span> <span style=\"font-weight: bold\">[</span>_client.py:<span style=\"color: #008080; text-decoration-color: #008080; font-weight: bold\">1773</span><span style=\"font-weight: bold\">]</span> &gt;&gt; HTTP Request: <span style=\"color: #808000; text-decoration-color: #808000; font-weight: bold\">POST</span>                                <a href=\"file://E:\\TailorLink\\SKN03-FINAL-6Team\\TailorLink_LLM\\doc_retrieval_qa\\.venv\\Lib\\site-packages\\httpx\\_client.py\" target=\"_blank\"><span style=\"color: #7f7f7f; text-decoration-color: #7f7f7f\">_client.py</span></a><span style=\"color: #7f7f7f; text-decoration-color: #7f7f7f\">:</span><a href=\"file://E:\\TailorLink\\SKN03-FINAL-6Team\\TailorLink_LLM\\doc_retrieval_qa\\.venv\\Lib\\site-packages\\httpx\\_client.py#1773\" target=\"_blank\"><span style=\"color: #7f7f7f; text-decoration-color: #7f7f7f\">1773</span></a>\n",
       "<span style=\"color: #7fbfbf; text-decoration-color: #7fbfbf\">                    </span>         <span style=\"color: #0000ff; text-decoration-color: #0000ff; text-decoration: underline\">https://api.openai.com/v1/chat/completions</span> <span style=\"color: #008000; text-decoration-color: #008000\">\"HTTP/1.1 200 OK\"</span>           <span style=\"color: #7f7f7f; text-decoration-color: #7f7f7f\">               </span>\n",
       "</pre>\n"
      ]
     },
     "metadata": {},
     "output_type": "display_data"
    },
    {
     "data": {
      "text/plain": [
       "\u001B[2;36m[12/04/24 22:55:16]\u001B[0m\u001B[2;36m \u001B[0m\u001B[34mINFO    \u001B[0m \u001B[1m[\u001B[0m_client.py:\u001B[1;36m1773\u001B[0m\u001B[1m]\u001B[0m >> HTTP Request: \u001B[1;33mPOST\u001B[0m                                \u001B]8;id=902495;file://E:\\TailorLink\\SKN03-FINAL-6Team\\TailorLink_LLM\\doc_retrieval_qa\\.venv\\Lib\\site-packages\\httpx\\_client.py\u001B\\\u001B[2m_client.py\u001B[0m\u001B]8;;\u001B\\\u001B[2m:\u001B[0m\u001B]8;id=577005;file://E:\\TailorLink\\SKN03-FINAL-6Team\\TailorLink_LLM\\doc_retrieval_qa\\.venv\\Lib\\site-packages\\httpx\\_client.py#1773\u001B\\\u001B[2m1773\u001B[0m\u001B]8;;\u001B\\\n",
       "\u001B[2;36m                    \u001B[0m         \u001B[4;94mhttps://api.openai.com/v1/chat/completions\u001B[0m \u001B[32m\"HTTP/1.1 200 OK\"\u001B[0m           \u001B[2m               \u001B[0m\n"
      ],
      "text/html": [
       "<pre style=\"white-space:pre;overflow-x:auto;line-height:normal;font-family:Menlo,'DejaVu Sans Mono',consolas,'Courier New',monospace\"><span style=\"color: #7fbfbf; text-decoration-color: #7fbfbf\">[12/04/24 22:55:16] </span><span style=\"color: #000080; text-decoration-color: #000080\">INFO    </span> <span style=\"font-weight: bold\">[</span>_client.py:<span style=\"color: #008080; text-decoration-color: #008080; font-weight: bold\">1773</span><span style=\"font-weight: bold\">]</span> &gt;&gt; HTTP Request: <span style=\"color: #808000; text-decoration-color: #808000; font-weight: bold\">POST</span>                                <a href=\"file://E:\\TailorLink\\SKN03-FINAL-6Team\\TailorLink_LLM\\doc_retrieval_qa\\.venv\\Lib\\site-packages\\httpx\\_client.py\" target=\"_blank\"><span style=\"color: #7f7f7f; text-decoration-color: #7f7f7f\">_client.py</span></a><span style=\"color: #7f7f7f; text-decoration-color: #7f7f7f\">:</span><a href=\"file://E:\\TailorLink\\SKN03-FINAL-6Team\\TailorLink_LLM\\doc_retrieval_qa\\.venv\\Lib\\site-packages\\httpx\\_client.py#1773\" target=\"_blank\"><span style=\"color: #7f7f7f; text-decoration-color: #7f7f7f\">1773</span></a>\n",
       "<span style=\"color: #7fbfbf; text-decoration-color: #7fbfbf\">                    </span>         <span style=\"color: #0000ff; text-decoration-color: #0000ff; text-decoration: underline\">https://api.openai.com/v1/chat/completions</span> <span style=\"color: #008000; text-decoration-color: #008000\">\"HTTP/1.1 200 OK\"</span>           <span style=\"color: #7f7f7f; text-decoration-color: #7f7f7f\">               </span>\n",
       "</pre>\n"
      ]
     },
     "metadata": {},
     "output_type": "display_data"
    },
    {
     "data": {
      "text/plain": [
       "\u001B[2;36m[12/04/24 22:55:19]\u001B[0m\u001B[2;36m \u001B[0m\u001B[34mINFO    \u001B[0m \u001B[1m[\u001B[0m_client.py:\u001B[1;36m1773\u001B[0m\u001B[1m]\u001B[0m >> HTTP Request: \u001B[1;33mPOST\u001B[0m                                \u001B]8;id=123474;file://E:\\TailorLink\\SKN03-FINAL-6Team\\TailorLink_LLM\\doc_retrieval_qa\\.venv\\Lib\\site-packages\\httpx\\_client.py\u001B\\\u001B[2m_client.py\u001B[0m\u001B]8;;\u001B\\\u001B[2m:\u001B[0m\u001B]8;id=588368;file://E:\\TailorLink\\SKN03-FINAL-6Team\\TailorLink_LLM\\doc_retrieval_qa\\.venv\\Lib\\site-packages\\httpx\\_client.py#1773\u001B\\\u001B[2m1773\u001B[0m\u001B]8;;\u001B\\\n",
       "\u001B[2;36m                    \u001B[0m         \u001B[4;94mhttps://api.openai.com/v1/chat/completions\u001B[0m \u001B[32m\"HTTP/1.1 200 OK\"\u001B[0m           \u001B[2m               \u001B[0m\n"
      ],
      "text/html": [
       "<pre style=\"white-space:pre;overflow-x:auto;line-height:normal;font-family:Menlo,'DejaVu Sans Mono',consolas,'Courier New',monospace\"><span style=\"color: #7fbfbf; text-decoration-color: #7fbfbf\">[12/04/24 22:55:19] </span><span style=\"color: #000080; text-decoration-color: #000080\">INFO    </span> <span style=\"font-weight: bold\">[</span>_client.py:<span style=\"color: #008080; text-decoration-color: #008080; font-weight: bold\">1773</span><span style=\"font-weight: bold\">]</span> &gt;&gt; HTTP Request: <span style=\"color: #808000; text-decoration-color: #808000; font-weight: bold\">POST</span>                                <a href=\"file://E:\\TailorLink\\SKN03-FINAL-6Team\\TailorLink_LLM\\doc_retrieval_qa\\.venv\\Lib\\site-packages\\httpx\\_client.py\" target=\"_blank\"><span style=\"color: #7f7f7f; text-decoration-color: #7f7f7f\">_client.py</span></a><span style=\"color: #7f7f7f; text-decoration-color: #7f7f7f\">:</span><a href=\"file://E:\\TailorLink\\SKN03-FINAL-6Team\\TailorLink_LLM\\doc_retrieval_qa\\.venv\\Lib\\site-packages\\httpx\\_client.py#1773\" target=\"_blank\"><span style=\"color: #7f7f7f; text-decoration-color: #7f7f7f\">1773</span></a>\n",
       "<span style=\"color: #7fbfbf; text-decoration-color: #7fbfbf\">                    </span>         <span style=\"color: #0000ff; text-decoration-color: #0000ff; text-decoration: underline\">https://api.openai.com/v1/chat/completions</span> <span style=\"color: #008000; text-decoration-color: #008000\">\"HTTP/1.1 200 OK\"</span>           <span style=\"color: #7f7f7f; text-decoration-color: #7f7f7f\">               </span>\n",
       "</pre>\n"
      ]
     },
     "metadata": {},
     "output_type": "display_data"
    },
    {
     "name": "stderr",
     "output_type": "stream",
     "text": [
      "1it [00:11, 11.26s/it]\n"
     ]
    }
   ],
   "execution_count": 7
  },
  {
   "metadata": {
    "ExecuteTime": {
     "end_time": "2024-12-04T14:00:52.989325Z",
     "start_time": "2024-12-04T14:00:52.983073Z"
    }
   },
   "cell_type": "code",
   "source": "qa_df.to_parquet('../data/test_dataset/corpus_new_test.parquet')",
   "id": "239652a122c7f2d7",
   "outputs": [],
   "execution_count": 9
  },
  {
   "metadata": {},
   "cell_type": "code",
   "outputs": [],
   "execution_count": null,
   "source": [
    "import \n",
    "\n",
    "\n",
    "\n",
    "\n"
   ],
   "id": "71e24b0157482249"
  }
 ],
 "metadata": {
  "kernelspec": {
   "display_name": "Python 3",
   "language": "python",
   "name": "python3"
  },
  "language_info": {
   "codemirror_mode": {
    "name": "ipython",
    "version": 2
   },
   "file_extension": ".py",
   "mimetype": "text/x-python",
   "name": "python",
   "nbconvert_exporter": "python",
   "pygments_lexer": "ipython2",
   "version": "2.7.6"
  }
 },
 "nbformat": 4,
 "nbformat_minor": 5
}
