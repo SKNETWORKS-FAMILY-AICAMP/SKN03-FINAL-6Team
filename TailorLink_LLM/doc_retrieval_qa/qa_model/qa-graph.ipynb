{
 "cells": [
  {
   "metadata": {
    "ExecuteTime": {
     "end_time": "2024-12-02T14:49:20.607955Z",
     "start_time": "2024-12-02T14:49:20.596537Z"
    }
   },
   "cell_type": "code",
   "source": [
    "from dotenv import load_dotenv\n",
    "load_dotenv()"
   ],
   "id": "2768323a40c83c15",
   "outputs": [
    {
     "data": {
      "text/plain": [
       "True"
      ]
     },
     "execution_count": 11,
     "metadata": {},
     "output_type": "execute_result"
    }
   ],
   "execution_count": 11
  },
  {
   "metadata": {
    "collapsed": true,
    "ExecuteTime": {
     "end_time": "2024-12-02T14:47:59.921582Z",
     "start_time": "2024-12-02T14:47:57.801400Z"
    }
   },
   "cell_type": "code",
   "source": [
    "# !pip install -U langgraph langsmith langchain_anthropic \n",
    "!pip install -qU langchain-openai\n",
    "!pip install openai"
   ],
   "id": "initial_id",
   "outputs": [
    {
     "name": "stdout",
     "output_type": "stream",
     "text": [
      "Requirement already satisfied: openai in e:\\tailorlink\\skn03-final-6team\\tailorlink_llm\\doc_retrieval_qa\\.venv\\lib\\site-packages (1.55.3)\n",
      "Requirement already satisfied: anyio<5,>=3.5.0 in e:\\tailorlink\\skn03-final-6team\\tailorlink_llm\\doc_retrieval_qa\\.venv\\lib\\site-packages (from openai) (4.6.2.post1)\n",
      "Requirement already satisfied: distro<2,>=1.7.0 in e:\\tailorlink\\skn03-final-6team\\tailorlink_llm\\doc_retrieval_qa\\.venv\\lib\\site-packages (from openai) (1.9.0)\n",
      "Requirement already satisfied: httpx<1,>=0.23.0 in e:\\tailorlink\\skn03-final-6team\\tailorlink_llm\\doc_retrieval_qa\\.venv\\lib\\site-packages (from openai) (0.28.0)\n",
      "Requirement already satisfied: jiter<1,>=0.4.0 in e:\\tailorlink\\skn03-final-6team\\tailorlink_llm\\doc_retrieval_qa\\.venv\\lib\\site-packages (from openai) (0.8.0)\n",
      "Requirement already satisfied: pydantic<3,>=1.9.0 in e:\\tailorlink\\skn03-final-6team\\tailorlink_llm\\doc_retrieval_qa\\.venv\\lib\\site-packages (from openai) (2.10.2)\n",
      "Requirement already satisfied: sniffio in e:\\tailorlink\\skn03-final-6team\\tailorlink_llm\\doc_retrieval_qa\\.venv\\lib\\site-packages (from openai) (1.3.1)\n",
      "Requirement already satisfied: tqdm>4 in e:\\tailorlink\\skn03-final-6team\\tailorlink_llm\\doc_retrieval_qa\\.venv\\lib\\site-packages (from openai) (4.67.1)\n",
      "Requirement already satisfied: typing-extensions<5,>=4.11 in e:\\tailorlink\\skn03-final-6team\\tailorlink_llm\\doc_retrieval_qa\\.venv\\lib\\site-packages (from openai) (4.12.2)\n",
      "Requirement already satisfied: idna>=2.8 in e:\\tailorlink\\skn03-final-6team\\tailorlink_llm\\doc_retrieval_qa\\.venv\\lib\\site-packages (from anyio<5,>=3.5.0->openai) (3.10)\n",
      "Requirement already satisfied: certifi in e:\\tailorlink\\skn03-final-6team\\tailorlink_llm\\doc_retrieval_qa\\.venv\\lib\\site-packages (from httpx<1,>=0.23.0->openai) (2024.8.30)\n",
      "Requirement already satisfied: httpcore==1.* in e:\\tailorlink\\skn03-final-6team\\tailorlink_llm\\doc_retrieval_qa\\.venv\\lib\\site-packages (from httpx<1,>=0.23.0->openai) (1.0.7)\n",
      "Requirement already satisfied: h11<0.15,>=0.13 in e:\\tailorlink\\skn03-final-6team\\tailorlink_llm\\doc_retrieval_qa\\.venv\\lib\\site-packages (from httpcore==1.*->httpx<1,>=0.23.0->openai) (0.14.0)\n",
      "Requirement already satisfied: annotated-types>=0.6.0 in e:\\tailorlink\\skn03-final-6team\\tailorlink_llm\\doc_retrieval_qa\\.venv\\lib\\site-packages (from pydantic<3,>=1.9.0->openai) (0.7.0)\n",
      "Requirement already satisfied: pydantic-core==2.27.1 in e:\\tailorlink\\skn03-final-6team\\tailorlink_llm\\doc_retrieval_qa\\.venv\\lib\\site-packages (from pydantic<3,>=1.9.0->openai) (2.27.1)\n",
      "Requirement already satisfied: colorama in e:\\tailorlink\\skn03-final-6team\\tailorlink_llm\\doc_retrieval_qa\\.venv\\lib\\site-packages (from tqdm>4->openai) (0.4.6)\n"
     ]
    }
   ],
   "execution_count": 10
  },
  {
   "metadata": {
    "ExecuteTime": {
     "end_time": "2024-12-02T14:45:42.675258Z",
     "start_time": "2024-12-02T14:45:42.672422Z"
    }
   },
   "cell_type": "code",
   "source": [
    "from typing import Annotated\n",
    "\n",
    "from typing_extensions import TypedDict\n",
    "\n",
    "from langgraph.graph import StateGraph, START, END\n",
    "from langgraph.graph.message import add_messages\n",
    "\n",
    "\n",
    "class State(TypedDict):\n",
    "    # Messages have the type \"list\". The `add_messages` function\n",
    "    # in the annotation defines how this state key should be updated\n",
    "    # (in this case, it appends messages to the list, rather than overwriting them)\n",
    "    messages: Annotated[list, add_messages]\n",
    "\n",
    "\n",
    "graph_builder = StateGraph(State)"
   ],
   "id": "625058a86dd5d0f5",
   "outputs": [],
   "execution_count": 8
  },
  {
   "metadata": {
    "ExecuteTime": {
     "end_time": "2024-12-02T14:59:15.446047Z",
     "start_time": "2024-12-02T14:59:15.184705Z"
    }
   },
   "cell_type": "code",
   "source": [
    "from langchain_openai import ChatOpenAI\n",
    "\n",
    "llm = ChatOpenAI(model=\"gpt-4o-mini\")\n",
    "\n",
    "def searchFAQ(state: State):\n",
    "    return {\"messages\": [llm.invoke(state[\"messages\"])]}\n",
    "\n",
    "def searchVectorDB(state: State):\n",
    "    return {\"messages\": [llm.invoke(state[\"messages\"])]}\n",
    "# The first argument is the unique node name\n",
    "# The second argument is the function or object that will be called whenever\n",
    "# the node is used.\n",
    "graph_builder.add_node(\"searchFAQ\", searchFAQ)\n",
    "graph_builder.add_node(\"searchVectorDB\", searchVectorDB)"
   ],
   "id": "f98938b4f2547e44",
   "outputs": [
    {
     "name": "stderr",
     "output_type": "stream",
     "text": [
      "Adding a node to a graph that has already been compiled. This will not be reflected in the compiled graph.\n",
      "Adding a node to a graph that has already been compiled. This will not be reflected in the compiled graph.\n"
     ]
    },
    {
     "data": {
      "text/plain": [
       "<langgraph.graph.state.StateGraph at 0x20253385b80>"
      ]
     },
     "execution_count": 17,
     "metadata": {},
     "output_type": "execute_result"
    }
   ],
   "execution_count": 17
  },
  {
   "metadata": {
    "ExecuteTime": {
     "end_time": "2024-12-02T14:59:47.478616Z",
     "start_time": "2024-12-02T14:59:47.474935Z"
    }
   },
   "cell_type": "code",
   "source": [
    "graph_builder.add_edge(START, \"searchFAQ\")\n",
    "graph_builder.add_edge(\"searchFAQ\", \"searchVectorDB\")\n",
    "graph_builder.add_edge(\"searchVectorDB\", END)\n",
    "graph = graph_builder.compile()"
   ],
   "id": "97fe2df65190965a",
   "outputs": [
    {
     "name": "stderr",
     "output_type": "stream",
     "text": [
      "Adding an edge to a graph that has already been compiled. This will not be reflected in the compiled graph.\n",
      "Adding an edge to a graph that has already been compiled. This will not be reflected in the compiled graph.\n",
      "Adding an edge to a graph that has already been compiled. This will not be reflected in the compiled graph.\n"
     ]
    }
   ],
   "execution_count": 19
  },
  {
   "metadata": {
    "ExecuteTime": {
     "end_time": "2024-12-02T14:59:53.432572Z",
     "start_time": "2024-12-02T14:59:52.103885Z"
    }
   },
   "cell_type": "code",
   "source": [
    "from IPython.display import Image, display\n",
    "\n",
    "try:\n",
    "    display(Image(graph.get_graph().draw_mermaid_png()))\n",
    "except Exception:\n",
    "    # This requires some extra dependencies and is optional\n",
    "    pass"
   ],
   "id": "95ae7658a6ddd1b1",
   "outputs": [
    {
     "data": {
      "image/png": "[encoded data removed]",
      "text/plain": [
       "<IPython.core.display.Image object>"
      ]
     },
     "metadata": {},
     "output_type": "display_data"
    }
   ],
   "execution_count": 20
  },
  {
   "metadata": {},
   "cell_type": "code",
   "outputs": [],
   "execution_count": null,
   "source": "graph.invoke({'messages': ''})",
   "id": "a364bbcd83a0bdcf"
  },
  {
   "metadata": {},
   "cell_type": "code",
   "outputs": [],
   "execution_count": null,
   "source": "",
   "id": "eac8ac4ba0038d44"
  }
 ],
 "metadata": {
  "kernelspec": {
   "display_name": "Python 3",
   "language": "python",
   "name": "python3"
  },
  "language_info": {
   "codemirror_mode": {
    "name": "ipython",
    "version": 2
   },
   "file_extension": ".py",
   "mimetype": "text/x-python",
   "name": "python",
   "nbconvert_exporter": "python",
   "pygments_lexer": "ipython2",
   "version": "2.7.6"
  }
 },
 "nbformat": 4,
 "nbformat_minor": 5
}
