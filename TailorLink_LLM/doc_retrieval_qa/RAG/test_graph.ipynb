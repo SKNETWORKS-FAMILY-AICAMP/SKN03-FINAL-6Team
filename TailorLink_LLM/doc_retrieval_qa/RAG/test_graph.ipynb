{
 "cells": [
  {
   "metadata": {
    "ExecuteTime": {
     "end_time": "2024-12-09T14:41:51.922573Z",
     "start_time": "2024-12-09T14:41:51.914096Z"
    }
   },
   "cell_type": "code",
   "source": [
    "from dotenv import load_dotenv\n",
    "load_dotenv()"
   ],
   "id": "5766ece527cff35b",
   "outputs": [
    {
     "data": {
      "text/plain": [
       "True"
      ]
     },
     "execution_count": 1,
     "metadata": {},
     "output_type": "execute_result"
    }
   ],
   "execution_count": 1
  },
  {
   "metadata": {
    "ExecuteTime": {
     "end_time": "2024-12-09T14:41:51.946450Z",
     "start_time": "2024-12-09T14:41:51.942224Z"
    }
   },
   "cell_type": "code",
   "source": [
    "from langchain_teddynote import logging\n",
    "logging.langsmith('test_node')"
   ],
   "id": "f620fe166fdb841f",
   "outputs": [
    {
     "name": "stdout",
     "output_type": "stream",
     "text": [
      "LangSmith 추적을 시작합니다.\n",
      "[프로젝트명]\n",
      "test_node\n"
     ]
    }
   ],
   "execution_count": 2
  },
  {
   "cell_type": "code",
   "id": "initial_id",
   "metadata": {
    "collapsed": true,
    "ExecuteTime": {
     "end_time": "2024-12-09T14:41:52.648731Z",
     "start_time": "2024-12-09T14:41:52.061421Z"
    }
   },
   "source": [
    "from langgraph.graph import StateGraph, START, END\n",
    "from RAG.types import State"
   ],
   "outputs": [],
   "execution_count": 3
  },
  {
   "metadata": {
    "ExecuteTime": {
     "end_time": "2024-12-09T14:41:52.658112Z",
     "start_time": "2024-12-09T14:41:52.655634Z"
    }
   },
   "cell_type": "code",
   "source": "graph_builder = StateGraph(State)",
   "id": "a2bb653278bfe47d",
   "outputs": [],
   "execution_count": 4
  },
  {
   "metadata": {
    "ExecuteTime": {
     "end_time": "2024-12-09T14:41:57.209046Z",
     "start_time": "2024-12-09T14:41:52.663599Z"
    }
   },
   "cell_type": "code",
   "source": "from RAG.nodes.nodes import genesis_check, query_rewrite, vector_search, calculate_score,genesis_check_conditional,calculate_score_conditional\n",
   "id": "c24eafcc62a1a290",
   "outputs": [
    {
     "data": {
      "text/plain": [
       "Fetching 30 files:   0%|          | 0/30 [00:00<?, ?it/s]"
      ],
      "application/vnd.jupyter.widget-view+json": {
       "version_major": 2,
       "version_minor": 0,
       "model_id": "9940f8557b1e4dac9ea2e9bfa524bdba"
      }
     },
     "metadata": {},
     "output_type": "display_data"
    }
   ],
   "execution_count": 5
  },
  {
   "metadata": {
    "ExecuteTime": {
     "end_time": "2024-12-09T14:41:57.216963Z",
     "start_time": "2024-12-09T14:41:57.213577Z"
    }
   },
   "cell_type": "code",
   "source": [
    "graph_builder.add_node(\"genesis_check\", genesis_check)\n",
    "graph_builder.add_node(\"vector_search\", vector_search)\n",
    "graph_builder.add_node(\"calculate_score\", calculate_score)\n",
    "graph_builder.add_node(\"query_rewrite\", query_rewrite)"
   ],
   "id": "69a838dec0691abe",
   "outputs": [
    {
     "data": {
      "text/plain": [
       "<langgraph.graph.state.StateGraph at 0x1ce022c5610>"
      ]
     },
     "execution_count": 6,
     "metadata": {},
     "output_type": "execute_result"
    }
   ],
   "execution_count": 6
  },
  {
   "metadata": {
    "ExecuteTime": {
     "end_time": "2024-12-09T14:41:57.240470Z",
     "start_time": "2024-12-09T14:41:57.237243Z"
    }
   },
   "cell_type": "code",
   "source": [
    "# START > chatbot\n",
    "graph_builder.add_edge(START, \"genesis_check\")\n",
    "graph_builder.add_edge('query_rewrite', \"vector_search\")\n",
    "graph_builder.add_edge('vector_search', \"calculate_score\")\n",
    "graph_builder.add_edge('query_rewrite', \"vector_search\")"
   ],
   "id": "f878f03dd1b3b20e",
   "outputs": [
    {
     "data": {
      "text/plain": [
       "<langgraph.graph.state.StateGraph at 0x1ce022c5610>"
      ]
     },
     "execution_count": 7,
     "metadata": {},
     "output_type": "execute_result"
    }
   ],
   "execution_count": 7
  },
  {
   "metadata": {
    "ExecuteTime": {
     "end_time": "2024-12-09T14:41:57.263651Z",
     "start_time": "2024-12-09T14:41:57.260631Z"
    }
   },
   "cell_type": "code",
   "source": [
    "graph_builder.add_conditional_edges(\n",
    "    'genesis_check',\n",
    "    genesis_check_conditional,\n",
    "    path_map={\"search\": \"vector_search\", END: END},\n",
    ")\n",
    "\n",
    "graph_builder.add_conditional_edges(\n",
    "    \"calculate_score\",\n",
    "    calculate_score_conditional,\n",
    "    path_map={\"rewrite\": \"query_rewrite\", END: END},\n",
    ")"
   ],
   "id": "ea9efca6e0187436",
   "outputs": [
    {
     "data": {
      "text/plain": [
       "<langgraph.graph.state.StateGraph at 0x1ce022c5610>"
      ]
     },
     "execution_count": 8,
     "metadata": {},
     "output_type": "execute_result"
    }
   ],
   "execution_count": 8
  },
  {
   "metadata": {
    "ExecuteTime": {
     "end_time": "2024-12-09T14:41:57.270664Z",
     "start_time": "2024-12-09T14:41:57.267582Z"
    }
   },
   "cell_type": "code",
   "source": [
    "# 그래프 컴파일\n",
    "graph = graph_builder.compile()"
   ],
   "id": "75674403285faf64",
   "outputs": [],
   "execution_count": 9
  },
  {
   "metadata": {
    "ExecuteTime": {
     "end_time": "2024-12-09T14:41:57.737785Z",
     "start_time": "2024-12-09T14:41:57.290266Z"
    }
   },
   "cell_type": "code",
   "source": [
    "from langchain_teddynote.graphs import visualize_graph\n",
    "\n",
    "# 그래프 시각화\n",
    "visualize_graph(graph)"
   ],
   "id": "1702cd76c4308f6",
   "outputs": [
    {
     "data": {
      "image/png": "[encoded data removed]",
      "text/plain": [
       "<IPython.core.display.Image object>"
      ]
     },
     "metadata": {},
     "output_type": "display_data"
    }
   ],
   "execution_count": 10
  },
  {
   "metadata": {
    "ExecuteTime": {
     "end_time": "2024-12-09T14:42:11.944457Z",
     "start_time": "2024-12-09T14:41:57.743062Z"
    }
   },
   "cell_type": "code",
   "source": [
    "state: State = {\n",
    "    \"message\":'엔진오일 교체?',\n",
    "    \"context\": [],\n",
    "    \"answer\": \"\",\n",
    "    \"change_count\": 0,\n",
    "    \"is_valid_question\": False,\n",
    "    \"is_pass\": False,\n",
    "    \"previous_question\": [],\n",
    "    \"best_answer\": \"\",\n",
    "    \"best_score\": 0,\n",
    "}\n",
    "\n",
    "\n",
    "res= graph.invoke(state)"
   ],
   "id": "46d39850ebe1f17a",
   "outputs": [
    {
     "name": "stdout",
     "output_type": "stream",
     "text": [
      "판단 시작\n"
     ]
    },
    {
     "name": "stderr",
     "output_type": "stream",
     "text": [
      "You're using a XLMRobertaTokenizerFast tokenizer. Please note that with a fast tokenizer, using the `__call__` method is faster than using a method to encode the text followed by a call to the `pad` method to get a padded encoding.\n"
     ]
    },
    {
     "name": "stdout",
     "output_type": "stream",
     "text": [
      "벡터 조회\n",
      "Embeddings: {'dense': [array([-0.05930534, -0.00864981, -0.02001063, ...,  0.00549147,\n",
      "       -0.02399952, -0.0019387 ], dtype=float32)], 'sparse': <Compressed Sparse Row sparse array of dtype 'float64'\n",
      "\twith 5 stored elements and shape (1, 250002)>}\n",
      "Dense query dim: 1024 (1024,)\n",
      "Sparse query dim: 250002 (250002,)\n",
      "Connected to Milvus\n",
      "점수 측정\n",
      "점수: 100 \n"
     ]
    }
   ],
   "execution_count": 11
  },
  {
   "metadata": {
    "ExecuteTime": {
     "end_time": "2024-12-09T14:42:11.950817Z",
     "start_time": "2024-12-09T14:42:11.948145Z"
    }
   },
   "cell_type": "code",
   "source": "print(res['best_answer'])",
   "id": "974901772c21350f",
   "outputs": [
    {
     "name": "stdout",
     "output_type": "stream",
     "text": [
      "### 질문에 대한 답변:  \n",
      "엔진 오일 교체는 차량의 엔진을 최적의 상태로 유지하기 위해 매우 중요합니다. 엔진 오일은 윤활, 냉각, 세정 등의 역할을 하며, 시간이 지남에 따라 그 효과가 감소합니다. 따라서 정기적으로 엔진 오일과 필터를 교체해야 합니다.\n",
      "\n",
      "1. **교체 주기**: 엔진 오일 및 필터는 매 10,000 km 또는 12개월마다 교체하는 것이 권장됩니다. 그러나 운전 성향이나 기후 조건에 따라 교체 주기를 조정해야 할 수 있습니다. 예를 들어, 고속주행이나 잦은 정지와 출발을 반복하는 경우, 오일 소모가 증가할 수 있습니다.\n",
      "\n",
      "2. **오일 점검 및 보충**: 엔진 오일의 양은 정기적으로 점검해야 하며, 레벨 게이지를 사용하여 확인합니다. 오일 양이 L선 이하일 경우, 주입구를 열고 오일을 F선까지 보충해야 합니다. 오일을 보충할 때는 먼지 등이 들어가지 않도록 주의해야 합니다.\n",
      "\n",
      "3. **오일 교체 방법**:\n",
      "   - 차량을 평지에 주차하고 엔진을 예열합니다.\n",
      "   - 시동을 끄고 엔진 후드를 열어 엔진 오일 주입구 캡과 레벨 게이지를 뽑습니다.\n",
      "   - 오일 팬의 유면이 안정될 때까지 약 15분 기다립니다.\n",
      "   - 오일을 교체한 후에는 엔진 오일 잔여 수명을 초기화해야 합니다.\n",
      "\n",
      "4. **폐기물 처리**: 사용한 오일과 필터는 법적으로 정해진 방법으로 처리해야 하며, 반드시 직영 하이테크센터나 블루핸즈에서 교체하는 것이 좋습니다.\n",
      "\n",
      "5. **주의사항**: 엔진 오일 첨가제를 사용하지 말고, 추천된 엔진 오일과 필터를 사용하는 것이 중요합니다. 품질이 부적합한 오일 필터를 사용하면 누유나 엔진 손상이 발생할 수 있습니다.\n",
      "\n",
      "### 출처:  \n",
      "1. CONTEXT 기반 정보: 엔진 오일 및 필터의 교체 주기, 점검 방법, 폐기물 처리 방법 등.\n"
     ]
    }
   ],
   "execution_count": 12
  },
  {
   "metadata": {
    "ExecuteTime": {
     "end_time": "2024-12-09T14:42:12.048409Z",
     "start_time": "2024-12-09T14:42:12.046316Z"
    }
   },
   "cell_type": "code",
   "source": "",
   "id": "3b48d3c456165616",
   "outputs": [],
   "execution_count": null
  },
  {
   "metadata": {
    "ExecuteTime": {
     "end_time": "2024-12-09T14:42:12.053989Z",
     "start_time": "2024-12-09T14:42:12.051935Z"
    }
   },
   "cell_type": "code",
   "source": "",
   "id": "f80c9a8df1db798a",
   "outputs": [],
   "execution_count": null
  }
 ],
 "metadata": {
  "kernelspec": {
   "display_name": "Python 3",
   "language": "python",
   "name": "python3"
  },
  "language_info": {
   "codemirror_mode": {
    "name": "ipython",
    "version": 2
   },
   "file_extension": ".py",
   "mimetype": "text/x-python",
   "name": "python",
   "nbconvert_exporter": "python",
   "pygments_lexer": "ipython2",
   "version": "2.7.6"
  }
 },
 "nbformat": 4,
 "nbformat_minor": 5
}
