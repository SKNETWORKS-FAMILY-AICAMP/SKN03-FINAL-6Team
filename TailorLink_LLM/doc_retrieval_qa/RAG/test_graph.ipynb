{
 "cells": [
  {
   "metadata": {},
   "cell_type": "markdown",
   "source": "",
   "id": "46d3bd0f0c4018f5"
  },
  {
   "metadata": {
    "ExecuteTime": {
     "end_time": "2024-12-16T05:32:47.945645Z",
     "start_time": "2024-12-16T05:32:47.936095Z"
    }
   },
   "cell_type": "code",
   "source": [
    "from dotenv import load_dotenv\n",
    "load_dotenv()"
   ],
   "id": "5766ece527cff35b",
   "outputs": [
    {
     "data": {
      "text/plain": [
       "True"
      ]
     },
     "execution_count": 1,
     "metadata": {},
     "output_type": "execute_result"
    }
   ],
   "execution_count": 1
  },
  {
   "metadata": {},
   "cell_type": "markdown",
   "source": "",
   "id": "3ea5cd859b344b3d"
  },
  {
   "metadata": {
    "ExecuteTime": {
     "end_time": "2024-12-16T05:32:47.968555Z",
     "start_time": "2024-12-16T05:32:47.964666Z"
    }
   },
   "cell_type": "code",
   "source": [
    "from langchain_teddynote import logging\n",
    "logging.langsmith('test_node')"
   ],
   "id": "f620fe166fdb841f",
   "outputs": [
    {
     "name": "stdout",
     "output_type": "stream",
     "text": [
      "LangSmith 추적을 시작합니다.\n",
      "[프로젝트명]\n",
      "test_node\n"
     ]
    }
   ],
   "execution_count": 2
  },
  {
   "metadata": {
    "ExecuteTime": {
     "end_time": "2024-12-15T15:27:46.279680Z",
     "start_time": "2024-12-15T15:27:45.954415Z"
    }
   },
   "cell_type": "code",
   "source": [
    "from RAG.database.milvus_connector import connect_to_milvus\n",
    "connect_to_milvus()"
   ],
   "id": "c95cf01ff7086281",
   "outputs": [
    {
     "name": "stdout",
     "output_type": "stream",
     "text": [
      "Connected to Milvus-tailorlink\n"
     ]
    }
   ],
   "execution_count": 13
  },
  {
   "cell_type": "code",
   "id": "initial_id",
   "metadata": {
    "collapsed": true,
    "ExecuteTime": {
     "end_time": "2024-12-15T15:23:58.806711Z",
     "start_time": "2024-12-15T15:23:58.260665Z"
    }
   },
   "source": [
    "from langgraph.graph import StateGraph, START, END\n",
    "from RAG.types import State"
   ],
   "outputs": [],
   "execution_count": 3
  },
  {
   "metadata": {
    "ExecuteTime": {
     "end_time": "2024-12-15T15:23:58.818691Z",
     "start_time": "2024-12-15T15:23:58.816271Z"
    }
   },
   "cell_type": "code",
   "source": "graph_builder = StateGraph(State)",
   "id": "a2bb653278bfe47d",
   "outputs": [],
   "execution_count": 4
  },
  {
   "metadata": {
    "ExecuteTime": {
     "end_time": "2024-12-15T15:24:04.007976Z",
     "start_time": "2024-12-15T15:23:58.830355Z"
    }
   },
   "cell_type": "code",
   "source": "from RAG.nodes.nodes import genesis_check, query_rewrite, vector_search, calculate_score,genesis_check_conditional,calculate_score_conditional\n",
   "id": "c24eafcc62a1a290",
   "outputs": [
    {
     "data": {
      "text/plain": [
       "Fetching 30 files:   0%|          | 0/30 [00:00<?, ?it/s]"
      ],
      "application/vnd.jupyter.widget-view+json": {
       "version_major": 2,
       "version_minor": 0,
       "model_id": "2306a87dd7f64a08a3e1ea268c8ef0ae"
      }
     },
     "metadata": {},
     "output_type": "display_data"
    }
   ],
   "execution_count": 5
  },
  {
   "metadata": {
    "ExecuteTime": {
     "end_time": "2024-12-15T15:24:04.017160Z",
     "start_time": "2024-12-15T15:24:04.014320Z"
    }
   },
   "cell_type": "code",
   "source": [
    "graph_builder.add_node(\"genesis_check\", genesis_check)\n",
    "graph_builder.add_node(\"vector_search\", vector_search)\n",
    "graph_builder.add_node(\"calculate_score\", calculate_score)\n",
    "graph_builder.add_node(\"query_rewrite\", query_rewrite)"
   ],
   "id": "69a838dec0691abe",
   "outputs": [
    {
     "data": {
      "text/plain": [
       "<langgraph.graph.state.StateGraph at 0x266ff202e70>"
      ]
     },
     "execution_count": 6,
     "metadata": {},
     "output_type": "execute_result"
    }
   ],
   "execution_count": 6
  },
  {
   "metadata": {
    "ExecuteTime": {
     "end_time": "2024-12-15T15:24:04.036279Z",
     "start_time": "2024-12-15T15:24:04.033395Z"
    }
   },
   "cell_type": "code",
   "source": [
    "# START > chatbot\n",
    "graph_builder.add_edge(START, \"genesis_check\")\n",
    "graph_builder.add_edge('query_rewrite', \"vector_search\")\n",
    "graph_builder.add_edge('vector_search', \"calculate_score\")\n",
    "graph_builder.add_edge('query_rewrite', \"vector_search\")"
   ],
   "id": "f878f03dd1b3b20e",
   "outputs": [
    {
     "data": {
      "text/plain": [
       "<langgraph.graph.state.StateGraph at 0x266ff202e70>"
      ]
     },
     "execution_count": 7,
     "metadata": {},
     "output_type": "execute_result"
    }
   ],
   "execution_count": 7
  },
  {
   "metadata": {
    "ExecuteTime": {
     "end_time": "2024-12-15T15:24:04.055561Z",
     "start_time": "2024-12-15T15:24:04.053078Z"
    }
   },
   "cell_type": "code",
   "source": [
    "graph_builder.add_conditional_edges(\n",
    "    'genesis_check',\n",
    "    genesis_check_conditional,\n",
    "    path_map={\"search\": \"vector_search\", END: END},\n",
    ")\n",
    "\n",
    "graph_builder.add_conditional_edges(\n",
    "    \"calculate_score\",\n",
    "    calculate_score_conditional,\n",
    "    path_map={\"rewrite\": \"query_rewrite\", END: END},\n",
    ")"
   ],
   "id": "ea9efca6e0187436",
   "outputs": [
    {
     "data": {
      "text/plain": [
       "<langgraph.graph.state.StateGraph at 0x266ff202e70>"
      ]
     },
     "execution_count": 8,
     "metadata": {},
     "output_type": "execute_result"
    }
   ],
   "execution_count": 8
  },
  {
   "metadata": {
    "ExecuteTime": {
     "end_time": "2024-12-15T15:24:04.074296Z",
     "start_time": "2024-12-15T15:24:04.071567Z"
    }
   },
   "cell_type": "code",
   "source": [
    "# 그래프 컴파일\n",
    "graph = graph_builder.compile()"
   ],
   "id": "75674403285faf64",
   "outputs": [],
   "execution_count": 9
  },
  {
   "metadata": {
    "ExecuteTime": {
     "end_time": "2024-12-15T15:24:05.831732Z",
     "start_time": "2024-12-15T15:24:04.086468Z"
    }
   },
   "cell_type": "code",
   "source": [
    "from langchain_teddynote.graphs import visualize_graph\n",
    "\n",
    "# 그래프 시각화\n",
    "visualize_graph(graph)"
   ],
   "id": "1702cd76c4308f6",
   "outputs": [
    {
     "data": {
      "image/png": "[encoded data removed]",
      "text/plain": [
       "<IPython.core.display.Image object>"
      ]
     },
     "metadata": {},
     "output_type": "display_data"
    }
   ],
   "execution_count": 10
  },
  {
   "metadata": {
    "ExecuteTime": {
     "end_time": "2024-12-15T15:28:05.297960Z",
     "start_time": "2024-12-15T15:27:52.636472Z"
    }
   },
   "cell_type": "code",
   "source": [
    "state: State = {\n",
    "    \"message\":'파워트렁크는 뭐야??',\n",
    "    \"context\": [],\n",
    "    \"answer\": \"\",\n",
    "    \"change_count\": 0,\n",
    "    \"is_valid_question\": False,\n",
    "    \"is_pass\": False,\n",
    "    \"previous_question\": [],\n",
    "    \"best_answer\": \"\",\n",
    "    \"best_score\": 0,\n",
    "}\n",
    "\n",
    "\n",
    "res= graph.invoke(state)"
   ],
   "id": "46d39850ebe1f17a",
   "outputs": [
    {
     "name": "stdout",
     "output_type": "stream",
     "text": [
      "판단 시작\n",
      "벡터 조회\n",
      "Embeddings: {'dense': [array([ 0.00348099, -0.0265577 , -0.01553365, ..., -0.01481336,\n",
      "       -0.02737851, -0.02662311], dtype=float32)], 'sparse': <Compressed Sparse Row sparse array of dtype 'float64'\n",
      "\twith 9 stored elements and shape (1, 250002)>}\n",
      "Dense query dim: 1024 (1024,)\n",
      "Sparse query dim: 250002 (250002,)\n",
      "점수 측정\n",
      "점수: 100 \n"
     ]
    }
   ],
   "execution_count": 14
  },
  {
   "metadata": {
    "ExecuteTime": {
     "end_time": "2024-12-15T15:24:08.419020100Z",
     "start_time": "2024-12-12T06:35:24.122383Z"
    }
   },
   "cell_type": "code",
   "source": "print(res['best_answer'])",
   "id": "974901772c21350f",
   "outputs": [
    {
     "name": "stdout",
     "output_type": "stream",
     "text": [
      "### 질문에 대한 답변:  \n",
      "G90의 파워 트렁크는 차량의 트렁크를 자동으로 열고 닫을 수 있는 시스템입니다. 이 시스템은 사용자가 트렁크를 위로 올리거나 아래로 내릴 때, 일정한 힘을 감지하여 자동으로 작동합니다. \n",
      "\n",
      "- **작동 방식**: \n",
      "  - 트렁크를 위로 올리면 파워 트렁크 시스템이 이를 감지하여 트렁크를 완전히 엽니다.\n",
      "  - 트렁크를 아래로 내리면 시스템이 트렁크를 완전히 닫습니다.\n",
      "  - 만약 물체의 끼임이 감지되면 작동이 멈추고, 사용자는 수동으로 트렁크를 열거나 닫아야 합니다.\n",
      "\n",
      "- **안전 기능**: \n",
      "  - 트렁크가 일정 높이 이상 열려 있지 않으면 기능이 작동하지 않을 수 있으며, 경사가 있는 곳에서는 트렁크가 완전히 열리기 전에 정지할 수 있습니다.\n",
      "  - 트렁크가 닫히는 도중에 버튼에서 손을 떼면 작동이 멈추고 경고음이 울립니다.\n",
      "\n",
      "- **스마트 키 사용**: \n",
      "  - 차량이 잠긴 상태에서 스마트 키를 소지하고 버튼을 누르면 트렁크가 열리며, 버튼을 길게 누르면 트렁크가 닫힙니다. \n",
      "\n",
      "이러한 기능들은 사용자의 편의성을 높이고, 부상이나 사고를 예방하는 데 도움을 줍니다.\n",
      "\n",
      "### 출처:  \n",
      "1. CONTEXT 기반 정보: 파워 트렁크 시스템의 작동 방식 및 안전 기능에 대한 설명.\n"
     ]
    }
   ],
   "execution_count": 15
  },
  {
   "metadata": {
    "ExecuteTime": {
     "end_time": "2024-12-15T15:24:08.419020100Z",
     "start_time": "2024-12-12T06:35:02.407757Z"
    }
   },
   "cell_type": "code",
   "source": [
    "from RAG.database.milvus_connector import connect_to_milvus\n",
    "connect_to_milvus()"
   ],
   "id": "f80c9a8df1db798a",
   "outputs": [
    {
     "name": "stdout",
     "output_type": "stream",
     "text": [
      "Connected to Milvus-tailorlink\n"
     ]
    }
   ],
   "execution_count": 13
  },
  {
   "metadata": {
    "ExecuteTime": {
     "end_time": "2024-12-15T15:24:08.419020100Z",
     "start_time": "2024-12-10T15:14:40.135355Z"
    }
   },
   "cell_type": "code",
   "source": [
    "from langchain.tools import tool\n",
    "from RAG.tools.milvus_search import dense_search, hybrid_search, sparse_search\n",
    "from RAG.llm.embedding import generate_query_embedding\n",
    "from RAG.database.milvus_connector import get_collection\n"
   ],
   "id": "9af7cf8fd99d24fd",
   "outputs": [
    {
     "data": {
      "text/plain": [
       "Fetching 30 files:   0%|          | 0/30 [00:00<?, ?it/s]"
      ],
      "application/vnd.jupyter.widget-view+json": {
       "version_major": 2,
       "version_minor": 0,
       "model_id": "551dd6fcda4e4968ac11347bea40cdea"
      }
     },
     "metadata": {},
     "output_type": "display_data"
    }
   ],
   "execution_count": 1
  },
  {
   "metadata": {
    "ExecuteTime": {
     "end_time": "2024-12-15T15:24:08.419020100Z",
     "start_time": "2024-12-10T15:12:44.853422Z"
    }
   },
   "cell_type": "code",
   "source": [
    "from langchain.tools import Tool\n",
    "\n",
    "# Search Milvus Tool Definition\n",
    "def search_milvus_tool(query: str) -> list:\n",
    "    query_embeddings = generate_query_embedding([query])\n",
    "    hybrid_results = hybrid_search(\n",
    "        get_collection('manual'),\n",
    "        query_embeddings[\"dense\"][0],\n",
    "        query_embeddings[\"sparse\"]._getrow(0),\n",
    "        sparse_weight=0.7,\n",
    "        dense_weight=1.0,\n",
    "    )\n",
    "    return hybrid_results\n",
    "\n",
    "# Create the Runnable Tool\n",
    "search_milvus = Tool(\n",
    "    name=\"search_milvus\",\n",
    "    func=search_milvus_tool,\n",
    "    description=(\n",
    "        \"A tool to search in the Milvus vector database using hybrid search. \"\n",
    "        \"It combines dense and sparse embeddings for improved search results.\"\n",
    "    )\n",
    ")"
   ],
   "id": "771cfd9a72c949cf",
   "outputs": [],
   "execution_count": 13
  },
  {
   "metadata": {
    "ExecuteTime": {
     "end_time": "2024-12-15T15:24:08.419020100Z",
     "start_time": "2024-12-10T15:12:58.004512Z"
    }
   },
   "cell_type": "code",
   "source": "search_milvus.invoke('안전벨트')",
   "id": "6cadfcdab5c919c2",
   "outputs": [
    {
     "name": "stdout",
     "output_type": "stream",
     "text": [
      "Embeddings: {'dense': [array([-0.01287675,  0.03408073, -0.04706139, ...,  0.00987844,\n",
      "       -0.03477947,  0.03609258], dtype=float32)], 'sparse': <Compressed Sparse Row sparse array of dtype 'float64'\n",
      "\twith 3 stored elements and shape (1, 250002)>}\n",
      "Dense query dim: 1024 (1024,)\n",
      "Sparse query dim: 250002 (250002,)\n",
      "Connected to Milvus\n"
     ]
    },
    {
     "data": {
      "text/plain": [
       "['안전벨트로 인해 복부 등에 강 한 힘을 받을 수 있습니다. 안전벨트 착용 여부를 의사와 상의하십시오. • 안전벨트를 착용할 때 다른 사람의 버클에 플레이트를 체결하지 마십시오. 안전벨트 의 보호를 제대로 받지 못할뿐더러 사고 위험이 커질 수 있습니다. 3-36 RS4_G90_KO.book Page 37 3 • 주행 중 좌석 등받이는 항상 똑바로 세워 (cid:1155)(cid:1162) 져 있어야 합니다. 안전벨트 장치는 등받 다음의 경고 사항들을 준수하지 않으면, 사 이가 똑바로 세워져 있을 때, 최대의 보호 고가 났을 때 더 큰 부상을 당할 위험이 있습 기능을 발휘합니다. 니다. 안전벨트를 착용한 채 좌석 등받이를 뒤로 • 벨트의 어깨띠를 팔 밑이나 등 뒤로 착용 젖히지 마십시오. 신체가 안전벨트에 바르',\n",
       " \"ALR 안전벨트는 어린이용 보조 좌석을 장 착했을 때 안전성을 높이는 장치입니다. 뒷좌석 안전벨트에 장착되어 있습니다. 평 소에는 ELR 모드로 사용하고, 어린이용 보 조 좌석을 장착하면 ALR 모드로 변경하십 시오. 자세한 내용은 3장 내 '어린이 보호용 장치 (보조 좌석)'를 참고하십시오. ORS031130 안전벨트를 사용하면, 사고나 급정차 시에 (cid:1155)(cid:1162) 당할 수 있는 심각한 부상이나 사망의 위험 • 도어를 닫을 때 안전벨트가 도어 틈 사이 이 줄어듭니다. 안전벨트는 다음과 같은 상 에 끼지 않도록 주의하십시오. 안전벨트의 태에서 최대의 효과를 발휘합니다. 성능이 떨어져 사고 시 위험합니다. • 탑승자가 엉덩이를 좌석에 깊게 걸치고 등 • 주행 전에 운전자는 모든 좌석 등받이가 을 등받이에 똑바로 기대고 앉은\",\n",
       " '3 안전벨트 사용 시 유의 사항 안전벨트의 적절한 관리 큰 어린이의 안전벨트 착용 (cid:2737)(cid:2628) 어린이의 체격에 맞는 알맞은 좌석 환경을 • 안전벨트에 손상을 줄 수 있는 물체(끝이 만드십시오. 뾰족한 물체 등)가 닿지 않도록 하십시오. 큰 어린이가 차량에 장착된 안전벨트를 착용 • 안전벨트를 청소할 때는 내장재나 카펫 청 할 경우, 착용 후 어깨띠의 위치를 확인하십 소에 사용되는 부드러운 비누액을 사용하 시오. 어깨띠가 어린이의 목이나 얼굴에 닿 십시오. 으면 어린이를 뒷좌석 중앙에 앉히십시오. 뒷좌석 중앙의 안전벨트도 어깨띠가 어린이 의 목이나 얼굴에 닿으면 어린이용 보조 좌 석에 앉히십시오. (cid:1155)(cid:1162) • 안전벨트를 표백하거나 염색하지 마십시 (cid:1155)(cid:1162) 오. 표백이나 염색 시 안전벨트가 약해져 서 충돌',\n",
       " '되면 벨트가 정상적으로 감기는 것을 방해하여 안전벨트 성능이 떨어집니다. • 놀이방 매트: 차량 뒷좌석에 놀이방 매트 를 깔면 안전벨트 착용 및 어린이 보조 좌 석 이용이 어려워 사고가 나면 심각한 부 상을 입을 수 있습니다. 안전벨트는 교통사고가 나면 차량 탑승자 의 생명과 신체를 보호하는 중요한 역할을 합니다. 국내 교통법규에 따라 모든 탑승 ORS021002 자는 안전벨트를 착용해야 합니다. 2-5 RS4_G90_KO.book Page 6 안전 및 주의 사항 (cid:2444)(cid:2439)(cid:1601)(cid:1245) 주정차 중 차내 수면 금지 동승석 에어백이 장착된 차량은 동승석에 유아용 보호장치를 설치하지 마십시오. 특 (cid:1155)(cid:1162) 히 차량 진행 방향의 반대 방향으로 설치 장시간 주정차할 경우 반드시 시동을 끄십시 하면 에어백 작동에 의해 심하게',\n",
       " '안전벨트에 바르 지 않도록 적정한 위치로 좌석을 이동하십 게 고정되지 않아 목이 걸리거나 부상을 시오. 입을 수 있습니다. (cid:1155)(cid:1162) 유아/어린이의 에어백 관련 주의 안전벨트의 정상적인 착용 및 사용을 방해하 사항 는 물품들은 절대로 사용하지 마십시오. • 차단 클립: 차단 클립을 버클에 꽂게 되면 차량 운전 상태에서 탑승한 아이들을 안 안전벨트를 착용한 것으로 인식하여 안전 전하게 보호하기 위해서는 아래의 사항 벨트 미착용 경고등 및 경고음이 작동하지 을 지키십시오. 않습니다. • 아이들은 항상 뒷좌석에 앉히십시오. • 안전벨트 스토퍼: 스토퍼를 벨트에 장착하 게 되면 벨트가 정상적으로 감기는 것을 방해하여 안전벨트 성능이 떨어집니다. • 놀이방 매트: 차량 뒷좌석에 놀이방 매트 를 깔면 안전벨트 착용',\n",
       " '니다. 안전벨트를 착용한 채 좌석 등받이를 뒤로 • 벨트의 어깨띠를 팔 밑이나 등 뒤로 착용 젖히지 마십시오. 신체가 안전벨트에 바르 하지 마십시오. 게 고정되지 않아 충돌 또는 급정차할 때 목이 걸리거나 부상을 입을 수 있습니다. • 안전벨트의 어깨띠가 목이나 얼굴을 지나 지 않도록 하십시오. • 급정차, 급회전, 충돌이 발생한 경우 힘이 가해져 안전벨트가 늘어나거나 손상될 수 • 벨트 하나를 두 사람 이상이 착용하지 마 있습니다. 가벼운 사고라도 사후에 반드시 십시오. 당사 직영 하이테크센터나 블루핸즈에서 • 안전벨트의 골반띠는 가능한 낮게, 골반 안전벨트를 점검하십시오. 손상된 벨트, 부분까지 내려오게 착용하십시오. 골반띠 관성 잠금 장치, 고정 장치, 부속품은 다시 가 골반 부분을 편안하게 감싸도록',\n",
       " '전에 반드시 안전벨트를 착용하십시 (cid:1155)(cid:1162) 오. • 운전할 때 하이힐 등 운전하기 불편한 신 1. 엉덩이를 좌석 가장 안쪽으로 넣고 등을 발을 신지 마십시오. 가속 페달, 브레이크 등받이에 기대어 앉으십시오. 등을 구부리 페달 등의 조작능력이 저하되어 사고의 원 거나 좌석 끝에 걸터앉지 마십시오. 인이 됩니다. 2.안전벨트의 어깨띠가 어깨와 가슴을 지나 • 주차 브레이크를 풀 때에는 차량이 움직일 도록 하십시오. 수 있으므로 반드시 브레이크 페달을 확실 3.안전벨트가 꼬이거나 짓눌리지 않게 하십 히 밟으십시오. 시오. 4.안전벨트의 골반띠가 골반을 부드럽게 지 나도록 하십시오. 5.\"찰칵\" 소리가 날 때까지 버클에 밀어 넣으 십시오. 탑승자 전원 안전벨트를 착용하십시오. 2-4 RS4_G90_KO.book Page 5 2 • 3점식 안전벨트를',\n",
       " '수 있습니다. 뜨거워질 수 있습니다. 어린이가 안전벨트 • 어린이가 탑승하지 않았더라도 항상 어린 를 착용할 때 화상을 입지 않도록 주의하 이 보조 좌석이 안전벨트에 단단히 고정되 십시오. 어 있는지 확인하십시오. 또는 어린이 보 조 좌석을 별도로 보관하여 사고나 급정차 시에 앞으로 튀어 나오지 않도록 하십시 오. 임산부의 안전벨트 착용 임산부는 의사의 지시에 따라 안전벨트를 착 용하되, 될 수 있으면 항상 3점식 안전벨트를 착용하십시오. 안전벨트의 골반띠는 되도록 복부 밑부분에 착용해야 합니다. (cid:1155)(cid:1162) 안전벨트의 골반띠가 임산부의 복부 위로 오 지 않도록 주의하십시오. 충돌 시 안전벨트 가 태아를 누를 수 있습니다. 3-43 RS4_G90_KO.book Page 44 시트 및 안전 장치 어린이 보호용 장치 (보조',\n",
       " '안전벨트를 점검하십시오. 손상된 벨트, 부분까지 내려오게 착용하십시오. 골반띠 관성 잠금 장치, 고정 장치, 부속품은 다시 가 골반 부분을 편안하게 감싸도록 착용하 주행하기 전에 교체하십시오. 십시오. • 주행 중 안전벨트를 풀지 말고, 벨트를 매 사고가 났을 때 복부에 압력을 가하여 장 고 푸는 동작을 반복하지 마십시오. 전방 파열 등의 심각한 부상을 입을 수 있습니 주시에 부주의하여 사고가 날 수 있습니 다. 다. • 안전벨트에 보조 장치나 장식물을 추가로 • 안전벨트 착용 시 단단하거나 깨지기 쉬운 장착하지 마십시오. 벨트가 정상적으로 작 물체 위로 지나가지 않도록 착용하십시오. 동하지 않을 수 있습니다. • 버클 안에 이물질이 들어가지 않도록 주의 • 다음의 방법으로 안전벨트를 주기적으로',\n",
       " '위로 지나가지 않도록 착용하십시오. 동하지 않을 수 있습니다. • 버클 안에 이물질이 들어가지 않도록 주의 • 다음의 방법으로 안전벨트를 주기적으로 하십시오. 안전벨트 체결이 제대로 되지 점검하십시오. 않을 수도 있습니다. - 벨트를 끝까지 당겨 마모나 손상 여부를 확인하십시오. - 벨트를 맬 때 부드럽게 감기는지 확인하 십시오. - 벨트를 잠그거나 풀 때 방해나 지연이 없는지 확인하십시오. 이상이 있다면 안전벨트를 빠르게 교체하 십시오. • 안전벨트가 꼬이거나 짓눌린 상태에서 주 행하지 마십시오. 꼬이거나 짓눌린 안전벨 트를 원상태로 할 수 없다면 당사 직영 하 이테크센터나 블루핸즈에서 점검을 받으 십시오. 3-37 RS4_G90_KO.book Page 38 시트 및 안전 장치 안전벨트 미착용 경고등 및 경고음 (cid:2444)(cid:2439)(cid:1601)(cid:1245) 다음과 같은']"
      ]
     },
     "execution_count": 14,
     "metadata": {},
     "output_type": "execute_result"
    }
   ],
   "execution_count": 14
  },
  {
   "metadata": {
    "ExecuteTime": {
     "end_time": "2024-12-15T15:24:08.420022800Z",
     "start_time": "2024-12-10T16:17:39.536088Z"
    }
   },
   "cell_type": "code",
   "source": [
    "from langchain.tools import Tool\n",
    "# Search Milvus Tool Definition\n",
    "@tool\n",
    "def search_milvus_tool(query: str) -> list:\n",
    "    \"\"\"\n",
    "    Search in the Milvus vector database using hybrid search.\n",
    "    Combines dense and sparse embeddings for improved results.\n",
    "    \n",
    "    Args:\n",
    "        query (str): The input query string.\n",
    "        \n",
    "    Returns:\n",
    "        list: A list of search results from Milvus.\n",
    "    \"\"\"\n",
    "    query_embeddings = generate_query_embedding([query])\n",
    "    hybrid_results = hybrid_search(\n",
    "        get_collection('manual'),\n",
    "        query_embeddings[\"dense\"][0],\n",
    "        query_embeddings[\"sparse\"]._getrow(0),\n",
    "        sparse_weight=0.7,\n",
    "        dense_weight=1.0,\n",
    "        limit=20\n",
    "    )\n",
    "    return hybrid_results"
   ],
   "id": "b777f6517e0a7db5",
   "outputs": [],
   "execution_count": 12
  },
  {
   "metadata": {
    "ExecuteTime": {
     "end_time": "2024-12-15T15:24:08.420022800Z",
     "start_time": "2024-12-12T06:43:45.661056Z"
    }
   },
   "cell_type": "code",
   "source": [
    "from RAG.tools.tools import search_milvus\n",
    "\n",
    "search_milvus.invoke('안전벨트에 대해서 알려줘')"
   ],
   "id": "db70cddfd9483ad",
   "outputs": [
    {
     "name": "stdout",
     "output_type": "stream",
     "text": [
      "Embeddings: {'dense': [array([-0.02611502,  0.02356263, -0.07463723, ..., -0.00469884,\n",
      "       -0.01070711,  0.0074196 ], dtype=float32)], 'sparse': <Compressed Sparse Row sparse array of dtype 'float64'\n",
      "\twith 7 stored elements and shape (1, 250002)>}\n",
      "Dense query dim: 1024 (1024,)\n",
      "Sparse query dim: 250002 (250002,)\n"
     ]
    },
    {
     "data": {
      "text/plain": [
       "['안전벨트로 인해 복부 등에 강 한 힘을 받을 수 있습니다. 안전벨트 착용 여부를 의사와 상의하십시오. • 안전벨트를 착용할 때 다른 사람의 버클에 플레이트를 체결하지 마십시오. 안전벨트 의 보호를 제대로 받지 못할뿐더러 사고 위험이 커질 수 있습니다. 3-36 RS4_G90_KO.book Page 37 3 • 주행 중 좌석 등받이는 항상 똑바로 세워 (cid:1155)(cid:1162) 져 있어야 합니다. 안전벨트 장치는 등받 다음의 경고 사항들을 준수하지 않으면, 사 이가 똑바로 세워져 있을 때, 최대의 보호 고가 났을 때 더 큰 부상을 당할 위험이 있습 기능을 발휘합니다. 니다. 안전벨트를 착용한 채 좌석 등받이를 뒤로 • 벨트의 어깨띠를 팔 밑이나 등 뒤로 착용 젖히지 마십시오. 신체가 안전벨트에 바르',\n",
       " '3 안전벨트 사용 시 유의 사항 안전벨트의 적절한 관리 큰 어린이의 안전벨트 착용 (cid:2737)(cid:2628) 어린이의 체격에 맞는 알맞은 좌석 환경을 • 안전벨트에 손상을 줄 수 있는 물체(끝이 만드십시오. 뾰족한 물체 등)가 닿지 않도록 하십시오. 큰 어린이가 차량에 장착된 안전벨트를 착용 • 안전벨트를 청소할 때는 내장재나 카펫 청 할 경우, 착용 후 어깨띠의 위치를 확인하십 소에 사용되는 부드러운 비누액을 사용하 시오. 어깨띠가 어린이의 목이나 얼굴에 닿 십시오. 으면 어린이를 뒷좌석 중앙에 앉히십시오. 뒷좌석 중앙의 안전벨트도 어깨띠가 어린이 의 목이나 얼굴에 닿으면 어린이용 보조 좌 석에 앉히십시오. (cid:1155)(cid:1162) • 안전벨트를 표백하거나 염색하지 마십시 (cid:1155)(cid:1162) 오. 표백이나 염색 시 안전벨트가 약해져 서 충돌',\n",
       " '니다. 안전벨트를 착용한 채 좌석 등받이를 뒤로 • 벨트의 어깨띠를 팔 밑이나 등 뒤로 착용 젖히지 마십시오. 신체가 안전벨트에 바르 하지 마십시오. 게 고정되지 않아 충돌 또는 급정차할 때 목이 걸리거나 부상을 입을 수 있습니다. • 안전벨트의 어깨띠가 목이나 얼굴을 지나 지 않도록 하십시오. • 급정차, 급회전, 충돌이 발생한 경우 힘이 가해져 안전벨트가 늘어나거나 손상될 수 • 벨트 하나를 두 사람 이상이 착용하지 마 있습니다. 가벼운 사고라도 사후에 반드시 십시오. 당사 직영 하이테크센터나 블루핸즈에서 • 안전벨트의 골반띠는 가능한 낮게, 골반 안전벨트를 점검하십시오. 손상된 벨트, 부분까지 내려오게 착용하십시오. 골반띠 관성 잠금 장치, 고정 장치, 부속품은 다시 가 골반 부분을 편안하게 감싸도록',\n",
       " '전에 반드시 안전벨트를 착용하십시 (cid:1155)(cid:1162) 오. • 운전할 때 하이힐 등 운전하기 불편한 신 1. 엉덩이를 좌석 가장 안쪽으로 넣고 등을 발을 신지 마십시오. 가속 페달, 브레이크 등받이에 기대어 앉으십시오. 등을 구부리 페달 등의 조작능력이 저하되어 사고의 원 거나 좌석 끝에 걸터앉지 마십시오. 인이 됩니다. 2.안전벨트의 어깨띠가 어깨와 가슴을 지나 • 주차 브레이크를 풀 때에는 차량이 움직일 도록 하십시오. 수 있으므로 반드시 브레이크 페달을 확실 3.안전벨트가 꼬이거나 짓눌리지 않게 하십 히 밟으십시오. 시오. 4.안전벨트의 골반띠가 골반을 부드럽게 지 나도록 하십시오. 5.\"찰칵\" 소리가 날 때까지 버클에 밀어 넣으 십시오. 탑승자 전원 안전벨트를 착용하십시오. 2-4 RS4_G90_KO.book Page 5 2 • 3점식 안전벨트를',\n",
       " '안전벨트에 바르 지 않도록 적정한 위치로 좌석을 이동하십 게 고정되지 않아 목이 걸리거나 부상을 시오. 입을 수 있습니다. (cid:1155)(cid:1162) 유아/어린이의 에어백 관련 주의 안전벨트의 정상적인 착용 및 사용을 방해하 사항 는 물품들은 절대로 사용하지 마십시오. • 차단 클립: 차단 클립을 버클에 꽂게 되면 차량 운전 상태에서 탑승한 아이들을 안 안전벨트를 착용한 것으로 인식하여 안전 전하게 보호하기 위해서는 아래의 사항 벨트 미착용 경고등 및 경고음이 작동하지 을 지키십시오. 않습니다. • 아이들은 항상 뒷좌석에 앉히십시오. • 안전벨트 스토퍼: 스토퍼를 벨트에 장착하 게 되면 벨트가 정상적으로 감기는 것을 방해하여 안전벨트 성능이 떨어집니다. • 놀이방 매트: 차량 뒷좌석에 놀이방 매트 를 깔면 안전벨트 착용',\n",
       " '되면 벨트가 정상적으로 감기는 것을 방해하여 안전벨트 성능이 떨어집니다. • 놀이방 매트: 차량 뒷좌석에 놀이방 매트 를 깔면 안전벨트 착용 및 어린이 보조 좌 석 이용이 어려워 사고가 나면 심각한 부 상을 입을 수 있습니다. 안전벨트는 교통사고가 나면 차량 탑승자 의 생명과 신체를 보호하는 중요한 역할을 합니다. 국내 교통법규에 따라 모든 탑승 ORS021002 자는 안전벨트를 착용해야 합니다. 2-5 RS4_G90_KO.book Page 6 안전 및 주의 사항 (cid:2444)(cid:2439)(cid:1601)(cid:1245) 주정차 중 차내 수면 금지 동승석 에어백이 장착된 차량은 동승석에 유아용 보호장치를 설치하지 마십시오. 특 (cid:1155)(cid:1162) 히 차량 진행 방향의 반대 방향으로 설치 장시간 주정차할 경우 반드시 시동을 끄십시 하면 에어백 작동에 의해 심하게',\n",
       " '위로 지나가지 않도록 착용하십시오. 동하지 않을 수 있습니다. • 버클 안에 이물질이 들어가지 않도록 주의 • 다음의 방법으로 안전벨트를 주기적으로 하십시오. 안전벨트 체결이 제대로 되지 점검하십시오. 않을 수도 있습니다. - 벨트를 끝까지 당겨 마모나 손상 여부를 확인하십시오. - 벨트를 맬 때 부드럽게 감기는지 확인하 십시오. - 벨트를 잠그거나 풀 때 방해나 지연이 없는지 확인하십시오. 이상이 있다면 안전벨트를 빠르게 교체하 십시오. • 안전벨트가 꼬이거나 짓눌린 상태에서 주 행하지 마십시오. 꼬이거나 짓눌린 안전벨 트를 원상태로 할 수 없다면 당사 직영 하 이테크센터나 블루핸즈에서 점검을 받으 십시오. 3-37 RS4_G90_KO.book Page 38 시트 및 안전 장치 안전벨트 미착용 경고등 및 경고음 (cid:2444)(cid:2439)(cid:1601)(cid:1245) 다음과 같은',\n",
       " '안전벨트를 점검하십시오. 손상된 벨트, 부분까지 내려오게 착용하십시오. 골반띠 관성 잠금 장치, 고정 장치, 부속품은 다시 가 골반 부분을 편안하게 감싸도록 착용하 주행하기 전에 교체하십시오. 십시오. • 주행 중 안전벨트를 풀지 말고, 벨트를 매 사고가 났을 때 복부에 압력을 가하여 장 고 푸는 동작을 반복하지 마십시오. 전방 파열 등의 심각한 부상을 입을 수 있습니 주시에 부주의하여 사고가 날 수 있습니 다. 다. • 안전벨트에 보조 장치나 장식물을 추가로 • 안전벨트 착용 시 단단하거나 깨지기 쉬운 장착하지 마십시오. 벨트가 정상적으로 작 물체 위로 지나가지 않도록 착용하십시오. 동하지 않을 수 있습니다. • 버클 안에 이물질이 들어가지 않도록 주의 • 다음의 방법으로 안전벨트를 주기적으로',\n",
       " '수 있습니다. 뜨거워질 수 있습니다. 어린이가 안전벨트 • 어린이가 탑승하지 않았더라도 항상 어린 를 착용할 때 화상을 입지 않도록 주의하 이 보조 좌석이 안전벨트에 단단히 고정되 십시오. 어 있는지 확인하십시오. 또는 어린이 보 조 좌석을 별도로 보관하여 사고나 급정차 시에 앞으로 튀어 나오지 않도록 하십시 오. 임산부의 안전벨트 착용 임산부는 의사의 지시에 따라 안전벨트를 착 용하되, 될 수 있으면 항상 3점식 안전벨트를 착용하십시오. 안전벨트의 골반띠는 되도록 복부 밑부분에 착용해야 합니다. (cid:1155)(cid:1162) 안전벨트의 골반띠가 임산부의 복부 위로 오 지 않도록 주의하십시오. 충돌 시 안전벨트 가 태아를 누를 수 있습니다. 3-43 RS4_G90_KO.book Page 44 시트 및 안전 장치 어린이 보호용 장치 (보조',\n",
       " '위험합니다. • 탑승자가 엉덩이를 좌석에 깊게 걸치고 등 • 주행 전에 운전자는 모든 좌석 등받이가 을 등받이에 똑바로 기대고 앉은 상태여야 바른 위치에 있고, 모든 탑승자가 안전벨 합니다. 트를 착용하였는지 반드시 확인하십시오. • 안전벨트의 골반띠(1)는 골반을 지나고, 어 사고가 나면 발생할 수 있는 위험을 최소 깨띠(2)는 가슴을 지나야 합니다. 다리는 화하기 위해 항상 안전벨트를 착용해야 합 바른 자세를 유지해야 합니다. 니다. • 어린이는 항상 뒷좌석에 적절한 보호 장치 • 임산부 또는 환자는 급정차나 충돌 사고가 를 장착하여 앉히십시오. 발생할 때 안전벨트로 인해 복부 등에 강 한 힘을 받을 수 있습니다. 안전벨트 착용 여부를 의사와 상의하십시오. • 안전벨트를 착용할 때 다른']"
      ]
     },
     "execution_count": 18,
     "metadata": {},
     "output_type": "execute_result"
    }
   ],
   "execution_count": 18
  },
  {
   "metadata": {
    "ExecuteTime": {
     "end_time": "2024-12-15T15:24:08.420022800Z",
     "start_time": "2024-12-10T16:17:40.754807Z"
    }
   },
   "cell_type": "code",
   "source": [
    "query = '시동 거는 법?'\n",
    "docs = search_milvus_tool.invoke(query)"
   ],
   "id": "73ac06d1ac92cb5a",
   "outputs": [
    {
     "name": "stdout",
     "output_type": "stream",
     "text": [
      "Embeddings: {'dense': [array([-0.00245594,  0.02500322, -0.01089139, ..., -0.03254781,\n",
      "        0.01484121, -0.00483145], dtype=float32)], 'sparse': <Compressed Sparse Row sparse array of dtype 'float64'\n",
      "\twith 6 stored elements and shape (1, 250002)>}\n",
      "Dense query dim: 1024 (1024,)\n",
      "Sparse query dim: 250002 (250002,)\n",
      "Connected to Milvus\n"
     ]
    }
   ],
   "execution_count": 13
  },
  {
   "metadata": {
    "ExecuteTime": {
     "end_time": "2024-12-10T16:16:39.684809Z",
     "start_time": "2024-12-10T16:16:38.260677Z"
    }
   },
   "cell_type": "code",
   "source": [
    "from pymilvus.model.reranker import BGERerankFunction\n",
    "\n",
    "# Define the rerank function\n",
    "bge_rf = BGERerankFunction(\n",
    "    model_name=\"BAAI/bge-reranker-v2-m3\",  # Specify the model name. Defaults to `BAAI/bge-reranker-v2-m3`.\n",
    "    device=\"cpu\" # Specify the device to use, e.g., 'cpu' or 'cuda:0'\n",
    ")"
   ],
   "id": "144e9c7830a9a65e",
   "outputs": [],
   "execution_count": 10
  },
  {
   "metadata": {
    "ExecuteTime": {
     "end_time": "2024-12-10T16:18:04.963721Z",
     "start_time": "2024-12-10T16:17:51.984742Z"
    }
   },
   "cell_type": "code",
   "source": [
    "\n",
    "\n",
    "results = bge_rf(\n",
    "    query=query,\n",
    "    documents=docs,\n",
    "    top_k=5,\n",
    ")\n",
    "\n",
    "for result in results:\n",
    "    print(f\"Index: {result.index}\")\n",
    "    print(f\"Score: {result.score:.6f}\")\n",
    "    print(f\"Text: {result.text}\\n\")\n"
   ],
   "id": "6b4d4846c22197cd",
   "outputs": [
    {
     "name": "stdout",
     "output_type": "stream",
     "text": [
      "Index: 0\n",
      "Score: 0.976392\n",
      "Text: 이러한 특 성에 대한 이해가 없는 사람과 함께 스마트 키를 차 안에 둘 경우, 뜻밖의 상황이 발생할 수도 있으므로 항상 주의하십시오. 시동 및 출발 방법 1. 브레이크 페달을 밟은 상태에서 시동 버튼 을 누르십시오. 2.브레이크 페달을 계속 밟고 있는 상태에서 엔진 회전이 적정 범위(1,000 RPM 이내)에 있는지 확인한 후에 변속 다이얼을 원하는 위치로 돌리십시오. 3.전자식 파킹 브레이크를 해제한 후 브레이 크 페달에서 발을 떼면서 차량이 서서히 움직이는 것을 확인하고 가속 페달을 천천 히 밟아 출발하십시오. 6-5 RS4_G90_KO.book Page 6 시동 및 주행 (cid:2444)(cid:2439)(cid:1601)(cid:1245) 제동 스위치 퓨즈가 고장 났을 때 시동 거는 방법 • 변속 장금 장치(Shift Lock)가 장착된 차량 제동\n",
      "\n",
      "Index: 1\n",
      "Score: 0.883269\n",
      "Text: 걸려면 스마트폰 제조사 용하여 한 번 도어 잠금/잠금 해제를 사용 에서 제공하는 앱을 사용하여 도어 잠금 하거나 실내 인증 패드(무선 충전 패드)에 버튼으로 차량을 잠그고, 4초 이내에 원격 서 시동을 걸면 디지털 키(스마트폰)가 차 시동 버튼을 누르십시오. 량에 등록됩니다. 시동이 걸리고 비상 경고등이 깜빡입니다. 시동을 끄려면 원격 시동 버튼을 다시 누 르십시오. (cid:1155)(cid:1162) 기본적인 차량 버튼 시동 방법은 6장 내 '시 디지털 키로 등록된 스마트폰이 실내에 있을 동 버튼'을 참고하십시오. 경우 시동을 걸 수 있습니다. 따라서, 이러한 차량 시스템을 모르는 사람이나 어린이들을 혼자 차 안에 남겨 두면 예기치 못한 사고가 일어날 수 있으므로 주의하십시오. 또한, 차 량 도난의 우려가 있으므로\n",
      "\n",
      "Index: 4\n",
      "Score: 0.860078\n",
      "Text: 및 주행 (cid:2444)(cid:2439)(cid:1601)(cid:1245) 제동 스위치 퓨즈가 고장 났을 때 시동 거는 방법 • 변속 장금 장치(Shift Lock)가 장착된 차량 제동 스위치 퓨즈가 고장 나면 시동이 바로 은 시동 'ON' 상태에서 브레이크 페달을 밟 걸리지 않을 수 있습니다. 이 경우에는 시동 아야만 'P'(주차)에서 'R'(후진) 상태로 변속 'ACC' 상태에서 시동 버튼을 10초 동안 누르 할 수 있습니다. 십시오. • 전자식 파킹 브레이크(EPB)가 장착된 차 량의 경우 'P'(주차) 상태에서 전자식 파킹 (cid:2737)(cid:2628) 브레이크가 걸려 있을 때 브레이크 페달을 비상시 외에는 시동 버튼을 10초 이상 길게 밟고 'P'(주차)에서 'R'(후진)단 또는 'D'(주 누르지 마십시오. 브레이크 페달을 밟지 않 행) 상태로 변속하면 전자식 파킹 브레이 은\n",
      "\n",
      "Index: 2\n",
      "Score: 0.843452\n",
      "Text: 시동(START) 또는 차량 전원(ON) 상태를 완전히 끌 수 있습 시동 버튼 조명 니다. 단, 주행 중이라도 비상시에는 시동 버 튼을 2초 이상 길게 누르거나 시동 버튼을 세 번 이상 연속해서 빠르게 누르면 시동이 꺼지 면서 'ACC' 상태로 전환됩니다. 이때 차량이 멈추지 않고 주행 상태인 경우, 기어 'N'(중립) 상태에서 브레이크 페달을 밟지 않고 시동 버 튼만 눌러 시동을 다시 걸 수 있습니다. ACC (액세서리 전원) 시동 'OFF' 상태에서 브레이크 페달을 밟지 말고 시동 버튼을 누르십시오. ORS061001 클러스터 표시창에 ACC 상태 메시지가 표시 운전석이나 동승석 도어를 열면 시동 버튼의 됩니다. 조명이 켜져 야간이나 어두운 곳에서도 시동 버튼 위치를 쉽게 찾을 수 있습니다.\n",
      "\n",
      "Index: 3\n",
      "Score: 0.800335\n",
      "Text: 중 스티어링 휠 사이로 시동 버튼이 됩니다. 이후 모든 도어가 닫히면 경고음 나 각종 스위치를 조작하지 마십시오. 손 이 약 5초 동안 울립니다. 이나 팔로 차량을 제어할 수 없게 되어 심 각한 부상이나 사망에 이르게 하는 사고가 시동을 걸기 위해서는 반드시 스마트 키가 날 수 있습니다. 차 안에 있어야 합니다. • 운전석 주변에 움직일 수 있는 것은 놓지 마십시오. 운전을 방해할 뿐만 아니라 사 (cid:1155)(cid:1162) 고가 날 수 있습니다. 스마트 키가 차 안에 있는 상태에서는 시동 버튼을 누르면 시동이 걸립니다. 이러한 특 성에 대한 이해가 없는 사람과 함께 스마트 키를 차 안에 둘 경우, 뜻밖의 상황이 발생할 수도 있으므로 항상\n",
      "\n"
     ]
    }
   ],
   "execution_count": 14
  },
  {
   "metadata": {
    "ExecuteTime": {
     "end_time": "2024-12-10T16:18:40.618282Z",
     "start_time": "2024-12-10T16:18:33.648500Z"
    }
   },
   "cell_type": "code",
   "source": [
    "from pymilvus.model.reranker import CrossEncoderRerankFunction\n",
    "\n",
    "ce_rf = CrossEncoderRerankFunction(\n",
    "    model_name=\"cross-encoder/ms-marco-MiniLM-L-6-v2\",  # Specify the model name.\n",
    "    device=\"cpu\" # Specify the device to use, e.g., 'cpu' or 'cuda:0'\n",
    ")\n"
   ],
   "id": "4e0706e26870c932",
   "outputs": [
    {
     "data": {
      "text/plain": [
       "config.json:   0%|          | 0.00/794 [00:00<?, ?B/s]"
      ],
      "application/vnd.jupyter.widget-view+json": {
       "version_major": 2,
       "version_minor": 0,
       "model_id": "d1991008ca9f4cb5b9745dbe1baf52fd"
      }
     },
     "metadata": {},
     "output_type": "display_data"
    },
    {
     "name": "stderr",
     "output_type": "stream",
     "text": [
      "E:\\TailorLink\\SKN03-FINAL-6Team\\TailorLink_LLM\\doc_retrieval_qa\\.venv\\Lib\\site-packages\\huggingface_hub\\file_download.py:157: UserWarning: `huggingface_hub` cache-system uses symlinks by default to efficiently store duplicated files but your machine does not support them in C:\\Users\\ChoiYounKyu\\.cache\\huggingface\\hub\\models--cross-encoder--ms-marco-MiniLM-L-6-v2. Caching files will still work but in a degraded version that might require more space on your disk. This warning can be disabled by setting the `HF_HUB_DISABLE_SYMLINKS_WARNING` environment variable. For more details, see https://huggingface.co/docs/huggingface_hub/how-to-cache#limitations.\n",
      "To support symlinks on Windows, you either need to activate Developer Mode or to run Python as an administrator. In order to see activate developer mode, see this article: https://docs.microsoft.com/en-us/windows/apps/get-started/enable-your-device-for-development\n",
      "  warnings.warn(message)\n"
     ]
    },
    {
     "data": {
      "text/plain": [
       "pytorch_model.bin:   0%|          | 0.00/90.9M [00:00<?, ?B/s]"
      ],
      "application/vnd.jupyter.widget-view+json": {
       "version_major": 2,
       "version_minor": 0,
       "model_id": "8afc5bd03cae41f7a147065989b3f8d7"
      }
     },
     "metadata": {},
     "output_type": "display_data"
    },
    {
     "data": {
      "text/plain": [
       "tokenizer_config.json:   0%|          | 0.00/316 [00:00<?, ?B/s]"
      ],
      "application/vnd.jupyter.widget-view+json": {
       "version_major": 2,
       "version_minor": 0,
       "model_id": "13b32bd91e7044cc8fa10160d3c61860"
      }
     },
     "metadata": {},
     "output_type": "display_data"
    },
    {
     "data": {
      "text/plain": [
       "vocab.txt:   0%|          | 0.00/232k [00:00<?, ?B/s]"
      ],
      "application/vnd.jupyter.widget-view+json": {
       "version_major": 2,
       "version_minor": 0,
       "model_id": "8abbff6e5c494646afcac996dd6aebc0"
      }
     },
     "metadata": {},
     "output_type": "display_data"
    },
    {
     "data": {
      "text/plain": [
       "special_tokens_map.json:   0%|          | 0.00/112 [00:00<?, ?B/s]"
      ],
      "application/vnd.jupyter.widget-view+json": {
       "version_major": 2,
       "version_minor": 0,
       "model_id": "13ca19958755466f85f6551aeedc9fb4"
      }
     },
     "metadata": {},
     "output_type": "display_data"
    },
    {
     "name": "stderr",
     "output_type": "stream",
     "text": [
      "E:\\TailorLink\\SKN03-FINAL-6Team\\TailorLink_LLM\\doc_retrieval_qa\\.venv\\Lib\\site-packages\\transformers\\tokenization_utils_base.py:1601: FutureWarning: `clean_up_tokenization_spaces` was not set. It will be set to `True` by default. This behavior will be depracted in transformers v4.45, and will be then set to `False` by default. For more details check this issue: https://github.com/huggingface/transformers/issues/31884\n",
      "  warnings.warn(\n"
     ]
    }
   ],
   "execution_count": 15
  },
  {
   "metadata": {
    "ExecuteTime": {
     "end_time": "2024-12-10T16:19:56.533336Z",
     "start_time": "2024-12-10T16:19:55.027826Z"
    }
   },
   "cell_type": "code",
   "source": [
    "results = ce_rf(\n",
    "    query=query,\n",
    "    documents=docs,\n",
    "    top_k=10,\n",
    ")\n",
    "\n",
    "for result in results:\n",
    "    print(f\"Index: {result.index}\")\n",
    "    print(f\"Score: {result.score:.6f}\")\n",
    "    print(f\"Text: {result.text}\\n\")"
   ],
   "id": "48248fbaf53634f9",
   "outputs": [
    {
     "name": "stdout",
     "output_type": "stream",
     "text": [
      "Index: 9\n",
      "Score: 8.766023\n",
      "Text: 시동을 완전히 끈 후 시동을 다시 거십시오. (cid:1155)(cid:1162) 위와 같은 방법으로도 시동이 걸리지 않으면 당사 직영 하이테크센터나 블루핸즈에서 점 급경사로에는 차를 주차하지 마십시오. 차가 검을 받으십시오. 움직일 수 있습니다. 6-7 RS4_G90_KO.book Page 8 시동 및 주행 스마트 키 원격 시동 ORS061002 차량과 10 m 이내 거리에서 스마트 키의 도 어 잠금(Č) 버튼을 누른 후 4초 이내에 원격 시동(ƙ) 버튼을 길게 누르십시오. • 시동이 걸리면 비상 경고등이 깜빡입니다. • 원격 시동을 끄려면 원격 시동(ƙ) 버튼을 다시 누르십시오. (cid:2444)(cid:2439)(cid:1601)(cid:1245) • 기어가 'P'(주차) 상태일 때에만 원격으로 시동을 걸 수 있습니다. • 원격 시동 상태에서 스마트 키를 휴대하지 않고 차량에 탑승하면 자동으로 시동이 꺼\n",
      "\n",
      "Index: 16\n",
      "Score: 8.735374\n",
      "Text: 표시등(j)이 30초 동 지문을 인증하십시오 안 켜집니다. 이때 브레이크 페달을 밟고 시 동 버튼을 누르면 시동이 걸립니다. 인포테인먼트 시스템의 사용자 프로필 설정 단, 키 확인 표시등(j)이 켜진 후 30초 안에 에서 운전자 1 또는 운전자 2의 지문인식 시 시동 버튼을 눌러야 걸 수 있습니다. 키 확인 동이 설정되어 있고, 원격으로 시동을 건 상 표시등(j)이 꺼진 이후에는 지문 인증을 다 태에서 디지털 키 또는 제네시스 커넥티드 시 해야 합니다. 서비스로 도어를 잠금 해제한 후 도어를 열 면 이 경고문이 최대 30초 동안 표시됩니다. 이 경고문이 표시되는 동안에는 시동이 켜져 지문 인증이 제한되었습니다. ____ 분 후 있어도 차량 주행을 할 수 없으며,\n",
      "\n",
      "Index: 8\n",
      "Score: 8.654610\n",
      "Text: 걸리지 않습니 체하십시오. 다. 즉시 퓨즈 교체가 어려운 경우에는 시동 버튼을 한 번 눌러 'ACC' 상태가 되게 한 후, 시동 버튼을 다시 10초 동안 누르면 시동을 걸 수 있습니다. 4-18 RS4_G90_KO.book Page 19 4 시동을 유지하려면 디지털 키를 무선 충 지문 인증이 잘 되지 않을 경우에는 5장 내 ' 전기에 올려 놓으십시오 지문 인증 시스템'의 제한 사항을 참고하십 시오. 인포테인먼트 시스템의 사용자 프로필 설정 에서 운전자 1, 운전자 2 모두 지문인식 시동 시동을 유지하려면 지문을 인증하십시 설정이 해제되어 있고, 원격으로 시동을 건 오 상태에서 디지털 키 또는 제네시스 커넥티드 서비스로 도어를 열면 이 경고문이 최대 30 인포테인먼트 시스템의 사용자 프로필\n",
      "\n",
      "Index: 7\n",
      "Score: 8.630477\n",
      "Text: 표시 운전석이나 동승석 도어를 열면 시동 버튼의 됩니다. 조명이 켜져 야간이나 어두운 곳에서도 시동 버튼 위치를 쉽게 찾을 수 있습니다. ON (차량 전원) 조명은 도어를 닫은 후 약 30초가 지나거나 시동 'ACC' 상태에서 브레이크 페달을 밟지 모든 도어를 닫고 잠근 후 경계 상태에 들어 말고 시동 버튼을 누르십시오. 가면 꺼집니다. 클러스터 동작 조명이 켜집니다. 시동 버튼 위치 START/RUN (엔진 시동) 시동 'OFF', 'ACC', 또는 'ON' 상태에서 기어 OFF (전원 꺼짐) 를 'P'(주차) 또는 'N'(중립) 상태에 둔 후 브레 이크 페달을 밟으면서 시동 버튼을 누르십시 엔진 시동(START) 또는 차량 전원(ON) 상태 오. 를 완전히 끄려면 차량을 멈추고 P 버튼을 눌 러\n",
      "\n",
      "Index: 4\n",
      "Score: 8.624276\n",
      "Text: 및 주행 (cid:2444)(cid:2439)(cid:1601)(cid:1245) 제동 스위치 퓨즈가 고장 났을 때 시동 거는 방법 • 변속 장금 장치(Shift Lock)가 장착된 차량 제동 스위치 퓨즈가 고장 나면 시동이 바로 은 시동 'ON' 상태에서 브레이크 페달을 밟 걸리지 않을 수 있습니다. 이 경우에는 시동 아야만 'P'(주차)에서 'R'(후진) 상태로 변속 'ACC' 상태에서 시동 버튼을 10초 동안 누르 할 수 있습니다. 십시오. • 전자식 파킹 브레이크(EPB)가 장착된 차 량의 경우 'P'(주차) 상태에서 전자식 파킹 (cid:2737)(cid:2628) 브레이크가 걸려 있을 때 브레이크 페달을 비상시 외에는 시동 버튼을 10초 이상 길게 밟고 'P'(주차)에서 'R'(후진)단 또는 'D'(주 누르지 마십시오. 브레이크 페달을 밟지 않 행) 상태로 변속하면 전자식 파킹 브레이 은\n",
      "\n",
      "Index: 2\n",
      "Score: 8.622269\n",
      "Text: 시동(START) 또는 차량 전원(ON) 상태를 완전히 끌 수 있습 시동 버튼 조명 니다. 단, 주행 중이라도 비상시에는 시동 버 튼을 2초 이상 길게 누르거나 시동 버튼을 세 번 이상 연속해서 빠르게 누르면 시동이 꺼지 면서 'ACC' 상태로 전환됩니다. 이때 차량이 멈추지 않고 주행 상태인 경우, 기어 'N'(중립) 상태에서 브레이크 페달을 밟지 않고 시동 버 튼만 눌러 시동을 다시 걸 수 있습니다. ACC (액세서리 전원) 시동 'OFF' 상태에서 브레이크 페달을 밟지 말고 시동 버튼을 누르십시오. ORS061001 클러스터 표시창에 ACC 상태 메시지가 표시 운전석이나 동승석 도어를 열면 시동 버튼의 됩니다. 조명이 켜져 야간이나 어두운 곳에서도 시동 버튼 위치를 쉽게 찾을 수 있습니다.\n",
      "\n",
      "Index: 3\n",
      "Score: 8.601147\n",
      "Text: 중 스티어링 휠 사이로 시동 버튼이 됩니다. 이후 모든 도어가 닫히면 경고음 나 각종 스위치를 조작하지 마십시오. 손 이 약 5초 동안 울립니다. 이나 팔로 차량을 제어할 수 없게 되어 심 각한 부상이나 사망에 이르게 하는 사고가 시동을 걸기 위해서는 반드시 스마트 키가 날 수 있습니다. 차 안에 있어야 합니다. • 운전석 주변에 움직일 수 있는 것은 놓지 마십시오. 운전을 방해할 뿐만 아니라 사 (cid:1155)(cid:1162) 고가 날 수 있습니다. 스마트 키가 차 안에 있는 상태에서는 시동 버튼을 누르면 시동이 걸립니다. 이러한 특 성에 대한 이해가 없는 사람과 함께 스마트 키를 차 안에 둘 경우, 뜻밖의 상황이 발생할 수도 있으므로 항상\n",
      "\n",
      "Index: 12\n",
      "Score: 8.579208\n",
      "Text: 버튼[A]을 길게 누 변속합니다. 르십시오. • 브레이크 페달을 밟은 상태에서 변속 다이 얼을 D 위치로 돌리십시오. 6-12 RS4_G90_KO.book Page 13 6 • 차량을 출발시킬 때는 기어 'P'(주차) 상태 변속 잠금 장치 (Shift Lock) 에서 시동을 건 후 브레이크 페달을 밟은 운전자의 오조작을 방지하기 위한 기능입니 상태에서 'D'(주행)로 변속하십시오. 그 후 다. 브레이크 페달에서 발을 떼면서 차량이 서 시동이 걸린 상태에서 브레이크 페달을 밟아 서히 움직이는 것을 확인하고 가속 페달을 야만 'P'(주차) 또는 'N'(중립)상태에서 'R'(후 천천히 밟아 출발하십시오. 진), 'N'(중립), 'D'(주행)로 변속할 수 있습니 • 기어가 'D'(주행) 상태일 때 차량이 정차해 다. 있는 동안 운전석 도어가 열리면 자동으로 시동 'ON' 상태에서는\n",
      "\n",
      "Index: 1\n",
      "Score: 8.566434\n",
      "Text: 걸려면 스마트폰 제조사 용하여 한 번 도어 잠금/잠금 해제를 사용 에서 제공하는 앱을 사용하여 도어 잠금 하거나 실내 인증 패드(무선 충전 패드)에 버튼으로 차량을 잠그고, 4초 이내에 원격 서 시동을 걸면 디지털 키(스마트폰)가 차 시동 버튼을 누르십시오. 량에 등록됩니다. 시동이 걸리고 비상 경고등이 깜빡입니다. 시동을 끄려면 원격 시동 버튼을 다시 누 르십시오. (cid:1155)(cid:1162) 기본적인 차량 버튼 시동 방법은 6장 내 '시 디지털 키로 등록된 스마트폰이 실내에 있을 동 버튼'을 참고하십시오. 경우 시동을 걸 수 있습니다. 따라서, 이러한 차량 시스템을 모르는 사람이나 어린이들을 혼자 차 안에 남겨 두면 예기치 못한 사고가 일어날 수 있으므로 주의하십시오. 또한, 차 량 도난의 우려가 있으므로\n",
      "\n",
      "Index: 11\n",
      "Score: 8.565619\n",
      "Text: 지문으로 차량 시동 걸기 (cid:2444)(cid:2439)(cid:1601)(cid:1245) • 지문 인증을 5회 연속 실패 시마다 1분/3분 /5분 동안 사용이 제한됩니다. • 기본적인 차량 시동 방법에 관한 자세한 내용은 6장 내 '시동 및 주행'의 시동 버튼 내용을 참고하십시오. • 차량에 탑승한 후 장시간 동안 시동을 걸 지 않으면 지문 인식 센서가 꺼질 수 있습 니다. 이때 브레이크 페달을 밟아 지문 인 식 센서에 불이 들어오면 지문 인증을 다 시 시도할 수 있습니다. ORS051013 지문 인식 센서(1)에 손가락을 올려 지문 인 증에 성공한 후 30초 안에 시동 버튼(2)을 누 르십시오. 지문 인증 시스템 제한 사항 • 다음과 같은 경우 지문 인증 시스템이 작 링 조명\n",
      "\n"
     ]
    }
   ],
   "execution_count": 16
  },
  {
   "metadata": {
    "ExecuteTime": {
     "end_time": "2024-12-16T05:33:41.490570Z",
     "start_time": "2024-12-16T05:33:40.360182Z"
    }
   },
   "cell_type": "code",
   "source": [
    "\n",
    "\n",
    "\n",
    "from common.milvus_connector import connect_to_milvus\n",
    "connect_to_milvus()"
   ],
   "id": "6731a0c90af33da8",
   "outputs": [
    {
     "name": "stdout",
     "output_type": "stream",
     "text": [
      "Connected to Milvus-tailorlink\n"
     ]
    }
   ],
   "execution_count": 3
  },
  {
   "metadata": {
    "jupyter": {
     "is_executing": true
    },
    "ExecuteTime": {
     "start_time": "2024-12-16T05:34:37.128836Z"
    }
   },
   "cell_type": "code",
   "source": [
    "from doc_retrieval_qa.RAG.rag_pipeline import run_rag\n",
    "res = run_rag('시동거는법?')"
   ],
   "id": "fe95e0512cfc258e",
   "outputs": [
    {
     "name": "stdout",
     "output_type": "stream",
     "text": [
      "판단 시작\n",
      "벡터 조회\n",
      "Embeddings: {'dense': [array([-0.0165373 ,  0.03231683, -0.01011707, ..., -0.03665058,\n",
      "        0.02336237,  0.0224731 ], dtype=float32)], 'sparse': <Compressed Sparse Row sparse array of dtype 'float64'\n",
      "\twith 6 stored elements and shape (1, 250002)>}\n",
      "Dense query dim: 1024 (1024,)\n",
      "Sparse query dim: 250002 (250002,)\n"
     ]
    }
   ],
   "execution_count": null
  },
  {
   "metadata": {},
   "cell_type": "code",
   "outputs": [],
   "execution_count": null,
   "source": "res",
   "id": "271d668237bf8d05"
  },
  {
   "metadata": {},
   "cell_type": "code",
   "outputs": [],
   "execution_count": null,
   "source": "",
   "id": "2d4574c233c2265d"
  }
 ],
 "metadata": {
  "kernelspec": {
   "display_name": "Python 3",
   "language": "python",
   "name": "python3"
  },
  "language_info": {
   "codemirror_mode": {
    "name": "ipython",
    "version": 2
   },
   "file_extension": ".py",
   "mimetype": "text/x-python",
   "name": "python",
   "nbconvert_exporter": "python",
   "pygments_lexer": "ipython2",
   "version": "2.7.6"
  }
 },
 "nbformat": 4,
 "nbformat_minor": 5
}
