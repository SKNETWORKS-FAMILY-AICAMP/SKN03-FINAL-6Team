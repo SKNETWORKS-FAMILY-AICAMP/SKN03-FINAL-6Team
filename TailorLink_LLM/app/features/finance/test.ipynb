{
 "cells": [
  {
   "cell_type": "code",
   "execution_count": 1,
   "metadata": {},
   "outputs": [],
   "source": [
    "import uuid\n",
    "from dotenv import load_dotenv\n",
    "from modules import logging\n",
    "from langchain_community.vectorstores import FAISS\n",
    "from langchain_community.embeddings import OllamaEmbeddings\n",
    "from langchain_openai import ChatOpenAI\n",
    "from langchain.retrievers.multi_query import MultiQueryRetriever\n",
    "from langchain.schema import BaseMessage\n",
    "from typing_extensions import Annotated, Literal, Sequence, TypedDict\n",
    "from langgraph.checkpoint.memory import MemorySaver\n",
    "from langgraph.graph import StateGraph, START, END\n",
    "from IPython.display import Image, display\n",
    "import pprint\n",
    "from langchain_core.runnables import RunnableConfig"
   ]
  },
  {
   "cell_type": "code",
   "execution_count": 2,
   "metadata": {},
   "outputs": [
    {
     "name": "stdout",
     "output_type": "stream",
     "text": [
      "LangSmith 추적을 시작합니다.\n",
      "[프로젝트명]\n",
      "Model_RAG\n"
     ]
    },
    {
     "data": {
      "text/plain": [
       "True"
      ]
     },
     "execution_count": 2,
     "metadata": {},
     "output_type": "execute_result"
    }
   ],
   "source": [
    "# LangSmith Logging\n",
    "logging.langsmith(\"Model_RAG\")\n",
    "# API 키 정보 로드\n",
    "load_dotenv()"
   ]
  },
  {
   "cell_type": "code",
   "execution_count": 3,
   "metadata": {},
   "outputs": [],
   "source": [
    "session_id = str(uuid.uuid4())\n",
    "memory = MemorySaver()"
   ]
  },
  {
   "cell_type": "code",
   "execution_count": 4,
   "metadata": {},
   "outputs": [
    {
     "name": "stderr",
     "output_type": "stream",
     "text": [
      "C:\\Users\\vkxql\\AppData\\Local\\Temp\\ipykernel_4224\\4185708034.py:1: LangChainDeprecationWarning: The class `OllamaEmbeddings` was deprecated in LangChain 0.3.1 and will be removed in 1.0.0. An updated version of the class exists in the :class:`~langchain-ollama package and should be used instead. To use it run `pip install -U :class:`~langchain-ollama` and import as `from :class:`~langchain_ollama import OllamaEmbeddings``.\n",
      "  ollama_embeddings = OllamaEmbeddings(\n"
     ]
    }
   ],
   "source": [
    "ollama_embeddings = OllamaEmbeddings(\n",
    "    model=\"nomic-embed-text\"\n",
    ")\n",
    "\n",
    "loaded_db = FAISS.load_local(\n",
    "    folder_path=\"faiss_db\",\n",
    "    index_name=\"meritz_index\",\n",
    "    embeddings=ollama_embeddings,\n",
    "    allow_dangerous_deserialization=True,\n",
    ")"
   ]
  },
  {
   "cell_type": "code",
   "execution_count": 5,
   "metadata": {},
   "outputs": [],
   "source": [
    "llm = ChatOpenAI(model=\"gpt-4o-mini\", temperature=0)"
   ]
  },
  {
   "cell_type": "code",
   "execution_count": 6,
   "metadata": {},
   "outputs": [],
   "source": [
    "multi_query_retriever = MultiQueryRetriever.from_llm(\n",
    "    retriever=loaded_db.as_retriever(),\n",
    "    llm=llm\n",
    ")"
   ]
  },
  {
   "cell_type": "code",
   "execution_count": 7,
   "metadata": {},
   "outputs": [],
   "source": [
    "class state(TypedDict):\n",
    "    # 메시지 관리 (사용자와 시스템의 대화 기록)\n",
    "    messages: Annotated[Sequence[BaseMessage], \"add_messages\"]\n",
    "    # 세션 ID (각 워크플로우 인스턴스에 고유한 ID)\n",
    "    session_id: str\n",
    "    # 기타 메타데이터 (사용자 정보, 소스 등)\n",
    "    metadata: dict\n",
    "    # 검색된 문서 리스트\n",
    "    retrieved_docs: dict  # 검색 결과 (MultiQueryRetriever의 반환 값)\n",
    "    # 등급\n",
    "    document_grading: list\n",
    "    \n",
    "    insurance_grading : list\n",
    "    # 재 생성 된 답변\n",
    "    rewritten_question : list\n",
    "    # 생성된 최종 답변\n",
    "    generated_response: str  # 시스템의 최종 답변"
   ]
  },
  {
   "cell_type": "code",
   "execution_count": 8,
   "metadata": {},
   "outputs": [],
   "source": [
    "# Agent 노드\n",
    "\n",
    "def agent(state: state) -> state:\n",
    "    \"\"\"\n",
    "    The agent must respond appropriately to the user's questions based on the modified status {state}. Follow these steps:\n",
    "    \"\"\"\n",
    "    \n",
    "    agent_prompt = f\"\"\"\n",
    "    The agent must respond appropriately to the user's questions based on the modified status {state}. Follow these steps:\n",
    "    # Step\n",
    "\n",
    "    1. **Analyze questions**: Analyze the questions you have presented to determine if they are about auto insurance.\n",
    "    2. **Use a retriever**: If you're asking questions about car insurance, move to use a retriever to perform an information search.\n",
    "    3. **Process another question**: If that question is not related to car insurance, end the process by answering \"This is an unanswerable question.\"\n",
    "    4. **The generation of final answers is handled by the answer generation node, so if it is a related question, please go to the retriever and do not answer separately.\n",
    "\n",
    "    # Output Format\n",
    "\n",
    "    - If you are inquiring about car insurance: a question about insurance.\n",
    "    - If it's not related to car insurance: \"It's an unanswerable question.\"\n",
    "\n",
    "    # Example\n",
    "\n",
    "    For example:\n",
    "    - **Enter**: \"How's the weather today?\"\n",
    "    - **Output**: \"It's an unanswerable question.\"\n",
    "\n",
    "    # Note\n",
    "\n",
    "    - Always make clear judgments about the content of your questions and make sure they are related to your car insurance first.\n",
    "    - Accurate and clear information delivery is important, and care must be taken not to include unnecessary information.\n",
    "\n",
    "    Args:\n",
    "    Status (message): current status\n",
    "\n",
    "    Respond with:\n",
    "    - \"relevance\" if the question is related to insurance.\n",
    "    - \"Unrelated\" if the question is not related to insurance.\n",
    "    \"\"\"\n",
    "    \n",
    "    print(\"---CALL AGENT---\")\n",
    "    messages = state[\"messages\"]\n",
    "    # rewritten_question = state.get([\"rewritten_question\"], None)\n",
    "    model = ChatOpenAI(temperature=0, streaming=True, model=\"gpt-4o-mini\")\n",
    "    \n",
    "    result = llm(agent_prompt)\n",
    "    state[\"insurance_grading\"] = result    \n",
    "    # model = model.bind_tools(tools)\n",
    "    response = model.invoke(messages)\n",
    "    # print(\"State contents:\", state)\n",
    "    # We return a list, because this will get added to the existing list\n",
    "    return {\"messages\": [response]}"
   ]
  },
  {
   "cell_type": "code",
   "execution_count": 9,
   "metadata": {},
   "outputs": [],
   "source": [
    "def retriever_tool(state:state) -> state:\n",
    "    \"\"\"\n",
    "    It's a multi-query retriever tool\n",
    "    Retrieves documents using MultiQueryRetriever based on the current question.\n",
    "    \"\"\"\n",
    "    print(\"---CALL RETRIEVE TOOL---\")\n",
    "    \n",
    "    # 사용자의 마지막 질문 또는 rewritten_question이 있는 경우 해당 값을 사용\n",
    "    # user_question = state[\"messages\"][-1][\"content\"]\n",
    "    messages = state[\"messages\"]\n",
    "    user_question = messages[-1]\n",
    "    \n",
    "    # MultiQueryRetriever에 사용할 프롬프트\n",
    "    multi_query_prompt = f\"\"\"\n",
    "    You are an expert assistant trained to optimize search queries for retrieving the most relevant documents.\n",
    "    Given a user question, your task is to generate multiple rephrased versions of the same question. These\n",
    "    rephrased questions should:\n",
    "    \n",
    "    1. Cover different ways a user might phrase the same question.\n",
    "    2. Maintain the original intent and meaning of the question.\n",
    "    3. Use synonyms, structural variations, and alternative expressions where applicable.\n",
    "\n",
    "    For the following user question, generate at least **5 rephrased versions**:\n",
    "    \n",
    "    Original Question:\n",
    "    \"{user_question}\"\n",
    "    \n",
    "    Ensure your rephrased versions are concise, clear, and ready to be used in a search query. Output the rephrased questions as a list.\n",
    "    \"\"\"\n",
    "    \n",
    "    # MultiQueryRetriever로 문서 검색\n",
    "    retrieved_docs = multi_query_retriever.get_relevant_documents(multi_query_prompt)\n",
    "    \n",
    "    # 검색된 문서를 상태에 저장\n",
    "    state[\"retrieved_docs\"] = retrieved_docs\n",
    "    return state"
   ]
  },
  {
   "cell_type": "code",
   "execution_count": 10,
   "metadata": {},
   "outputs": [],
   "source": [
    "def grade_documents(state: state) -> state:\n",
    "    \"\"\"\n",
    "    Grades the retrieved documents to determine relevance to the user's question.\n",
    "    \"\"\"\n",
    "    print(\"---GRADE DOCUMENTS NODE ACTIVATED---\")\n",
    "    \n",
    "    retrieved_docs = state.get(\"retrieved_docs\", [])\n",
    "    user_question = state[\"messages\"][-1]\n",
    "    # [\"content\"]\n",
    "    \n",
    "    grading_prompt = f\"\"\"\n",
    "    You are an expert in evaluating document relevance. Given the user's question and the retrieved documents,\n",
    "    evaluate whether the documents are relevant or Not Relevant.\n",
    "\n",
    "    User Question:\n",
    "    \"{user_question}\"\n",
    "\n",
    "    Retrieved Documents (Summarized):\n",
    "    {retrieved_docs}\n",
    "\n",
    "    Respond with:\n",
    "    - \"Relevant\" if the documents are relevant to the question.\n",
    "    - \"Not Relevant\" if the documents are not relevant.\n",
    "    \"\"\"\n",
    "    \n",
    "    # LLM 평가\n",
    "    relevance_result = llm(grading_prompt)\n",
    "    state[\"document_grading\"] = relevance_result\n",
    "    print(f\"Document Grading: {state['document_grading']}\")\n",
    "    return state"
   ]
  },
  {
   "cell_type": "code",
   "execution_count": 11,
   "metadata": {},
   "outputs": [],
   "source": [
    "# 조건부 연결 추가\n",
    "def conditional_decision(state: state) -> state:\n",
    "    \"\"\"\n",
    "    조건부 경로를 결정하는 함수.\n",
    "    'grade_documents' 결과에 따라 경로가 나뉨.\n",
    "    \"\"\"\n",
    "    if state.get(\"document_grading\") == \"relevant\":\n",
    "        return \"generate\"\n",
    "    else:\n",
    "        return \"rewrite\""
   ]
  },
  {
   "cell_type": "code",
   "execution_count": 12,
   "metadata": {},
   "outputs": [],
   "source": [
    "# 조건부 연결 추가\n",
    "def conditional_retriever(state: state) -> state:\n",
    "    \"\"\"\n",
    "    조건부 경로를 결정하는 함수.\n",
    "    'insurance_grading' 결과에 따라 경로가 나뉨.\n",
    "    \"\"\"\n",
    "    if state.get(\"insurance_grading\") == \"relevance\":\n",
    "        return \"retriever\"\n",
    "    \n",
    "    if state.get(\"insurance_grading\") == \"Unrelated\":\n",
    "        return END"
   ]
  },
  {
   "cell_type": "code",
   "execution_count": 13,
   "metadata": {},
   "outputs": [],
   "source": [
    "def rewrite(state: state) -> state:\n",
    "    \"\"\"\n",
    "    Generates a new question if the retrieved documents are not relevant.\n",
    "    \"\"\"\n",
    "    print(\"---REWRITE NODE ACTIVATED---\")\n",
    "    \n",
    "    user_question = state[\"messages\"][-1]\n",
    "    rewrite_prompt = f\"\"\"\n",
    "    The retrieved documents were not relevant to the following user question:\n",
    "    \"{user_question}\"\n",
    "    \n",
    "    Please analyze the user's intent and generate a new question that better represents the user's intent\n",
    "    to find relevant documents. Ensure the new question is concise and clear.\n",
    "    \"\"\"\n",
    "    \n",
    "    # LLM을 사용하여 질문 재작성\n",
    "    rewritten_question = llm(rewrite_prompt)\n",
    "    state[\"rewritten_question\"] = rewritten_question\n",
    "    print(f\"Rewritten Question: {state['rewritten_question']}\")\n",
    "    # if rewritten_question:\n",
    "    #     response = llm.invoke(rewritten_question)\n",
    "    #     print(f\"Rewritten Question: {state['rewritten_question']}\")\n",
    "    #     return {\"messages\": [response]}\n",
    "    \n",
    "    return state"
   ]
  },
  {
   "cell_type": "code",
   "execution_count": 14,
   "metadata": {},
   "outputs": [],
   "source": [
    "def generate(state: state) -> state:\n",
    "    \"\"\"\n",
    "    The node that generates the answer\n",
    "    Generates the final response based on the user's question and relevant documents.\n",
    "    \"\"\"\n",
    "    print(\"---GENERATE RESPONSE NODE ACTIVATED---\")\n",
    "    \n",
    "    user_question = state[\"messages\"][-1]\n",
    "    retrieved_docs = state[\"retrieved_docs\"]\n",
    "    \n",
    "    # LLM\n",
    "    llm = ChatOpenAI(model_name=\"gpt-4o-mini\", temperature=0, streaming=True)\n",
    "    \n",
    "    response_prompt = f\"\"\"\n",
    "    User Question:\n",
    "    \"{user_question}\"\n",
    "    \n",
    "    Relevant Documents:\n",
    "    {retrieved_docs}\n",
    "    \n",
    "    Generate a concise and accurate response to the user's question based on the provided information.\n",
    "    Ensure the response directly addresses the question without adding unnecessary details. Focus on clarity and accuracy when interpreting the information and constructing the reply.\n",
    "\n",
    "    # Steps\n",
    "\n",
    "    1. Read and understand the user's question to identify the key components and what needs to be addressed.\n",
    "    2. Review the provided information carefully to ensure no important details are overlooked.\n",
    "    3. Interpret the information in the context of the question.\n",
    "    4. Construct a clear and concise response that directly answers the user's question, ensuring all necessary aspects are covered.\n",
    "\n",
    "    # Output Format\n",
    "\n",
    "    The response should be a short paragraph or bullet points, depending on the complexity and nature of the question. Aim for brevity and clarity.\n",
    "    \"\"\"\n",
    "    \n",
    "    \n",
    "    # LLM을 사용하여 최종 답변 생성\n",
    "    generated_response = llm(response_prompt)\n",
    "    state[\"generated_response\"] = generated_response\n",
    "    print(f\"Generated Response: {state['generated_response']}\")\n",
    "    \n",
    "    rag_chain = generated_response | StrOutputParser()\n",
    "    \n",
    "    response = rag_chain.invoke({\"context\": retrieved_docs, \"question\": user_question})\n",
    "    return {\"messages\": [response]}\n"
   ]
  },
  {
   "cell_type": "code",
   "execution_count": 15,
   "metadata": {},
   "outputs": [],
   "source": [
    "workflow = StateGraph(state)"
   ]
  },
  {
   "cell_type": "code",
   "execution_count": 16,
   "metadata": {},
   "outputs": [
    {
     "data": {
      "text/plain": [
       "<langgraph.graph.state.StateGraph at 0x236fdcce600>"
      ]
     },
     "execution_count": 16,
     "metadata": {},
     "output_type": "execute_result"
    }
   ],
   "source": [
    "workflow.add_node(\"agent\", agent)\n",
    "workflow.add_node(\"retriever\", retriever_tool)\n",
    "workflow.add_node(\"grade\", grade_documents)\n",
    "workflow.add_node(\"rewrite\", rewrite)\n",
    "workflow.add_node(\"generate\", generate)"
   ]
  },
  {
   "cell_type": "code",
   "execution_count": 17,
   "metadata": {},
   "outputs": [
    {
     "data": {
      "text/plain": [
       "<langgraph.graph.state.StateGraph at 0x236fdcce600>"
      ]
     },
     "execution_count": 17,
     "metadata": {},
     "output_type": "execute_result"
    }
   ],
   "source": [
    "workflow.add_edge(START, \"agent\")\n",
    "workflow.add_conditional_edges(\n",
    "    \"agent\",\n",
    "    # Assess agent decision\n",
    "    conditional_retriever,\n",
    "    {\n",
    "        \"relevance\": \"retriever\",\n",
    "        \"Unrelated\": END,\n",
    "    }\n",
    ")\n",
    "# workflow.add_edge(\"agent\", \"retriever\")\n",
    "workflow.add_edge(\"retriever\", \"grade\")\n",
    "workflow.add_conditional_edges(\n",
    "    \"grade\",\n",
    "    # Assess agent decision\n",
    "    conditional_decision,\n",
    "    {\n",
    "        \"relevant\": \"generate\",\n",
    "        \"not_relevant\": \"rewrite\",\n",
    "    }\n",
    ")\n",
    "workflow.add_edge(\"generate\", END)\n",
    "workflow.add_edge(\"rewrite\", \"agent\")"
   ]
  },
  {
   "cell_type": "code",
   "execution_count": 18,
   "metadata": {},
   "outputs": [],
   "source": [
    "graph = workflow.compile(checkpointer=memory)"
   ]
  },
  {
   "cell_type": "code",
   "execution_count": 19,
   "metadata": {},
   "outputs": [
    {
     "data": {
      "image/png": "[encoded data removed]",
      "text/plain": [
       "<IPython.core.display.Image object>"
      ]
     },
     "metadata": {},
     "output_type": "display_data"
    }
   ],
   "source": [
    "from IPython.display import Image, display\n",
    "\n",
    "try:\n",
    "    display(Image(graph.get_graph(xray=True).draw_mermaid_png()))\n",
    "except Exception:\n",
    "    # This requires some extra dependencies and is optional\n",
    "    pass"
   ]
  },
  {
   "cell_type": "code",
   "execution_count": 20,
   "metadata": {},
   "outputs": [],
   "source": [
    "import pprint\n",
    "\n",
    "# 입력 데이터 정의\n",
    "inputs = {\n",
    "    \"messages\": [\n",
    "        (\"user\", \"대인 부분 보장 범위에 대해 알려줘.\"),\n",
    "    ]\n",
    "}\n",
    "\n",
    "# Configurable 설정 (필요한 경우)\n",
    "config = {\"configurable\": {\"thread_id\": \"user_123\"}}\n"
   ]
  },
  {
   "cell_type": "code",
   "execution_count": 21,
   "metadata": {},
   "outputs": [
    {
     "ename": "NameError",
     "evalue": "name 'ddd' is not defined",
     "output_type": "error",
     "traceback": [
      "\u001B[1;31m---------------------------------------------------------------------------\u001B[0m",
      "\u001B[1;31mNameError\u001B[0m                                 Traceback (most recent call last)",
      "Cell \u001B[1;32mIn[21], line 1\u001B[0m\n\u001B[1;32m----> 1\u001B[0m \u001B[43mddd\u001B[49m\n",
      "\u001B[1;31mNameError\u001B[0m: name 'ddd' is not defined"
     ]
    }
   ],
   "source": [
    "ddd"
   ]
  },
  {
   "cell_type": "code",
   "execution_count": 22,
   "metadata": {},
   "outputs": [
    {
     "name": "stdout",
     "output_type": "stream",
     "text": [
      "---CALL AGENT---\n"
     ]
    },
    {
     "name": "stderr",
     "output_type": "stream",
     "text": [
      "C:\\Users\\vkxql\\AppData\\Local\\Temp\\ipykernel_4224\\959166295.py:46: LangChainDeprecationWarning: The method `BaseChatModel.__call__` was deprecated in langchain-core 0.1.7 and will be removed in 1.0. Use :meth:`~invoke` instead.\n",
      "  result = llm(agent_prompt)\n"
     ]
    },
    {
     "ename": "KeyError",
     "evalue": "None",
     "output_type": "error",
     "traceback": [
      "\u001B[1;31m---------------------------------------------------------------------------\u001B[0m",
      "\u001B[1;31mKeyError\u001B[0m                                  Traceback (most recent call last)",
      "Cell \u001B[1;32mIn[22], line 2\u001B[0m\n\u001B[0;32m      1\u001B[0m \u001B[38;5;66;03m# 그래프 스트림 실행\u001B[39;00m\n\u001B[1;32m----> 2\u001B[0m \u001B[38;5;28;43;01mfor\u001B[39;49;00m\u001B[43m \u001B[49m\u001B[43moutput\u001B[49m\u001B[43m \u001B[49m\u001B[38;5;129;43;01min\u001B[39;49;00m\u001B[43m \u001B[49m\u001B[43mgraph\u001B[49m\u001B[38;5;241;43m.\u001B[39;49m\u001B[43mstream\u001B[49m\u001B[43m(\u001B[49m\u001B[43minputs\u001B[49m\u001B[43m,\u001B[49m\u001B[43m \u001B[49m\u001B[43mconfig\u001B[49m\u001B[38;5;241;43m=\u001B[39;49m\u001B[43mconfig\u001B[49m\u001B[43m)\u001B[49m\u001B[43m:\u001B[49m\n\u001B[0;32m      3\u001B[0m \u001B[43m    \u001B[49m\u001B[38;5;66;43;03m# 각 노드의 출력 처리\u001B[39;49;00m\n\u001B[0;32m      4\u001B[0m \u001B[43m    \u001B[49m\u001B[38;5;28;43;01mfor\u001B[39;49;00m\u001B[43m \u001B[49m\u001B[43mkey\u001B[49m\u001B[43m,\u001B[49m\u001B[43m \u001B[49m\u001B[43mvalue\u001B[49m\u001B[43m \u001B[49m\u001B[38;5;129;43;01min\u001B[39;49;00m\u001B[43m \u001B[49m\u001B[43moutput\u001B[49m\u001B[38;5;241;43m.\u001B[39;49m\u001B[43mitems\u001B[49m\u001B[43m(\u001B[49m\u001B[43m)\u001B[49m\u001B[43m:\u001B[49m\n\u001B[0;32m      5\u001B[0m \u001B[43m        \u001B[49m\u001B[38;5;28;43mprint\u001B[39;49m\u001B[43m(\u001B[49m\u001B[38;5;124;43mf\u001B[39;49m\u001B[38;5;124;43m\"\u001B[39;49m\u001B[38;5;130;43;01m\\n\u001B[39;49;00m\u001B[38;5;132;43;01m{\u001B[39;49;00m\u001B[38;5;124;43m'\u001B[39;49m\u001B[38;5;124;43m-\u001B[39;49m\u001B[38;5;124;43m'\u001B[39;49m\u001B[38;5;241;43m*\u001B[39;49m\u001B[38;5;241;43m10\u001B[39;49m\u001B[38;5;132;43;01m}\u001B[39;49;00m\u001B[38;5;124;43m Output from node \u001B[39;49m\u001B[38;5;124;43m'\u001B[39;49m\u001B[38;5;132;43;01m{\u001B[39;49;00m\u001B[43mkey\u001B[49m\u001B[38;5;132;43;01m}\u001B[39;49;00m\u001B[38;5;124;43m'\u001B[39;49m\u001B[38;5;124;43m \u001B[39;49m\u001B[38;5;132;43;01m{\u001B[39;49;00m\u001B[38;5;124;43m'\u001B[39;49m\u001B[38;5;124;43m-\u001B[39;49m\u001B[38;5;124;43m'\u001B[39;49m\u001B[38;5;241;43m*\u001B[39;49m\u001B[38;5;241;43m10\u001B[39;49m\u001B[38;5;132;43;01m}\u001B[39;49;00m\u001B[38;5;130;43;01m\\n\u001B[39;49;00m\u001B[38;5;124;43m\"\u001B[39;49m\u001B[43m)\u001B[49m\n",
      "File \u001B[1;32mc:\\WorkSpace\\Final_Project\\SKN03-FINAL-6Team\\llm_service\\.venv\\Lib\\site-packages\\langgraph\\pregel\\__init__.py:1647\u001B[0m, in \u001B[0;36mPregel.stream\u001B[1;34m(self, input, config, stream_mode, output_keys, interrupt_before, interrupt_after, debug, subgraphs)\u001B[0m\n\u001B[0;32m   1641\u001B[0m     \u001B[38;5;66;03m# Similarly to Bulk Synchronous Parallel / Pregel model\u001B[39;00m\n\u001B[0;32m   1642\u001B[0m     \u001B[38;5;66;03m# computation proceeds in steps, while there are channel updates\u001B[39;00m\n\u001B[0;32m   1643\u001B[0m     \u001B[38;5;66;03m# channel updates from step N are only visible in step N+1\u001B[39;00m\n\u001B[0;32m   1644\u001B[0m     \u001B[38;5;66;03m# channels are guaranteed to be immutable for the duration of the step,\u001B[39;00m\n\u001B[0;32m   1645\u001B[0m     \u001B[38;5;66;03m# with channel updates applied only at the transition between steps\u001B[39;00m\n\u001B[0;32m   1646\u001B[0m     \u001B[38;5;28;01mwhile\u001B[39;00m loop\u001B[38;5;241m.\u001B[39mtick(input_keys\u001B[38;5;241m=\u001B[39m\u001B[38;5;28mself\u001B[39m\u001B[38;5;241m.\u001B[39minput_channels):\n\u001B[1;32m-> 1647\u001B[0m \u001B[43m        \u001B[49m\u001B[38;5;28;43;01mfor\u001B[39;49;00m\u001B[43m \u001B[49m\u001B[43m_\u001B[49m\u001B[43m \u001B[49m\u001B[38;5;129;43;01min\u001B[39;49;00m\u001B[43m \u001B[49m\u001B[43mrunner\u001B[49m\u001B[38;5;241;43m.\u001B[39;49m\u001B[43mtick\u001B[49m\u001B[43m(\u001B[49m\n\u001B[0;32m   1648\u001B[0m \u001B[43m            \u001B[49m\u001B[43mloop\u001B[49m\u001B[38;5;241;43m.\u001B[39;49m\u001B[43mtasks\u001B[49m\u001B[38;5;241;43m.\u001B[39;49m\u001B[43mvalues\u001B[49m\u001B[43m(\u001B[49m\u001B[43m)\u001B[49m\u001B[43m,\u001B[49m\n\u001B[0;32m   1649\u001B[0m \u001B[43m            \u001B[49m\u001B[43mtimeout\u001B[49m\u001B[38;5;241;43m=\u001B[39;49m\u001B[38;5;28;43mself\u001B[39;49m\u001B[38;5;241;43m.\u001B[39;49m\u001B[43mstep_timeout\u001B[49m\u001B[43m,\u001B[49m\n\u001B[0;32m   1650\u001B[0m \u001B[43m            \u001B[49m\u001B[43mretry_policy\u001B[49m\u001B[38;5;241;43m=\u001B[39;49m\u001B[38;5;28;43mself\u001B[39;49m\u001B[38;5;241;43m.\u001B[39;49m\u001B[43mretry_policy\u001B[49m\u001B[43m,\u001B[49m\n\u001B[0;32m   1651\u001B[0m \u001B[43m            \u001B[49m\u001B[43mget_waiter\u001B[49m\u001B[38;5;241;43m=\u001B[39;49m\u001B[43mget_waiter\u001B[49m\u001B[43m,\u001B[49m\n\u001B[0;32m   1652\u001B[0m \u001B[43m        \u001B[49m\u001B[43m)\u001B[49m\u001B[43m:\u001B[49m\n\u001B[0;32m   1653\u001B[0m \u001B[43m            \u001B[49m\u001B[38;5;66;43;03m# emit output\u001B[39;49;00m\n\u001B[0;32m   1654\u001B[0m \u001B[43m            \u001B[49m\u001B[38;5;28;43;01myield from\u001B[39;49;00m\u001B[43m \u001B[49m\u001B[43moutput\u001B[49m\u001B[43m(\u001B[49m\u001B[43m)\u001B[49m\n\u001B[0;32m   1655\u001B[0m \u001B[38;5;66;03m# emit output\u001B[39;00m\n",
      "File \u001B[1;32mc:\\WorkSpace\\Final_Project\\SKN03-FINAL-6Team\\llm_service\\.venv\\Lib\\site-packages\\langgraph\\pregel\\runner.py:104\u001B[0m, in \u001B[0;36mPregelRunner.tick\u001B[1;34m(self, tasks, reraise, timeout, retry_policy, get_waiter)\u001B[0m\n\u001B[0;32m    102\u001B[0m t \u001B[38;5;241m=\u001B[39m tasks[\u001B[38;5;241m0\u001B[39m]\n\u001B[0;32m    103\u001B[0m \u001B[38;5;28;01mtry\u001B[39;00m:\n\u001B[1;32m--> 104\u001B[0m     \u001B[43mrun_with_retry\u001B[49m\u001B[43m(\u001B[49m\u001B[43mt\u001B[49m\u001B[43m,\u001B[49m\u001B[43m \u001B[49m\u001B[43mretry_policy\u001B[49m\u001B[43m,\u001B[49m\u001B[43m \u001B[49m\u001B[43mwriter\u001B[49m\u001B[38;5;241;43m=\u001B[39;49m\u001B[43mwriter\u001B[49m\u001B[43m)\u001B[49m\n\u001B[0;32m    105\u001B[0m     \u001B[38;5;28mself\u001B[39m\u001B[38;5;241m.\u001B[39mcommit(t, \u001B[38;5;28;01mNone\u001B[39;00m)\n\u001B[0;32m    106\u001B[0m \u001B[38;5;28;01mexcept\u001B[39;00m \u001B[38;5;167;01mException\u001B[39;00m \u001B[38;5;28;01mas\u001B[39;00m exc:\n",
      "File \u001B[1;32mc:\\WorkSpace\\Final_Project\\SKN03-FINAL-6Team\\llm_service\\.venv\\Lib\\site-packages\\langgraph\\pregel\\retry.py:40\u001B[0m, in \u001B[0;36mrun_with_retry\u001B[1;34m(task, retry_policy, writer)\u001B[0m\n\u001B[0;32m     38\u001B[0m task\u001B[38;5;241m.\u001B[39mwrites\u001B[38;5;241m.\u001B[39mclear()\n\u001B[0;32m     39\u001B[0m \u001B[38;5;66;03m# run the task\u001B[39;00m\n\u001B[1;32m---> 40\u001B[0m \u001B[43mtask\u001B[49m\u001B[38;5;241;43m.\u001B[39;49m\u001B[43mproc\u001B[49m\u001B[38;5;241;43m.\u001B[39;49m\u001B[43minvoke\u001B[49m\u001B[43m(\u001B[49m\u001B[43mtask\u001B[49m\u001B[38;5;241;43m.\u001B[39;49m\u001B[43minput\u001B[49m\u001B[43m,\u001B[49m\u001B[43m \u001B[49m\u001B[43mconfig\u001B[49m\u001B[43m)\u001B[49m\n\u001B[0;32m     41\u001B[0m \u001B[38;5;66;03m# if successful, end\u001B[39;00m\n\u001B[0;32m     42\u001B[0m \u001B[38;5;28;01mbreak\u001B[39;00m\n",
      "File \u001B[1;32mc:\\WorkSpace\\Final_Project\\SKN03-FINAL-6Team\\llm_service\\.venv\\Lib\\site-packages\\langgraph\\utils\\runnable.py:412\u001B[0m, in \u001B[0;36mRunnableSeq.invoke\u001B[1;34m(self, input, config, **kwargs)\u001B[0m\n\u001B[0;32m    410\u001B[0m             \u001B[38;5;28minput\u001B[39m \u001B[38;5;241m=\u001B[39m context\u001B[38;5;241m.\u001B[39mrun(step\u001B[38;5;241m.\u001B[39minvoke, \u001B[38;5;28minput\u001B[39m, config, \u001B[38;5;241m*\u001B[39m\u001B[38;5;241m*\u001B[39mkwargs)\n\u001B[0;32m    411\u001B[0m         \u001B[38;5;28;01melse\u001B[39;00m:\n\u001B[1;32m--> 412\u001B[0m             \u001B[38;5;28minput\u001B[39m \u001B[38;5;241m=\u001B[39m \u001B[43mcontext\u001B[49m\u001B[38;5;241;43m.\u001B[39;49m\u001B[43mrun\u001B[49m\u001B[43m(\u001B[49m\u001B[43mstep\u001B[49m\u001B[38;5;241;43m.\u001B[39;49m\u001B[43minvoke\u001B[49m\u001B[43m,\u001B[49m\u001B[43m \u001B[49m\u001B[38;5;28;43minput\u001B[39;49m\u001B[43m,\u001B[49m\u001B[43m \u001B[49m\u001B[43mconfig\u001B[49m\u001B[43m)\u001B[49m\n\u001B[0;32m    413\u001B[0m \u001B[38;5;66;03m# finish the root run\u001B[39;00m\n\u001B[0;32m    414\u001B[0m \u001B[38;5;28;01mexcept\u001B[39;00m \u001B[38;5;167;01mBaseException\u001B[39;00m \u001B[38;5;28;01mas\u001B[39;00m e:\n",
      "File \u001B[1;32mc:\\WorkSpace\\Final_Project\\SKN03-FINAL-6Team\\llm_service\\.venv\\Lib\\site-packages\\langgraph\\utils\\runnable.py:184\u001B[0m, in \u001B[0;36mRunnableCallable.invoke\u001B[1;34m(self, input, config, **kwargs)\u001B[0m\n\u001B[0;32m    182\u001B[0m \u001B[38;5;28;01melse\u001B[39;00m:\n\u001B[0;32m    183\u001B[0m     context\u001B[38;5;241m.\u001B[39mrun(_set_config_context, config)\n\u001B[1;32m--> 184\u001B[0m     ret \u001B[38;5;241m=\u001B[39m \u001B[43mcontext\u001B[49m\u001B[38;5;241;43m.\u001B[39;49m\u001B[43mrun\u001B[49m\u001B[43m(\u001B[49m\u001B[38;5;28;43mself\u001B[39;49m\u001B[38;5;241;43m.\u001B[39;49m\u001B[43mfunc\u001B[49m\u001B[43m,\u001B[49m\u001B[43m \u001B[49m\u001B[38;5;28;43minput\u001B[39;49m\u001B[43m,\u001B[49m\u001B[43m \u001B[49m\u001B[38;5;241;43m*\u001B[39;49m\u001B[38;5;241;43m*\u001B[39;49m\u001B[43mkwargs\u001B[49m\u001B[43m)\u001B[49m\n\u001B[0;32m    185\u001B[0m \u001B[38;5;28;01mif\u001B[39;00m \u001B[38;5;28misinstance\u001B[39m(ret, Runnable) \u001B[38;5;129;01mand\u001B[39;00m \u001B[38;5;28mself\u001B[39m\u001B[38;5;241m.\u001B[39mrecurse:\n\u001B[0;32m    186\u001B[0m     \u001B[38;5;28;01mreturn\u001B[39;00m ret\u001B[38;5;241m.\u001B[39minvoke(\u001B[38;5;28minput\u001B[39m, config)\n",
      "File \u001B[1;32mc:\\WorkSpace\\Final_Project\\SKN03-FINAL-6Team\\llm_service\\.venv\\Lib\\site-packages\\langgraph\\graph\\graph.py:96\u001B[0m, in \u001B[0;36mBranch._route\u001B[1;34m(self, input, config, reader, writer)\u001B[0m\n\u001B[0;32m     94\u001B[0m     value \u001B[38;5;241m=\u001B[39m \u001B[38;5;28minput\u001B[39m\n\u001B[0;32m     95\u001B[0m result \u001B[38;5;241m=\u001B[39m \u001B[38;5;28mself\u001B[39m\u001B[38;5;241m.\u001B[39mpath\u001B[38;5;241m.\u001B[39minvoke(value, config)\n\u001B[1;32m---> 96\u001B[0m \u001B[38;5;28;01mreturn\u001B[39;00m \u001B[38;5;28;43mself\u001B[39;49m\u001B[38;5;241;43m.\u001B[39;49m\u001B[43m_finish\u001B[49m\u001B[43m(\u001B[49m\u001B[43mwriter\u001B[49m\u001B[43m,\u001B[49m\u001B[43m \u001B[49m\u001B[38;5;28;43minput\u001B[39;49m\u001B[43m,\u001B[49m\u001B[43m \u001B[49m\u001B[43mresult\u001B[49m\u001B[43m,\u001B[49m\u001B[43m \u001B[49m\u001B[43mconfig\u001B[49m\u001B[43m)\u001B[49m\n",
      "File \u001B[1;32mc:\\WorkSpace\\Final_Project\\SKN03-FINAL-6Team\\llm_service\\.venv\\Lib\\site-packages\\langgraph\\graph\\graph.py:132\u001B[0m, in \u001B[0;36mBranch._finish\u001B[1;34m(self, writer, input, result, config)\u001B[0m\n\u001B[0;32m    129\u001B[0m     result \u001B[38;5;241m=\u001B[39m [result]\n\u001B[0;32m    130\u001B[0m \u001B[38;5;28;01mif\u001B[39;00m \u001B[38;5;28mself\u001B[39m\u001B[38;5;241m.\u001B[39mends:\n\u001B[0;32m    131\u001B[0m     destinations: Sequence[Union[Send, \u001B[38;5;28mstr\u001B[39m]] \u001B[38;5;241m=\u001B[39m [\n\u001B[1;32m--> 132\u001B[0m         r \u001B[38;5;28;01mif\u001B[39;00m \u001B[38;5;28misinstance\u001B[39m(r, Send) \u001B[38;5;28;01melse\u001B[39;00m \u001B[38;5;28;43mself\u001B[39;49m\u001B[38;5;241;43m.\u001B[39;49m\u001B[43mends\u001B[49m\u001B[43m[\u001B[49m\u001B[43mr\u001B[49m\u001B[43m]\u001B[49m \u001B[38;5;28;01mfor\u001B[39;00m r \u001B[38;5;129;01min\u001B[39;00m result\n\u001B[0;32m    133\u001B[0m     ]\n\u001B[0;32m    134\u001B[0m \u001B[38;5;28;01melse\u001B[39;00m:\n\u001B[0;32m    135\u001B[0m     destinations \u001B[38;5;241m=\u001B[39m cast(Sequence[Union[Send, \u001B[38;5;28mstr\u001B[39m]], result)\n",
      "\u001B[1;31mKeyError\u001B[0m: None"
     ]
    }
   ],
   "source": [
    "# 그래프 스트림 실행\n",
    "for output in graph.stream(inputs, config=config):\n",
    "    # 각 노드의 출력 처리\n",
    "    for key, value in output.items():\n",
    "        print(f\"\\n{'-'*10} Output from node '{key}' {'-'*10}\\n\")\n",
    "        \n",
    "        # 메시지가 포함된 경우만 출력\n",
    "        if \"messages\" in value:\n",
    "            for message in value[\"messages\"]:\n",
    "                if hasattr(message, \"content\") and message.content:\n",
    "                    print(f\"**Message Content**:\\n{message.content}\\n\")\n",
    "        else:\n",
    "            pprint.pprint(value, indent=2, width=80, depth=None)\n",
    "        \n",
    "        print(\"\\n\" + \"-\"*30 + \"\\n\")"
   ]
  },
  {
   "cell_type": "code",
   "execution_count": null,
   "metadata": {},
   "outputs": [],
   "source": [
    "for output in graph.stream(inputs, config=config):\n",
    "    for key, value in output.items():\n",
    "        pprint.pprint(f\"Output from node '{key}':\")\n",
    "        pprint.pprint(\"---\")\n",
    "        pprint.pprint(value, indent=2, width=80, depth=None)\n",
    "    pprint.pprint(\"\\n---\\n\")"
   ]
  },
  {
   "cell_type": "code",
   "execution_count": 41,
   "metadata": {},
   "outputs": [],
   "source": [
    "from modules.messages import _display_message_tree"
   ]
  },
  {
   "cell_type": "code",
   "execution_count": null,
   "metadata": {},
   "outputs": [],
   "source": [
    "_display_message_tree(output)"
   ]
  },
  {
   "cell_type": "code",
   "execution_count": null,
   "metadata": {},
   "outputs": [],
   "source": []
  }
 ],
 "metadata": {
  "kernelspec": {
   "display_name": ".venv",
   "language": "python",
   "name": "python3"
  },
  "language_info": {
   "codemirror_mode": {
    "name": "ipython",
    "version": 3
   },
   "file_extension": ".py",
   "mimetype": "text/x-python",
   "name": "python",
   "nbconvert_exporter": "python",
   "pygments_lexer": "ipython3",
   "version": "3.12.0"
  }
 },
 "nbformat": 4,
 "nbformat_minor": 2
}
