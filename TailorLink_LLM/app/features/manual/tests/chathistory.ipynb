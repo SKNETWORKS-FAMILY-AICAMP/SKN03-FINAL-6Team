{
 "cells": [
  {
   "cell_type": "code",
   "id": "initial_id",
   "metadata": {
    "collapsed": true,
    "ExecuteTime": {
     "end_time": "2024-12-21T16:51:51.483741Z",
     "start_time": "2024-12-21T16:51:49.511402Z"
    }
   },
   "source": [
    "from app.core.config import settings\n",
    "from app.database.mysql import get_mysql_connection\n",
    "connection = get_mysql_connection()"
   ],
   "outputs": [
    {
     "name": "stderr",
     "output_type": "stream",
     "text": [
      "2024-12-22 01:51:49,911 - fastapi_project - INFO - Retrieved parameter: /tailorlink/mysql/MYSQL_URI\n",
      "2024-12-22 01:51:50,099 - fastapi_project - INFO - Retrieved parameter: /tailorlink/mysql/MYSQL_USER\n",
      "2024-12-22 01:51:50,286 - fastapi_project - INFO - Retrieved parameter: /tailorlink/mysql/MYSQL_PASSWORD\n",
      "2024-12-22 01:51:50,469 - fastapi_project - INFO - Retrieved parameter: /tailorlink/mysql/MYSQL_DB_NAME\n",
      "2024-12-22 01:51:50,654 - fastapi_project - INFO - Retrieved parameter: /tailorlink/openai/OPENAI_API_KEY\n",
      "2024-12-22 01:51:50,850 - fastapi_project - INFO - Retrieved parameter: /tailorlink/milvus/MILVUS_URI\n",
      "2024-12-22 01:51:51,028 - fastapi_project - INFO - Retrieved parameter: /tailorlink/milvus/MILVUS_TOKEN\n",
      "2024-12-22 01:51:51,217 - fastapi_project - INFO - Retrieved parameter: /tailorlink/langchain/LANGCHAIN_API_KEY\n",
      "2024-12-22 01:51:51,403 - fastapi_project - INFO - Retrieved parameter: /tailorlink/langchain/LANGCHAIN_ENDPOINT\n",
      "2024-12-22 01:51:51,481 - fastapi_project - INFO - Connected to MySQL database: mydatabase on my-database.cbuom6aeon9v.ap-northeast-2.rds.amazonaws.com\n"
     ]
    }
   ],
   "execution_count": 1
  },
  {
   "metadata": {},
   "cell_type": "markdown",
   "source": "# 커스텀 MessageConverter 클래스 만들기",
   "id": "9ead71f958540bc9"
  },
  {
   "metadata": {
    "ExecuteTime": {
     "end_time": "2024-12-21T16:51:51.487024Z",
     "start_time": "2024-12-21T16:51:51.485749Z"
    }
   },
   "cell_type": "code",
   "source": "",
   "id": "7a6d1cde46c40f80",
   "outputs": [],
   "execution_count": null
  },
  {
   "metadata": {
    "ExecuteTime": {
     "end_time": "2024-12-21T16:51:51.577094Z",
     "start_time": "2024-12-21T16:51:51.574881Z"
    }
   },
   "cell_type": "code",
   "source": "",
   "id": "d721b77deb32a62",
   "outputs": [],
   "execution_count": null
  },
  {
   "metadata": {
    "ExecuteTime": {
     "end_time": "2024-12-21T16:51:52.166664Z",
     "start_time": "2024-12-21T16:51:51.579794Z"
    }
   },
   "cell_type": "code",
   "source": [
    "from typing import Any, Dict\n",
    "from sqlalchemy import Column, Integer, String, Text, DateTime, func\n",
    "from sqlalchemy.orm import Session, declarative_base\n",
    "from langchain_community.chat_message_histories.sql import BaseMessageConverter\n",
    "from langchain.schema.messages import BaseMessage\n",
    "\n",
    "from langchain.schema import HumanMessage, AIMessage, SystemMessage\n",
    "\n",
    "# 1) SQLAlchemy Base 선언\n",
    "Base = declarative_base()\n",
    "\n",
    "\n",
    "class MessageModel(Base):\n",
    "    __tablename__ = \"message_store_with_user\"  # 테이블명 고정\n",
    "    id = Column(Integer, primary_key=True, autoincrement=True)\n",
    "    session_id = Column(String(255), index=True, nullable=False)\n",
    "    message_type = Column(String(255), nullable=False)\n",
    "    role = Column(String(255), nullable=True)\n",
    "    content = Column(Text, nullable=True)\n",
    "    # 새로 추가한 user_id\n",
    "    user_id = Column(String(255), nullable=True)\n",
    "    created_at = Column(\n",
    "        DateTime(timezone=True),\n",
    "        server_default=func.now(),\n",
    "        index=True\n",
    "    )\n",
    "\n",
    "class MyMessageConverter(BaseMessageConverter):\n",
    "    \"\"\"user_id 열이 포함된 커스텀 컨버터\"\"\"\n",
    "\n",
    "    def __init__(self, table_name: str = \"message_store_with_user\"):\n",
    "        # 부모 클래스의 기본 초기화 (인자 없이)\n",
    "        super().__init__()  \n",
    "        # 여기서 우리가 원하는 table_name 값을 자식 클래스에서 저장\n",
    "        self.table_name = table_name\n",
    "\n",
    "    def get_sql_model_class(self):\n",
    "        \"\"\"\n",
    "        SQLAlchemy 모델 정의\n",
    "        \"\"\"\n",
    "        return MessageModel\n",
    "\n",
    "    def to_dict(self, message: BaseMessage) -> Dict[str, Any]:\n",
    "        \"\"\"\n",
    "        BaseMessage -> Dict\n",
    "        (message_type, role, content, user_id 등 직접 구성)\n",
    "        \"\"\"\n",
    "        row_dict = {}\n",
    "        # 예: message_type (HumanMessage, AIMessage 등)\n",
    "        row_dict[\"message_type\"] = (\n",
    "            \"human\" if message.__class__.__name__ == \"HumanMessage\"\n",
    "            else \"ai\" if message.__class__.__name__ == \"AIMessage\"\n",
    "            else \"system\"\n",
    "        )\n",
    "      \n",
    "        row_dict[\"role\"] = getattr(message, \"role\", None)\n",
    "        row_dict[\"content\"] = message.content\n",
    "\n",
    "        # user_id가 message.additional_kwargs 안에 있을 수 있다고 가정\n",
    "        row_dict[\"user_id\"] = message.additional_kwargs.get(\"user_id\")\n",
    "\n",
    "        return row_dict\n",
    "\n",
    "    def from_dict(self, row_dict: Dict[str, Any]) -> BaseMessage:\n",
    "        \"\"\"\n",
    "        Dict -> LangChain BaseMessage 역변환\n",
    "        (기본적으로 super().from_dict()로 message_type, role, content 등을 복원)\n",
    "        \"\"\"\n",
    "        # message_type 구분\n",
    "        msg_type = row_dict.get(\"message_type\", \"human\")\n",
    "\n",
    "        # content\n",
    "        content = row_dict.get(\"content\", \"\")\n",
    "        # user_id를 additional_kwargs에 넣어두기\n",
    "        additional_kwargs = {}\n",
    "        if row_dict.get(\"user_id\"):\n",
    "            additional_kwargs[\"user_id\"] = row_dict[\"user_id\"]\n",
    "\n",
    "        # message_type에 따라 적절한 Message 클래스로 생성\n",
    "        if msg_type == \"human\":\n",
    "            return HumanMessage(content=content, additional_kwargs=additional_kwargs)\n",
    "        elif msg_type == \"ai\":\n",
    "            return AIMessage(content=content, additional_kwargs=additional_kwargs)\n",
    "        else:\n",
    "            return SystemMessage(content=content, additional_kwargs=additional_kwargs)\n",
    "\n",
    "    def to_sql_model(self, message: BaseMessage, session_id: str):\n",
    "        \"\"\"\n",
    "        (필수) BaseMessage를 SQLAlchemy 모델 인스턴스로 변환\n",
    "        \"\"\"\n",
    "        row_dict = self.to_dict(message)          # 우선 dict로 변환\n",
    "        row_dict[\"session_id\"] = session_id\n",
    "        model_class = self.get_sql_model_class()  # 우리가 정의한 Model 클래스\n",
    "        model_instance = model_class(**row_dict)  # 언패킹해서 생성\n",
    "        return model_instance\n",
    "\n",
    "    def from_sql_model(self, model_instance) -> BaseMessage:\n",
    "        \"\"\"\n",
    "        (필수) SQLAlchemy 모델 -> BaseMessage 역변환\n",
    "        \"\"\"\n",
    "        # model_instance의 컬럼을 dict로 만들기\n",
    "        row_dict = {\n",
    "            col.name: getattr(model_instance, col.name)\n",
    "            for col in model_instance.__table__.columns\n",
    "        }\n",
    "        # 이를 다시 메시지 객체로 역직렬화\n",
    "        message = self.from_dict(row_dict)\n",
    "        return message\n"
   ],
   "id": "4e64289e9603967b",
   "outputs": [],
   "execution_count": 2
  },
  {
   "metadata": {
    "ExecuteTime": {
     "end_time": "2024-12-21T16:51:52.172393Z",
     "start_time": "2024-12-21T16:51:52.169797Z"
    }
   },
   "cell_type": "code",
   "source": [
    "from langchain_core.chat_history import BaseChatMessageHistory\n",
    "from langchain_community.chat_message_histories import SQLChatMessageHistory\n",
    "\n",
    "# 먼저, 아무것도 저장하지 않는 \"No-Op\" 히스토리 클래스를 하나 정의\n",
    "class NoOpChatMessageHistory(BaseChatMessageHistory):\n",
    "    \"\"\"add_message(), get_messages() 모두 아무것도 안 하는 히스토리\"\"\"\n",
    "\n",
    "    def add_message(self, message):\n",
    "        pass  # 아무 작업도 안 함\n",
    "\n",
    "    def get_messages(self):\n",
    "        return []  # 항상 빈 리스트\n",
    "\n",
    "    def clear(self):\n",
    "        pass\n",
    "\n"
   ],
   "id": "e0a6e944bb29da4b",
   "outputs": [],
   "execution_count": 3
  },
  {
   "metadata": {
    "ExecuteTime": {
     "end_time": "2024-12-21T16:51:52.178264Z",
     "start_time": "2024-12-21T16:51:52.175186Z"
    }
   },
   "cell_type": "code",
   "source": [
    "# 1) 커스텀 컨버터 인스턴스 생성\n",
    "my_converter = MyMessageConverter(table_name=\"message_store_with_user\")\n"
   ],
   "id": "dbe648cbd07ae93e",
   "outputs": [],
   "execution_count": 4
  },
  {
   "metadata": {
    "ExecuteTime": {
     "end_time": "2024-12-21T16:51:52.291446Z",
     "start_time": "2024-12-21T16:51:52.181302Z"
    }
   },
   "cell_type": "code",
   "source": [
    "from langchain_community.chat_message_histories import SQLChatMessageHistory\n",
    "from sqlalchemy import create_engine\n",
    "# SQLChatMessageHistory 객체를 생성하고 세션 ID와 데이터베이스 연결 파일을 설정\n",
    "\n",
    "# MySQL 접속을 위한 connection string 설정\n",
    "connection_string = f\"mysql+pymysql://{settings.DATABASE_USER}:{settings.DATABASE_PASSWORD}@{settings.DATABASE_URL}:3306/{settings.DATABASE_NAME}\"\n",
    "\n",
    "chat_message_history = SQLChatMessageHistory(\n",
    "    session_id=\"sql_history\",\n",
    "    connection=connection_string,\n",
    "    custom_message_converter=my_converter,\n",
    ")\n"
   ],
   "id": "b18c3789d4441c94",
   "outputs": [],
   "execution_count": 5
  },
  {
   "metadata": {
    "ExecuteTime": {
     "end_time": "2024-12-21T16:51:52.365258Z",
     "start_time": "2024-12-21T16:51:52.316323Z"
    }
   },
   "cell_type": "code",
   "source": [
    "# 사용자 메시지를 추가합니다.\n",
    "chat_message_history.add_user_message(\n",
    "    \"안녕? 만나서 반가워. 내 이름은 테디야. 나는 랭체인 개발자야. 앞으로 잘 부탁해!\"\n",
    ")\n",
    "# AI 메시지를 추가합니다.\n",
    "chat_message_history.add_ai_message(\"안녕 테디, 만나서 반가워. 나도 잘 부탁해!\")\n"
   ],
   "id": "1b010fd7e74180b9",
   "outputs": [],
   "execution_count": 6
  },
  {
   "metadata": {
    "ExecuteTime": {
     "end_time": "2024-12-21T16:51:52.577695Z",
     "start_time": "2024-12-21T16:51:52.388637Z"
    }
   },
   "cell_type": "code",
   "source": [
    "from langchain_core.prompts import (\n",
    "    ChatPromptTemplate,\n",
    "    MessagesPlaceholder,\n",
    ")\n",
    "from langchain_core.runnables.history import RunnableWithMessageHistory\n",
    "from langchain_openai import ChatOpenAI\n",
    "from langchain_core.output_parsers import StrOutputParser\n"
   ],
   "id": "48d4b6c91d751eb6",
   "outputs": [],
   "execution_count": 7
  },
  {
   "metadata": {
    "ExecuteTime": {
     "end_time": "2024-12-21T16:51:52.841991Z",
     "start_time": "2024-12-21T16:51:52.598878Z"
    }
   },
   "cell_type": "code",
   "source": [
    "prompt = ChatPromptTemplate.from_messages(\n",
    "    [\n",
    "        # 시스템 메시지\n",
    "        (\"system\", \"You are a helpful assistant.\"),\n",
    "        # 대화 기록을 위한 Placeholder\n",
    "        MessagesPlaceholder(variable_name=\"chat_history\"),\n",
    "        (\"human\", \"{question}\"),  # 질문\n",
    "    ]\n",
    ")\n",
    "\n",
    "# chain 을 생성합니다.\n",
    "chain = prompt | ChatOpenAI(model_name=\"gpt-4o-mini\") | StrOutputParser()\n"
   ],
   "id": "277e07ce817bc97e",
   "outputs": [],
   "execution_count": 8
  },
  {
   "metadata": {
    "ExecuteTime": {
     "end_time": "2024-12-21T16:51:52.867359Z",
     "start_time": "2024-12-21T16:51:52.864946Z"
    }
   },
   "cell_type": "code",
   "source": [
    "def get_chat_history(user_id, session_id):\n",
    "    return SQLChatMessageHistory(\n",
    "        table_name=\"message_store_with_user\",\n",
    "        session_id=session_id,\n",
    "        connection=connection_string,\n",
    "        custom_message_converter=my_converter,\n",
    "    )\n"
   ],
   "id": "ffc157d3c12d6509",
   "outputs": [],
   "execution_count": 9
  },
  {
   "metadata": {
    "ExecuteTime": {
     "end_time": "2024-12-21T16:51:52.890330Z",
     "start_time": "2024-12-21T16:51:52.887734Z"
    }
   },
   "cell_type": "code",
   "source": [
    "from langchain_core.runnables.utils import ConfigurableFieldSpec\n",
    "\n",
    "config_fields = [\n",
    "    ConfigurableFieldSpec(\n",
    "        id=\"user_id\",\n",
    "        annotation=str,\n",
    "        name=\"User ID\",\n",
    "        description=\"Unique identifier for a user.\",\n",
    "        default=\"\",\n",
    "        is_shared=True,\n",
    "    ),\n",
    "    ConfigurableFieldSpec(\n",
    "        id=\"session_id\",\n",
    "        annotation=str,\n",
    "        name=\"Conversation ID\",\n",
    "        description=\"Unique identifier for a conversation.\",\n",
    "        default=\"\",\n",
    "        is_shared=True,\n",
    "    )\n",
    "]\n"
   ],
   "id": "d254cba6cf0086e9",
   "outputs": [],
   "execution_count": 10
  },
  {
   "metadata": {
    "ExecuteTime": {
     "end_time": "2024-12-21T16:51:52.920686Z",
     "start_time": "2024-12-21T16:51:52.911260Z"
    }
   },
   "cell_type": "code",
   "source": [
    "chain_with_history = RunnableWithMessageHistory(\n",
    "    chain,\n",
    "    get_chat_history,  # 대화 기록을 가져오는 함수를 설정합니다.\n",
    "    input_messages_key=\"question\",  # 입력 메시지의 키를 \"question\"으로 설정\n",
    "    history_messages_key=\"chat_history\",  # 대화 기록 메시지의 키를 \"history\"로 설정\n",
    "    history_factory_config=config_fields,  # 대화 기록 조회시 참고할 파라미터를 설정합니다.\n",
    ")\n"
   ],
   "id": "ceaa80411a322a8a",
   "outputs": [],
   "execution_count": 11
  },
  {
   "metadata": {
    "ExecuteTime": {
     "end_time": "2024-12-21T16:51:52.950773Z",
     "start_time": "2024-12-21T16:51:52.948599Z"
    }
   },
   "cell_type": "code",
   "source": [
    "# config 설정\n",
    "config = {\"configurable\": {\"session_id\": \"user1\", \"user_id\": \"mabasa\"}}\n"
   ],
   "id": "54ef56745a17254e",
   "outputs": [],
   "execution_count": 12
  },
  {
   "metadata": {
    "ExecuteTime": {
     "end_time": "2024-12-21T16:51:54.000456Z",
     "start_time": "2024-12-21T16:51:52.973599Z"
    }
   },
   "cell_type": "code",
   "source": [
    "# 질문과 config 를 전달하여 실행합니다.\n",
    "chain_with_history.invoke({\"question\": \"안녕 반가워, 내 이름은 테디야\"}, config)\n"
   ],
   "id": "44400e2a6f59343a",
   "outputs": [
    {
     "data": {
      "text/plain": [
       "'안녕, 테디! 다시 만나서 반가워. 오늘은 어떤 이야기를 나눌까?'"
      ]
     },
     "execution_count": 13,
     "metadata": {},
     "output_type": "execute_result"
    }
   ],
   "execution_count": 13
  },
  {
   "metadata": {
    "ExecuteTime": {
     "end_time": "2024-12-21T16:51:54.623481Z",
     "start_time": "2024-12-21T16:51:54.023530Z"
    }
   },
   "cell_type": "code",
   "source": [
    "# 후속 질문을 실해합니다.\n",
    "chain_with_history.invoke({\"question\": \"내 이름이 뭐라고?\"}, config)\n"
   ],
   "id": "d7a5371a7489fc59",
   "outputs": [
    {
     "data": {
      "text/plain": [
       "'너의 이름은 테디야! 맞지?'"
      ]
     },
     "execution_count": 14,
     "metadata": {},
     "output_type": "execute_result"
    }
   ],
   "execution_count": 14
  },
  {
   "metadata": {
    "ExecuteTime": {
     "end_time": "2024-12-21T16:51:54.809251Z",
     "start_time": "2024-12-21T16:51:54.645321Z"
    }
   },
   "cell_type": "code",
   "source": [
    "# config 설정\n",
    "config = {\"configurable\": {\"user_id\": \"user3\", \"conversation_id\": \"conversation1\"}}\n",
    "\n",
    "# 질문과 config 를 전달하여 실행합니다.\n",
    "chain_with_history.invoke({\"question\": \"내 이름이 뭐라고?\"}, config)\n"
   ],
   "id": "42c829b989e3541d",
   "outputs": [
    {
     "ename": "ValueError",
     "evalue": "Missing keys ['session_id'] in config['configurable'] Expected keys are ['session_id', 'user_id'].When using via .invoke() or .stream(), pass in a config; e.g., chain.invoke({'question': 'foo'}, {'configurable': {'session_id': '[your-value-here]'}})",
     "output_type": "error",
     "traceback": [
      "\u001B[1;31m---------------------------------------------------------------------------\u001B[0m",
      "\u001B[1;31mValueError\u001B[0m                                Traceback (most recent call last)",
      "Cell \u001B[1;32mIn[15], line 5\u001B[0m\n\u001B[0;32m      2\u001B[0m config \u001B[38;5;241m=\u001B[39m {\u001B[38;5;124m\"\u001B[39m\u001B[38;5;124mconfigurable\u001B[39m\u001B[38;5;124m\"\u001B[39m: {\u001B[38;5;124m\"\u001B[39m\u001B[38;5;124muser_id\u001B[39m\u001B[38;5;124m\"\u001B[39m: \u001B[38;5;124m\"\u001B[39m\u001B[38;5;124muser3\u001B[39m\u001B[38;5;124m\"\u001B[39m, \u001B[38;5;124m\"\u001B[39m\u001B[38;5;124mconversation_id\u001B[39m\u001B[38;5;124m\"\u001B[39m: \u001B[38;5;124m\"\u001B[39m\u001B[38;5;124mconversation1\u001B[39m\u001B[38;5;124m\"\u001B[39m}}\n\u001B[0;32m      4\u001B[0m \u001B[38;5;66;03m# 질문과 config 를 전달하여 실행합니다.\u001B[39;00m\n\u001B[1;32m----> 5\u001B[0m \u001B[43mchain_with_history\u001B[49m\u001B[38;5;241;43m.\u001B[39;49m\u001B[43minvoke\u001B[49m\u001B[43m(\u001B[49m\u001B[43m{\u001B[49m\u001B[38;5;124;43m\"\u001B[39;49m\u001B[38;5;124;43mquestion\u001B[39;49m\u001B[38;5;124;43m\"\u001B[39;49m\u001B[43m:\u001B[49m\u001B[43m \u001B[49m\u001B[38;5;124;43m\"\u001B[39;49m\u001B[38;5;124;43m내 이름이 뭐라고?\u001B[39;49m\u001B[38;5;124;43m\"\u001B[39;49m\u001B[43m}\u001B[49m\u001B[43m,\u001B[49m\u001B[43m \u001B[49m\u001B[43mconfig\u001B[49m\u001B[43m)\u001B[49m\n",
      "File \u001B[1;32mE:\\TailorLink\\SKN03-FINAL-6Team\\TailorLink_LLM\\.venv\\Lib\\site-packages\\langchain_core\\runnables\\base.py:5356\u001B[0m, in \u001B[0;36mRunnableBindingBase.invoke\u001B[1;34m(self, input, config, **kwargs)\u001B[0m\n\u001B[0;32m   5348\u001B[0m \u001B[38;5;28;01mdef\u001B[39;00m \u001B[38;5;21minvoke\u001B[39m(\n\u001B[0;32m   5349\u001B[0m     \u001B[38;5;28mself\u001B[39m,\n\u001B[0;32m   5350\u001B[0m     \u001B[38;5;28minput\u001B[39m: Input,\n\u001B[0;32m   5351\u001B[0m     config: Optional[RunnableConfig] \u001B[38;5;241m=\u001B[39m \u001B[38;5;28;01mNone\u001B[39;00m,\n\u001B[0;32m   5352\u001B[0m     \u001B[38;5;241m*\u001B[39m\u001B[38;5;241m*\u001B[39mkwargs: Optional[Any],\n\u001B[0;32m   5353\u001B[0m ) \u001B[38;5;241m-\u001B[39m\u001B[38;5;241m>\u001B[39m Output:\n\u001B[0;32m   5354\u001B[0m     \u001B[38;5;28;01mreturn\u001B[39;00m \u001B[38;5;28mself\u001B[39m\u001B[38;5;241m.\u001B[39mbound\u001B[38;5;241m.\u001B[39minvoke(\n\u001B[0;32m   5355\u001B[0m         \u001B[38;5;28minput\u001B[39m,\n\u001B[1;32m-> 5356\u001B[0m         \u001B[38;5;28;43mself\u001B[39;49m\u001B[38;5;241;43m.\u001B[39;49m\u001B[43m_merge_configs\u001B[49m\u001B[43m(\u001B[49m\u001B[43mconfig\u001B[49m\u001B[43m)\u001B[49m,\n\u001B[0;32m   5357\u001B[0m         \u001B[38;5;241m*\u001B[39m\u001B[38;5;241m*\u001B[39m{\u001B[38;5;241m*\u001B[39m\u001B[38;5;241m*\u001B[39m\u001B[38;5;28mself\u001B[39m\u001B[38;5;241m.\u001B[39mkwargs, \u001B[38;5;241m*\u001B[39m\u001B[38;5;241m*\u001B[39mkwargs},\n\u001B[0;32m   5358\u001B[0m     )\n",
      "File \u001B[1;32mE:\\TailorLink\\SKN03-FINAL-6Team\\TailorLink_LLM\\.venv\\Lib\\site-packages\\langchain_core\\runnables\\history.py:603\u001B[0m, in \u001B[0;36mRunnableWithMessageHistory._merge_configs\u001B[1;34m(self, *configs)\u001B[0m\n\u001B[0;32m    596\u001B[0m     example_config \u001B[38;5;241m=\u001B[39m {\u001B[38;5;124m\"\u001B[39m\u001B[38;5;124mconfigurable\u001B[39m\u001B[38;5;124m\"\u001B[39m: example_configurable}\n\u001B[0;32m    597\u001B[0m     msg \u001B[38;5;241m=\u001B[39m (\n\u001B[0;32m    598\u001B[0m         \u001B[38;5;124mf\u001B[39m\u001B[38;5;124m\"\u001B[39m\u001B[38;5;124mMissing keys \u001B[39m\u001B[38;5;132;01m{\u001B[39;00m\u001B[38;5;28msorted\u001B[39m(missing_keys)\u001B[38;5;132;01m}\u001B[39;00m\u001B[38;5;124m in config[\u001B[39m\u001B[38;5;124m'\u001B[39m\u001B[38;5;124mconfigurable\u001B[39m\u001B[38;5;124m'\u001B[39m\u001B[38;5;124m] \u001B[39m\u001B[38;5;124m\"\u001B[39m\n\u001B[0;32m    599\u001B[0m         \u001B[38;5;124mf\u001B[39m\u001B[38;5;124m\"\u001B[39m\u001B[38;5;124mExpected keys are \u001B[39m\u001B[38;5;132;01m{\u001B[39;00m\u001B[38;5;28msorted\u001B[39m(expected_keys)\u001B[38;5;132;01m}\u001B[39;00m\u001B[38;5;124m.\u001B[39m\u001B[38;5;124m\"\u001B[39m\n\u001B[0;32m    600\u001B[0m         \u001B[38;5;124mf\u001B[39m\u001B[38;5;124m\"\u001B[39m\u001B[38;5;124mWhen using via .invoke() or .stream(), pass in a config; \u001B[39m\u001B[38;5;124m\"\u001B[39m\n\u001B[0;32m    601\u001B[0m         \u001B[38;5;124mf\u001B[39m\u001B[38;5;124m\"\u001B[39m\u001B[38;5;124me.g., chain.invoke(\u001B[39m\u001B[38;5;132;01m{\u001B[39;00mexample_input\u001B[38;5;132;01m}\u001B[39;00m\u001B[38;5;124m, \u001B[39m\u001B[38;5;132;01m{\u001B[39;00mexample_config\u001B[38;5;132;01m}\u001B[39;00m\u001B[38;5;124m)\u001B[39m\u001B[38;5;124m\"\u001B[39m\n\u001B[0;32m    602\u001B[0m     )\n\u001B[1;32m--> 603\u001B[0m     \u001B[38;5;28;01mraise\u001B[39;00m \u001B[38;5;167;01mValueError\u001B[39;00m(msg)\n\u001B[0;32m    605\u001B[0m \u001B[38;5;28;01mif\u001B[39;00m \u001B[38;5;28mlen\u001B[39m(expected_keys) \u001B[38;5;241m==\u001B[39m \u001B[38;5;241m1\u001B[39m:\n\u001B[0;32m    606\u001B[0m     \u001B[38;5;28;01mif\u001B[39;00m parameter_names:\n\u001B[0;32m    607\u001B[0m         \u001B[38;5;66;03m# If arity = 1, then invoke function by positional arguments\u001B[39;00m\n",
      "\u001B[1;31mValueError\u001B[0m: Missing keys ['session_id'] in config['configurable'] Expected keys are ['session_id', 'user_id'].When using via .invoke() or .stream(), pass in a config; e.g., chain.invoke({'question': 'foo'}, {'configurable': {'session_id': '[your-value-here]'}})"
     ]
    }
   ],
   "execution_count": 15
  },
  {
   "metadata": {
    "ExecuteTime": {
     "end_time": "2024-12-21T16:51:54.811258900Z",
     "start_time": "2024-12-21T05:02:56.373473Z"
    }
   },
   "cell_type": "code",
   "source": "",
   "id": "a54bfa21127596cb",
   "outputs": [],
   "execution_count": null
  }
 ],
 "metadata": {
  "kernelspec": {
   "display_name": "Python 3",
   "language": "python",
   "name": "python3"
  },
  "language_info": {
   "codemirror_mode": {
    "name": "ipython",
    "version": 2
   },
   "file_extension": ".py",
   "mimetype": "text/x-python",
   "name": "python",
   "nbconvert_exporter": "python",
   "pygments_lexer": "ipython2",
   "version": "2.7.6"
  }
 },
 "nbformat": 4,
 "nbformat_minor": 5
}
