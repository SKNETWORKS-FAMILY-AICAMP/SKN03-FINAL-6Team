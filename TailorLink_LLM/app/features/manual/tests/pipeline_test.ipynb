{
 "cells": [
  {
   "cell_type": "code",
   "id": "initial_id",
   "metadata": {
    "collapsed": true,
    "ExecuteTime": {
     "end_time": "2024-12-25T14:18:41.715032Z",
     "start_time": "2024-12-25T14:18:41.384972Z"
    }
   },
   "source": [
    "from app.core.config import settings\n",
    "from app.database.milvus import get_milvus_client\n",
    "get_milvus_client()"
   ],
   "outputs": [
    {
     "name": "stderr",
     "output_type": "stream",
     "text": [
      "2024-12-25 23:18:41,705 - fastapi_project - INFO - Connected to Milvus at https://in01-8b96d805fab7a0f.aws-ap-northeast-1.vectordb.zillizcloud.com:19533\n"
     ]
    }
   ],
   "execution_count": 3
  },
  {
   "metadata": {
    "ExecuteTime": {
     "end_time": "2024-12-25T14:23:01.982963Z",
     "start_time": "2024-12-25T14:22:59.347304Z"
    }
   },
   "cell_type": "code",
   "source": [
    "from app.features.manual.nodes.rag_pipeline import run_manual_chatbot\n",
    "res = run_manual_chatbot(user_input='에어컨 성능은?', car_id=1, history=['# 에어컨 작동법 에어컨을 작동시키려면, 먼저 차량의 시동을 켠 후, 대시보드에 있는 에어컨 버튼을 눌러 활성화합니다. 온도 조절 다이얼을 원하는 온도로 설정하고, 송풍 모드를 선택하여 공흐름을 조절할 수 있습니다. 에어컨의 성능을 최적화하기 위해 외부 공기 유입 모드와 내부 순환 모드를 적절히 조절하는 것이 좋습니다. 출처: 차량 매뉴얼 12페이지'])"
   ],
   "id": "5d3e6df18b676ccd",
   "outputs": [
    {
     "name": "stderr",
     "output_type": "stream",
     "text": [
      "2024-12-25 23:22:59,351 - fastapi_project - INFO - Running generate history base answer\n"
     ]
    }
   ],
   "execution_count": 11
  },
  {
   "metadata": {
    "ExecuteTime": {
     "end_time": "2024-12-25T14:21:51.032365Z",
     "start_time": "2024-12-25T14:21:51.020926Z"
    }
   },
   "cell_type": "code",
   "source": "print(res)",
   "id": "84b77c72c82e89d6",
   "outputs": [
    {
     "name": "stdout",
     "output_type": "stream",
     "text": [
      "제네시스 차량 관련된 질문만 가능합니다.\n"
     ]
    }
   ],
   "execution_count": 9
  },
  {
   "metadata": {},
   "cell_type": "code",
   "outputs": [],
   "execution_count": null,
   "source": "",
   "id": "72cbb89a4fcad2c6"
  }
 ],
 "metadata": {
  "kernelspec": {
   "display_name": "Python 3",
   "language": "python",
   "name": "python3"
  },
  "language_info": {
   "codemirror_mode": {
    "name": "ipython",
    "version": 2
   },
   "file_extension": ".py",
   "mimetype": "text/x-python",
   "name": "python",
   "nbconvert_exporter": "python",
   "pygments_lexer": "ipython2",
   "version": "2.7.6"
  }
 },
 "nbformat": 4,
 "nbformat_minor": 5
}
