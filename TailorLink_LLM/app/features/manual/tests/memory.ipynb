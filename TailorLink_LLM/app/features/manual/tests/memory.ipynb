{
 "cells": [
  {
   "cell_type": "code",
   "id": "initial_id",
   "metadata": {
    "collapsed": true,
    "ExecuteTime": {
     "end_time": "2024-12-21T04:28:26.006333Z",
     "start_time": "2024-12-21T04:28:23.851380Z"
    }
   },
   "source": [
    "from app.core.config import settings\n",
    "from app.database.mysql import get_mysql_connection\n",
    "mysql_connection = get_mysql_connection()"
   ],
   "outputs": [
    {
     "name": "stderr",
     "output_type": "stream",
     "text": [
      "2024-12-21 13:28:24,338 - fastapi_project - INFO - Retrieved parameter: /tailorlink/mysql/MYSQL_URI\n",
      "2024-12-21 13:28:24,545 - fastapi_project - INFO - Retrieved parameter: /tailorlink/mysql/MYSQL_USER\n",
      "2024-12-21 13:28:24,721 - fastapi_project - INFO - Retrieved parameter: /tailorlink/mysql/MYSQL_PASSWORD\n",
      "2024-12-21 13:28:24,917 - fastapi_project - INFO - Retrieved parameter: /tailorlink/mysql/MYSQL_DB_NAME\n",
      "2024-12-21 13:28:25,086 - fastapi_project - INFO - Retrieved parameter: /tailorlink/openai/OPENAI_API_KEY\n",
      "2024-12-21 13:28:25,261 - fastapi_project - INFO - Retrieved parameter: /tailorlink/milvus/MILVUS_URI\n",
      "2024-12-21 13:28:25,427 - fastapi_project - INFO - Retrieved parameter: /tailorlink/milvus/MILVUS_TOKEN\n",
      "2024-12-21 13:28:25,620 - fastapi_project - INFO - Retrieved parameter: /tailorlink/langchain/LANGCHAIN_API_KEY\n",
      "2024-12-21 13:28:25,785 - fastapi_project - INFO - Retrieved parameter: /tailorlink/langchain/LANGCHAIN_ENDPOINT\n",
      "2024-12-21 13:28:26,004 - fastapi_project - INFO - Connected to MySQL database: mydatabase on my-database.cbuom6aeon9v.ap-northeast-2.rds.amazonaws.com\n"
     ]
    }
   ],
   "execution_count": 1
  },
  {
   "metadata": {},
   "cell_type": "markdown",
   "source": "",
   "id": "3fe11e937bc3de1a"
  },
  {
   "metadata": {
    "ExecuteTime": {
     "end_time": "2024-12-21T04:28:29.062843Z",
     "start_time": "2024-12-21T04:28:27.164570Z"
    }
   },
   "cell_type": "code",
   "source": [
    "from operator import itemgetter\n",
    "from typing import List\n",
    "\n",
    "from langchain_openai.chat_models import ChatOpenAI\n",
    "\n",
    "from langchain_core.chat_history import BaseChatMessageHistory\n",
    "from langchain_core.documents import Document\n",
    "from langchain_core.messages import BaseMessage, AIMessage\n",
    "from langchain_core.prompts import ChatPromptTemplate, MessagesPlaceholder\n",
    "from pydantic import BaseModel, Field\n",
    "from langchain_core.runnables import (\n",
    "    RunnableLambda,\n",
    "    ConfigurableFieldSpec,\n",
    "    RunnablePassthrough,\n",
    ")\n",
    "from langchain_core.runnables.history import RunnableWithMessageHistory\n",
    "\n",
    "\n",
    "class InMemoryHistory(BaseChatMessageHistory, BaseModel):\n",
    "    \"\"\"In memory implementation of chat message history.\"\"\"\n",
    "\n",
    "    messages: List[BaseMessage] = Field(default_factory=list)\n",
    "\n",
    "    def add_messages(self, messages: List[BaseMessage]) -> None:\n",
    "        \"\"\"Add a list of messages to the store\"\"\"\n",
    "        self.messages.extend(messages)\n",
    "\n",
    "    def clear(self) -> None:\n",
    "        self.messages = []\n",
    "\n",
    "# Here we use a global variable to store the chat message history.\n",
    "# This will make it easier to inspect it to see the underlying results.\n",
    "store = {}\n",
    "\n",
    "def get_by_session_id(session_id: str) -> BaseChatMessageHistory:\n",
    "    if session_id not in store:\n",
    "        store[session_id] = InMemoryHistory()\n",
    "    return store[session_id]\n",
    "\n",
    "\n",
    "history = get_by_session_id(\"1\")\n",
    "history.add_message(AIMessage(content=\"hello\"))\n",
    "print(store)  # noqa: T201"
   ],
   "id": "18f8c14fbf3abc39",
   "outputs": [
    {
     "name": "stdout",
     "output_type": "stream",
     "text": [
      "{'1': InMemoryHistory(messages=[AIMessage(content='hello', additional_kwargs={}, response_metadata={})])}\n"
     ]
    }
   ],
   "execution_count": 2
  },
  {
   "metadata": {
    "ExecuteTime": {
     "end_time": "2024-12-21T04:28:36.701338Z",
     "start_time": "2024-12-21T04:28:34.034877Z"
    }
   },
   "cell_type": "code",
   "source": [
    "from typing import Optional\n",
    "\n",
    "from langchain_community.chat_models import ChatAnthropic\n",
    "from langchain_community.chat_models import ChatOpenAI\n",
    "from langchain_core.prompts import ChatPromptTemplate, MessagesPlaceholder\n",
    "from langchain_core.runnables.history import RunnableWithMessageHistory\n",
    "\n",
    "\n",
    "prompt = ChatPromptTemplate.from_messages([\n",
    "    (\"system\", \"You're my best friend. You must play with me\"),\n",
    "    MessagesPlaceholder(variable_name=\"history\"),\n",
    "    (\"human\", \"{question}\"),\n",
    "])\n",
    "\n",
    "chain = prompt | ChatOpenAI(model=\"gpt-4o-mini\")\n",
    "\n",
    "chain_with_history = RunnableWithMessageHistory(\n",
    "    chain,\n",
    "    # Uses the get_by_session_id function defined in the example\n",
    "    # above.\n",
    "    get_by_session_id,\n",
    "    input_messages_key=\"question\",\n",
    "    history_messages_key=\"history\",\n",
    ")\n",
    "\n",
    "print(chain_with_history.invoke(  # noqa: T201\n",
    "    {\"question\": \"내 이름은 마바사야?\"},\n",
    "    config={\"configurable\": {\"session_id\": \"foo\"}}\n",
    "))\n",
    "\n",
    "# Uses the store defined in the example above.\n",
    "print(store)  # noqa: T201\n",
    "\n",
    "print(chain_with_history.invoke(  # noqa: T201\n",
    "    {\"ability\": \"math\", \"question\": \"내 이름은 뭐야?\"},\n",
    "    config={\"configurable\": {\"session_id\": \"foo\"}}\n",
    "))\n",
    "\n",
    "print(store)  # noqa: T201"
   ],
   "id": "1cf59a5306b02ad7",
   "outputs": [
    {
     "name": "stderr",
     "output_type": "stream",
     "text": [
      "C:\\Users\\ChoiYounKyu\\AppData\\Local\\Temp\\ipykernel_18496\\276362656.py:15: LangChainDeprecationWarning: The class `ChatOpenAI` was deprecated in LangChain 0.0.10 and will be removed in 1.0. An updated version of the class exists in the :class:`~langchain-openai package and should be used instead. To use it run `pip install -U :class:`~langchain-openai` and import as `from :class:`~langchain_openai import ChatOpenAI``.\n",
      "  chain = prompt | ChatOpenAI(model=\"gpt-4o-mini\")\n"
     ]
    },
    {
     "name": "stdout",
     "output_type": "stream",
     "text": [
      "content='안녕하세요, 마바사! 만나서 반가워요. 어떻게 도와줄까요?' additional_kwargs={} response_metadata={'token_usage': {'completion_tokens': 20, 'prompt_tokens': 28, 'total_tokens': 48, 'completion_tokens_details': {'accepted_prediction_tokens': 0, 'audio_tokens': 0, 'reasoning_tokens': 0, 'rejected_prediction_tokens': 0}, 'prompt_tokens_details': {'audio_tokens': 0, 'cached_tokens': 0}}, 'model_name': 'gpt-4o-mini', 'system_fingerprint': 'fp_0aa8d3e20b', 'finish_reason': 'stop', 'logprobs': None} id='run-1b7781bd-1e61-4f64-a245-9530854b1a94-0'\n",
      "{'1': InMemoryHistory(messages=[AIMessage(content='hello', additional_kwargs={}, response_metadata={})]), 'foo': InMemoryHistory(messages=[HumanMessage(content='내 이름은 마바사야?', additional_kwargs={}, response_metadata={}), AIMessage(content='안녕하세요, 마바사! 만나서 반가워요. 어떻게 도와줄까요?', additional_kwargs={}, response_metadata={'token_usage': {'completion_tokens': 20, 'prompt_tokens': 28, 'total_tokens': 48, 'completion_tokens_details': {'accepted_prediction_tokens': 0, 'audio_tokens': 0, 'reasoning_tokens': 0, 'rejected_prediction_tokens': 0}, 'prompt_tokens_details': {'audio_tokens': 0, 'cached_tokens': 0}}, 'model_name': 'gpt-4o-mini', 'system_fingerprint': 'fp_0aa8d3e20b', 'finish_reason': 'stop', 'logprobs': None}, id='run-1b7781bd-1e61-4f64-a245-9530854b1a94-0')])}\n",
      "content='당신의 이름은 마바사입니다! 더 궁금한 것이 있나요?' additional_kwargs={} response_metadata={'token_usage': {'completion_tokens': 18, 'prompt_tokens': 61, 'total_tokens': 79, 'completion_tokens_details': {'accepted_prediction_tokens': 0, 'audio_tokens': 0, 'reasoning_tokens': 0, 'rejected_prediction_tokens': 0}, 'prompt_tokens_details': {'audio_tokens': 0, 'cached_tokens': 0}}, 'model_name': 'gpt-4o-mini', 'system_fingerprint': 'fp_d02d531b47', 'finish_reason': 'stop', 'logprobs': None} id='run-a1cf628a-5a34-4efa-bf30-38962e660a97-0'\n",
      "{'1': InMemoryHistory(messages=[AIMessage(content='hello', additional_kwargs={}, response_metadata={})]), 'foo': InMemoryHistory(messages=[HumanMessage(content='내 이름은 마바사야?', additional_kwargs={}, response_metadata={}), AIMessage(content='안녕하세요, 마바사! 만나서 반가워요. 어떻게 도와줄까요?', additional_kwargs={}, response_metadata={'token_usage': {'completion_tokens': 20, 'prompt_tokens': 28, 'total_tokens': 48, 'completion_tokens_details': {'accepted_prediction_tokens': 0, 'audio_tokens': 0, 'reasoning_tokens': 0, 'rejected_prediction_tokens': 0}, 'prompt_tokens_details': {'audio_tokens': 0, 'cached_tokens': 0}}, 'model_name': 'gpt-4o-mini', 'system_fingerprint': 'fp_0aa8d3e20b', 'finish_reason': 'stop', 'logprobs': None}, id='run-1b7781bd-1e61-4f64-a245-9530854b1a94-0'), HumanMessage(content='내 이름은 뭐야?', additional_kwargs={}, response_metadata={}), AIMessage(content='당신의 이름은 마바사입니다! 더 궁금한 것이 있나요?', additional_kwargs={}, response_metadata={'token_usage': {'completion_tokens': 18, 'prompt_tokens': 61, 'total_tokens': 79, 'completion_tokens_details': {'accepted_prediction_tokens': 0, 'audio_tokens': 0, 'reasoning_tokens': 0, 'rejected_prediction_tokens': 0}, 'prompt_tokens_details': {'audio_tokens': 0, 'cached_tokens': 0}}, 'model_name': 'gpt-4o-mini', 'system_fingerprint': 'fp_d02d531b47', 'finish_reason': 'stop', 'logprobs': None}, id='run-a1cf628a-5a34-4efa-bf30-38962e660a97-0')])}\n"
     ]
    }
   ],
   "execution_count": 3
  },
  {
   "metadata": {},
   "cell_type": "code",
   "outputs": [],
   "execution_count": null,
   "source": "",
   "id": "24382b97dcd7b901"
  },
  {
   "metadata": {
    "ExecuteTime": {
     "end_time": "2024-12-21T04:29:54.530175Z",
     "start_time": "2024-12-21T04:29:53.713887Z"
    }
   },
   "cell_type": "code",
   "source": [
    "res =chain_with_history.invoke(  # noqa: T201\n",
    "    {\"ability\": \"math\", \"question\": \"내 이름은 뭐야?\"},\n",
    "    config={\"configurable\": {\"session_id\": \"foo1\"}}\n",
    ")"
   ],
   "id": "4b66016f08f6066d",
   "outputs": [],
   "execution_count": 4
  },
  {
   "metadata": {
    "ExecuteTime": {
     "end_time": "2024-12-21T04:30:48.217099Z",
     "start_time": "2024-12-21T04:30:48.213674Z"
    }
   },
   "cell_type": "code",
   "source": "res.content",
   "id": "aee33ff4ce96bbf5",
   "outputs": [
    {
     "data": {
      "text/plain": [
       "'안녕! 너의 이름은 내가 알 수 없지만, 너가 원하는 이름을 알려주면 그 이름으로 불러줄게! 너의 이름이 뭐야?'"
      ]
     },
     "execution_count": 7,
     "metadata": {},
     "output_type": "execute_result"
    }
   ],
   "execution_count": 7
  },
  {
   "metadata": {
    "ExecuteTime": {
     "end_time": "2024-12-21T09:40:59.909691Z",
     "start_time": "2024-12-21T09:40:59.682326Z"
    }
   },
   "cell_type": "code",
   "source": [
    "from app.database.chat_history import ChatHistoryManager, Session\n",
    "from langchain_core.messages import HumanMessage\n",
    "# 세션 및 매니저 초기화\n",
    "session = Session()\n",
    "chat_history_manager = ChatHistoryManager(session)\n",
    "\n",
    "# 대화 기록 예제\n",
    "chat_history_manager.save_message(\n",
    "    session_id=\"user1a\",\n",
    "    message=HumanMessage(content=\"안녕하세요\"),\n",
    "    message_type=\"human\"\n",
    ")\n",
    "print(chat_history_manager.load_history(\"user1\"))\n"
   ],
   "id": "a6e9269700c8ee8f",
   "outputs": [
    {
     "name": "stdout",
     "output_type": "stream",
     "text": [
      "[HumanMessage(content='안녕하세요', additional_kwargs={}, response_metadata={}), HumanMessage(content='안녕하세요', additional_kwargs={}, response_metadata={}), HumanMessage(content='안녕하세요', additional_kwargs={}, response_metadata={})]\n"
     ]
    }
   ],
   "execution_count": 13
  },
  {
   "metadata": {
    "ExecuteTime": {
     "end_time": "2024-12-21T09:39:20.887444Z",
     "start_time": "2024-12-21T09:39:20.886010Z"
    }
   },
   "cell_type": "code",
   "source": "",
   "id": "956a13657616876f",
   "outputs": [],
   "execution_count": null
  },
  {
   "metadata": {
    "ExecuteTime": {
     "end_time": "2024-12-21T09:41:04.012588Z",
     "start_time": "2024-12-21T09:41:04.003113Z"
    }
   },
   "cell_type": "code",
   "source": "print(chat_history_manager.load_history(\"user1a\"))",
   "id": "f9b6ef4439505609",
   "outputs": [
    {
     "name": "stdout",
     "output_type": "stream",
     "text": [
      "[HumanMessage(content='안녕하세요', additional_kwargs={}, response_metadata={})]\n"
     ]
    }
   ],
   "execution_count": 14
  },
  {
   "metadata": {},
   "cell_type": "code",
   "outputs": [],
   "execution_count": null,
   "source": "",
   "id": "3999ab371a22fd68"
  }
 ],
 "metadata": {
  "kernelspec": {
   "display_name": "Python 3",
   "language": "python",
   "name": "python3"
  },
  "language_info": {
   "codemirror_mode": {
    "name": "ipython",
    "version": 2
   },
   "file_extension": ".py",
   "mimetype": "text/x-python",
   "name": "python",
   "nbconvert_exporter": "python",
   "pygments_lexer": "ipython2",
   "version": "2.7.6"
  }
 },
 "nbformat": 4,
 "nbformat_minor": 5
}
