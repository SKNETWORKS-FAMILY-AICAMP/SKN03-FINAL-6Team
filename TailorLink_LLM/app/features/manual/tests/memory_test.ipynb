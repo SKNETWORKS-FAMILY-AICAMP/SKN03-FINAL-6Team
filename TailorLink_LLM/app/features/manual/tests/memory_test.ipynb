{
 "cells": [
  {
   "cell_type": "code",
   "id": "initial_id",
   "metadata": {
    "collapsed": true,
    "ExecuteTime": {
     "end_time": "2024-12-21T03:10:35.255281Z",
     "start_time": "2024-12-21T03:10:35.017359Z"
    }
   },
   "source": [
    "from app.core.config import settings\n",
    "from app.database.mysql import get_mysql_connection\n",
    "mysql_connection = get_mysql_connection()"
   ],
   "outputs": [
    {
     "name": "stderr",
     "output_type": "stream",
     "text": [
      "2024-12-21 12:10:35,252 - fastapi_project - INFO - Connected to MySQL database: mydatabase on my-database.cbuom6aeon9v.ap-northeast-2.rds.amazonaws.com\n"
     ]
    }
   ],
   "execution_count": 3
  },
  {
   "metadata": {
    "ExecuteTime": {
     "end_time": "2024-12-19T14:05:02.534310Z",
     "start_time": "2024-12-19T14:05:02.528624Z"
    }
   },
   "cell_type": "code",
   "source": [
    "import json\n",
    "\n",
    "class MySQLMemorySaver:\n",
    "    def __init__(self, mysql_connection):\n",
    "        self.connection = mysql_connection\n",
    "        \n",
    "    def save(self, session_id, node_key, node_value):\n",
    "        # node_value를 JSON 직렬화\n",
    "        value_str = json.dumps(node_value, ensure_ascii=False)\n",
    "        with self.connection.cursor() as cursor:\n",
    "            # 동일 session_id, node_key 있으면 업데이트, 없으면 삽입\n",
    "            sql = \"\"\"\n",
    "            INSERT INTO chatbot_sessions (session_id, node_key, node_value) \n",
    "            VALUES (%s, %s, %s)\n",
    "            ON DUPLICATE KEY UPDATE node_value = VALUES(node_value), timestamp = CURRENT_TIMESTAMP\n",
    "            \"\"\"\n",
    "            cursor.execute(sql, (session_id, node_key, value_str))\n",
    "        self.connection.commit()\n",
    "        \n",
    "    def load(self, session_id, node_key):\n",
    "        with self.connection.cursor() as cursor:\n",
    "            sql = \"SELECT node_value FROM chatbot_sessions WHERE session_id = %s AND node_key = %s\"\n",
    "            cursor.execute(sql, (session_id, node_key))\n",
    "            result = cursor.fetchone()\n",
    "            if result:\n",
    "                return json.loads(result[\"node_value\"])\n",
    "        return None\n",
    "        \n",
    "    def load_all(self, session_id):\n",
    "        # 세션의 모든 노드 데이터 로드\n",
    "        with self.connection.cursor() as cursor:\n",
    "            sql = \"SELECT node_key, node_value FROM chatbot_sessions WHERE session_id = %s\"\n",
    "            cursor.execute(sql, (session_id,))\n",
    "            rows = cursor.fetchall()\n",
    "            data = {}\n",
    "            for row in rows:\n",
    "                data[row[\"node_key\"]] = json.loads(row[\"node_value\"])\n",
    "            return data"
   ],
   "id": "bac94eea47d1a3af",
   "outputs": [],
   "execution_count": 6
  },
  {
   "metadata": {
    "ExecuteTime": {
     "end_time": "2024-12-19T14:06:18.228256Z",
     "start_time": "2024-12-19T14:06:17.972588Z"
    }
   },
   "cell_type": "code",
   "source": [
    "from fastapi import FastAPI, HTTPException\n",
    "from pydantic import BaseModel\n",
    "from langchain_core.messages import HumanMessage, AIMessage\n",
    "from typing import List, Dict"
   ],
   "id": "c74f47e6542b349d",
   "outputs": [],
   "execution_count": 8
  },
  {
   "metadata": {},
   "cell_type": "code",
   "outputs": [],
   "execution_count": null,
   "source": [
    "# MySQLMemorySaver 초기화\n",
    "memory = MySQLMemorySaver(mysql_connection)\n",
    "\n",
    "app = FastAPI()\n",
    "\n",
    "conversation_cache = {}  # 서버 실행 중 세션별 대화 기록 캐시 (옵션)\n",
    "\n",
    "class UserInput(BaseModel):\n",
    "    session_id: str\n",
    "    message: str\n",
    "\n",
    "def get_conversation(session_id: str):\n",
    "    # MySQL에서 conversation 로드\n",
    "    conv = memory.load(session_id, \"conversation\")\n",
    "    if conv is None:\n",
    "        return {\"history\": []}\n",
    "    return conv\n",
    "\n",
    "def update_conversation(session_id: str, user_msg: str, ai_msg: str):\n",
    "    conv = get_conversation(session_id)\n",
    "    conv[\"history\"].append({\"role\": \"사용자\", \"message\": user_msg})\n",
    "    conv[\"history\"].append({\"role\": \"AI\", \"message\": ai_msg})\n",
    "    memory.save(session_id, \"conversation\", conv)\n",
    "\n",
    "\n",
    "def process_user_input(user_input: UserInput):\n",
    "    session_id = user_input.session_id\n",
    "    user_msg = user_input.message\n",
    "\n",
    "    # 현재까지의 대화 불러오기\n",
    "    conv = get_conversation(session_id)\n",
    "    # conv -> HumanMessage, AIMessage 리스트로 변환\n",
    "    messages = []\n",
    "    for turn in conv[\"history\"]:\n",
    "        if turn[\"role\"] == \"사용자\":\n",
    "            messages.append(HumanMessage(content=turn[\"message\"]))\n",
    "        else:\n",
    "            messages.append(AIMessage(content=turn[\"message\"]))\n",
    "\n",
    "    # 새로운 사용자 메시지 추가\n",
    "    messages.append(HumanMessage(content=user_msg))\n",
    "\n",
    "    # LangGraph 실행\n",
    "    try:\n",
    "        result = graph.run(messages=messages)\n",
    "        ai_response = result[\"output\"]\n",
    "    except Exception as e:\n",
    "        raise HTTPException(status_code=500, detail=str(e))\n",
    "\n",
    "    # AI 응답 대화 기록 업데이트\n",
    "    update_conversation(session_id, user_msg, ai_response)\n",
    "\n",
    "    # 노드별 데이터 (예: node_x)를 저장 (선택사항)\n",
    "    # node_key 예: node_(대화횟수)\n",
    "    node_key = f\"node_{len(conv['history'])//2}\"  # 사용자+AI 한 쌍 = 대화 1회\n",
    "    memory.save(session_id, node_key, {\n",
    "        \"input\": {\"messages\": [{\"content\": user_msg, \"type\": \"HumanMessage\"}]},\n",
    "        \"output\": {\"response\": ai_response}\n",
    "    })\n",
    "\n",
    "    # 변경된 대화 기록 반환\n",
    "    return get_conversation(session_id)\n"
   ],
   "id": "56cfd93fd0ffcb7"
  },
  {
   "metadata": {},
   "cell_type": "code",
   "outputs": [],
   "execution_count": null,
   "source": "",
   "id": "b2c1aa3a2da888b2"
  }
 ],
 "metadata": {
  "kernelspec": {
   "display_name": "Python 3",
   "language": "python",
   "name": "python3"
  },
  "language_info": {
   "codemirror_mode": {
    "name": "ipython",
    "version": 2
   },
   "file_extension": ".py",
   "mimetype": "text/x-python",
   "name": "python",
   "nbconvert_exporter": "python",
   "pygments_lexer": "ipython2",
   "version": "2.7.6"
  }
 },
 "nbformat": 4,
 "nbformat_minor": 5
}
