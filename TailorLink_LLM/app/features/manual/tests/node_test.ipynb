{
 "cells": [
  {
   "cell_type": "code",
   "id": "initial_id",
   "metadata": {
    "collapsed": true,
    "ExecuteTime": {
     "end_time": "2024-12-25T11:28:37.476064Z",
     "start_time": "2024-12-25T11:28:35.738602Z"
    }
   },
   "source": [
    "from langchain_core.messages import AIMessage\n",
    "\n",
    "from app.core.config import settings\n",
    "from app.database.milvus import get_milvus_client\n",
    "get_milvus_client()"
   ],
   "outputs": [
    {
     "name": "stderr",
     "output_type": "stream",
     "text": [
      "2024-12-25 20:28:37,468 - fastapi_project - INFO - Connected to Milvus at https://in01-8b96d805fab7a0f.aws-ap-northeast-1.vectordb.zillizcloud.com:19533\n"
     ]
    }
   ],
   "execution_count": 2
  },
  {
   "metadata": {
    "ExecuteTime": {
     "end_time": "2024-12-25T11:32:39.643869Z",
     "start_time": "2024-12-25T11:32:39.220087Z"
    }
   },
   "cell_type": "code",
   "source": [
    "from app.features.manual.models.model import create_openai_model\n",
    "from app.features.manual.models.schemas import AnswerWithHistory\n",
    "llm = create_openai_model('gpt-4o-mini')\n",
    "structured_llm_grader = llm.with_structured_output(AnswerWithHistory)"
   ],
   "id": "7d26b495c82e3761",
   "outputs": [],
   "execution_count": 7
  },
  {
   "metadata": {
    "ExecuteTime": {
     "end_time": "2024-12-25T11:32:49.920229Z",
     "start_time": "2024-12-25T11:32:49.909506Z"
    }
   },
   "cell_type": "code",
   "source": [
    "from langchain_core.prompts import PromptTemplate\n",
    "history_base_prompt = PromptTemplate.from_template(\n",
    "        \"\"\"\n",
    "        다음은 이전 대화 내용만을 참고하여 응답을 생성하기 위한 프로세스입니다. 외부 지식이나 학습된 데이터를 사용하지 않고 오직 제공된 대화 내용을 기반으로 응답합니다.\n",
    "\n",
    "        # 응답 가능성 판단 및 생성\n",
    "\n",
    "        ## 절차\n",
    "        1. **이전 대화 분석**: 이전 대화의 내용을 검토하여 대화의 주제 및 구체적으로 제기된 질문을 파악합니다.\n",
    "        2. **질문 또는 프롬프트 식별**: 명시적 또는 암시적인 질문이나 요청을 식별합니다.\n",
    "        3. **응답 가능성 평가**: 제공된 이전 대화 내용만으로 충분한 정보가 있는지 판단하고, 응답 가능 여부를 결정합니다.\n",
    "           - 응답 가능하면 `'yes'`를 출력합니다.\n",
    "           - 응답이 불가능하면 `'no'`를 출력합니다.\n",
    "        4. **응답 생성**: \n",
    "           - 가능(`'yes'`)하면 이전 대화 내용만을 바탕으로 논리적이고 맥락에 맞는 응답을 작성합니다.\n",
    "           - 불가능(`'no'`)하면 추가 정보가 필요하다는 점을 명시합니다.\n",
    "\n",
    "        ## 제한 사항\n",
    "        - 외부 지식, 학습된 데이터, 일반 상식 등을 사용하지 않습니다.\n",
    "        - 이전 대화 내용 외의 정보를 가정하거나 추가하지 않습니다.\n",
    "\n",
    "        ## 출력 형식\n",
    "        - 출력은 **마크다운(Markdown)** 형식으로 작성합니다.\n",
    "        - 응답 가능 여부(`yes` 또는 `no`)를 표시하고, 이에 따른 적절한 내용을 제공합니다.\n",
    "\n",
    "        ## 이전 대화 내용: {chat_history}\n",
    "\n",
    "        ## 질문: {question}\n",
    "        \"\"\")\n",
    "\n",
    "contextual_responder = history_base_prompt | structured_llm_grader"
   ],
   "id": "b08901dbf454dfbf",
   "outputs": [],
   "execution_count": 8
  },
  {
   "metadata": {
    "ExecuteTime": {
     "end_time": "2024-12-25T11:45:45.616525Z",
     "start_time": "2024-12-25T11:45:45.604417Z"
    }
   },
   "cell_type": "code",
   "source": [
    "from langchain.schema import AIMessage, HumanMessage\n",
    "chat_list = [\n",
    "    HumanMessage(content=\"제네시스 블루투스 시스템에 내 휴대폰을 어떻게 연결하나요?\"),\n",
    "    AIMessage(content=\"제네시스 블루투스 시스템에 휴대폰을 연결하려면, 인포테인먼트 화면에서 '설정' 메뉴로 이동한 후 '기기 연결'을 선택하고 '블루투스'를 누르세요. 휴대폰에서 블루투스를 활성화하고, 사용 가능한 장치 목록에서 차량을 선택하세요.\"),\n",
    "\n",
    "    HumanMessage(content=\"타이어 압력 경고등이 켜지면 어떻게 해야 하나요?\"),\n",
    "    AIMessage(content=\"타이어 압력 경고등이 켜지면, 타이어 압력 모니터링 시스템이나 타이어 게이지를 사용하여 압력을 확인하세요. 권장 압력은 운전석 문틀의 스티커에서 확인할 수 있으며, 부족한 타이어는 적정 압력으로 채우세요.\"),\n",
    "\n",
    "    HumanMessage(content=\"운전석 좌석을 편안하게 조정하려면 어떻게 해야 하나요?\"),\n",
    "    AIMessage(content=\"운전석 좌석을 조정하려면, 좌석 옆에 있는 전동 좌석 조정 버튼을 사용하세요. 좌석을 앞뒤로 이동하거나 높낮이를 조정하고, 등받이 각도와 요추 지지대를 조절할 수 있습니다.\"),\n",
    "\n",
    "    HumanMessage(content=\"제네시스 G80의 비상용 키트는 어디에 있나요?\"),\n",
    "    AIMessage(content=\"제네시스 G80의 비상용 키트는 일반적으로 트렁크에 있으며, 바닥판 아래 수납공간이나 옆면 패널에 위치할 수 있습니다. 정확한 위치는 차량 매뉴얼을 참조하세요.\"),\n",
    "\n",
    "    HumanMessage(content=\"크루즈 컨트롤 기능은 어떻게 활성화하나요?\"),\n",
    "    AIMessage(content=\"크루즈 컨트롤 기능을 활성화하려면, 스티어링 휠에 있는 'CRUISE' 버튼을 누르세요. 원하는 속도로 가속한 후 'SET' 버튼을 눌러 시스템을 작동시킬 수 있습니다.\"),\n",
    "\n",
    "    HumanMessage(content=\"제네시스가 시동이 걸리지 않으면 어떻게 해야 하나요?\"),\n",
    "    AIMessage(content=\"제네시스의 시동이 걸리지 않을 경우, 우선 스마트 키의 배터리가 충분한지 확인하세요. 배터리가 부족하다면, 키를 시동 버튼 근처에 가까이 대고 시도하세요. 또한 차량 배터리가 충전되었는지 확인하고, 문제가 지속되면 제네시스 딜러에 문의하세요.\"),\n",
    "\n",
    "    HumanMessage(content=\"주차할 때 후방 카메라를 어떻게 활성화하나요?\"),\n",
    "    AIMessage(content=\"주차할 때 후방 카메라를 활성화하려면, 기어를 후진으로 변경하세요. 그러면 인포테인먼트 화면에 후방 카메라 화면이 자동으로 표시됩니다.\"),\n",
    "\n",
    "    HumanMessage(content=\"제네시스 GV70에 적합한 연료는 무엇인가요?\"),\n",
    "    AIMessage(content=\"제네시스 GV70에 권장되는 연료는 옥탄가 91 이상의 고급 무연 휘발유입니다. 자세한 내용은 차량 매뉴얼을 참조하세요.\"),\n",
    "\n",
    "    HumanMessage(content=\"내비게이션 시스템을 어떻게 업데이트하나요?\"),\n",
    "    AIMessage(content=\"내비게이션 시스템을 업데이트하려면, 제네시스 내비게이션 업데이트 웹사이트를 방문하여 최신 소프트웨어를 USB 드라이브에 다운로드하세요. USB를 차량의 USB 포트에 연결한 후 화면의 지침에 따라 업데이트를 완료하세요.\"),\n",
    "\n",
    "    HumanMessage(content=\"겨울철에 열선 시트를 어떻게 작동시키나요?\"),\n",
    "    AIMessage(content=\"열선 시트를 작동시키려면, 공조 제어 패널에 있는 열선 시트 버튼을 누르세요. 동일한 버튼을 사용하여 열선 강도를 조절할 수 있습니다.\")\n",
    "]\n"
   ],
   "id": "6bd5e735678362ff",
   "outputs": [],
   "execution_count": 9
  },
  {
   "metadata": {
    "ExecuteTime": {
     "end_time": "2024-12-25T11:59:05.920721Z",
     "start_time": "2024-12-25T11:59:05.025085Z"
    }
   },
   "cell_type": "code",
   "source": [
    "\n",
    "question = '열선 시트 사용법?'\n",
    "response = contextual_responder.invoke({\"chat_history\": chat_list, \"question\": question})\n",
    "print(response)"
   ],
   "id": "53e48cb3df20cb95",
   "outputs": [
    {
     "name": "stdout",
     "output_type": "stream",
     "text": [
      "binary_score='yes' answer='열선 시트를 작동시키려면, 공조 제어 패널에 있는 열선 시트 버튼을 누르세요. 동일한 버튼을 사용하여 열선 강도를 조절할 수 있습니다.'\n"
     ]
    }
   ],
   "execution_count": 14
  },
  {
   "metadata": {},
   "cell_type": "code",
   "outputs": [],
   "execution_count": null,
   "source": "",
   "id": "9b350812ed5a700b"
  },
  {
   "metadata": {},
   "cell_type": "markdown",
   "source": "# 판단 노드",
   "id": "4bad2c6e1c0d1118"
  },
  {
   "metadata": {
    "ExecuteTime": {
     "end_time": "2024-12-25T14:07:52.733990Z",
     "start_time": "2024-12-25T14:07:50.837474Z"
    }
   },
   "cell_type": "code",
   "source": "from app.core.config import settings",
   "id": "508efc05f7886ede",
   "outputs": [
    {
     "name": "stderr",
     "output_type": "stream",
     "text": [
      "2024-12-25 23:07:51,230 - fastapi_project - INFO - Retrieved parameter: /tailorlink/mysql/MYSQL_URI\n",
      "2024-12-25 23:07:51,429 - fastapi_project - INFO - Retrieved parameter: /tailorlink/mysql/MYSQL_USER\n",
      "2024-12-25 23:07:51,607 - fastapi_project - INFO - Retrieved parameter: /tailorlink/mysql/MYSQL_PASSWORD\n",
      "2024-12-25 23:07:51,796 - fastapi_project - INFO - Retrieved parameter: /tailorlink/mysql/MYSQL_DB_NAME\n",
      "2024-12-25 23:07:51,992 - fastapi_project - INFO - Retrieved parameter: /tailorlink/openai/OPENAI_API_KEY\n",
      "2024-12-25 23:07:52,182 - fastapi_project - INFO - Retrieved parameter: /tailorlink/milvus/MILVUS_URI\n",
      "2024-12-25 23:07:52,381 - fastapi_project - INFO - Retrieved parameter: /tailorlink/milvus/MILVUS_TOKEN\n",
      "2024-12-25 23:07:52,553 - fastapi_project - INFO - Retrieved parameter: /tailorlink/langchain/LANGCHAIN_API_KEY\n",
      "2024-12-25 23:07:52,726 - fastapi_project - INFO - Retrieved parameter: /tailorlink/langchain/LANGCHAIN_ENDPOINT\n"
     ]
    }
   ],
   "execution_count": 1
  },
  {
   "metadata": {
    "ExecuteTime": {
     "end_time": "2024-12-25T14:07:54.794104Z",
     "start_time": "2024-12-25T14:07:53.532667Z"
    }
   },
   "cell_type": "code",
   "source": [
    "from app.features.manual.models.prompt_templates import create_check_genesis_and_split_prompt\n",
    "from app.features.manual.models.model import create_openai_model\n",
    "from app.features.manual.models.schemas import QuestionList\n",
    "\n",
    "llm = create_openai_model()\n",
    "structured_llm_grader = llm.with_structured_output(QuestionList)\n",
    "prompt = create_check_genesis_and_split_prompt()\n",
    "\n",
    "chain = prompt | structured_llm_grader"
   ],
   "id": "4ab9aacb7b5d3e67",
   "outputs": [],
   "execution_count": 2
  },
  {
   "metadata": {
    "ExecuteTime": {
     "end_time": "2024-12-25T14:07:54.802124Z",
     "start_time": "2024-12-25T14:07:54.796610Z"
    }
   },
   "cell_type": "code",
   "source": "prompt.input_variables",
   "id": "fb2f119a555c2c91",
   "outputs": [
    {
     "data": {
      "text/plain": [
       "['car_model', 'question']"
      ]
     },
     "execution_count": 3,
     "metadata": {},
     "output_type": "execute_result"
    }
   ],
   "execution_count": 3
  },
  {
   "metadata": {
    "ExecuteTime": {
     "end_time": "2024-12-25T14:08:02.180597Z",
     "start_time": "2024-12-25T14:08:02.140485Z"
    }
   },
   "cell_type": "code",
   "source": [
    "from app.features.manual.tools.tools import get_genesis_model\n",
    "car_list = get_genesis_model()"
   ],
   "id": "2ab9be91e84741fa",
   "outputs": [
    {
     "name": "stderr",
     "output_type": "stream",
     "text": [
      "2024-12-25 23:08:02,171 - fastapi_project - INFO - Connected to MySQL database: mydatabase on my-database.cbuom6aeon9v.ap-northeast-2.rds.amazonaws.com\n"
     ]
    }
   ],
   "execution_count": 6
  },
  {
   "metadata": {
    "ExecuteTime": {
     "end_time": "2024-12-25T14:10:01.844340Z",
     "start_time": "2024-12-25T14:10:00.667366Z"
    }
   },
   "cell_type": "code",
   "source": [
    "question = 'g70 shooting 현재 가격?'\n",
    "chain.invoke({\"car_model\": car_list, \"question\": question})"
   ],
   "id": "d59380d00dbc6a8d",
   "outputs": [
    {
     "data": {
      "text/plain": [
       "QuestionList(vailid_question=True, reason='질문이 제네시스 차량(g70 shooting)과 관련되어 있으며, 단일 질문으로 판단됨.', print=\"['g70 shooting 현재 가격?']\", question_list=['g70 shooting 현재 가격?'])"
      ]
     },
     "execution_count": 13,
     "metadata": {},
     "output_type": "execute_result"
    }
   ],
   "execution_count": 13
  },
  {
   "metadata": {},
   "cell_type": "code",
   "outputs": [],
   "execution_count": null,
   "source": "",
   "id": "5ee1d98f3f5e2aa5"
  },
  {
   "metadata": {},
   "cell_type": "markdown",
   "source": "# 전체 파이프 라인 테스트",
   "id": "47aa906d3242a06b"
  },
  {
   "metadata": {},
   "cell_type": "code",
   "outputs": [],
   "execution_count": null,
   "source": "",
   "id": "ac5eaf08b94b15cd"
  }
 ],
 "metadata": {
  "kernelspec": {
   "display_name": "Python 3",
   "language": "python",
   "name": "python3"
  },
  "language_info": {
   "codemirror_mode": {
    "name": "ipython",
    "version": 2
   },
   "file_extension": ".py",
   "mimetype": "text/x-python",
   "name": "python",
   "nbconvert_exporter": "python",
   "pygments_lexer": "ipython2",
   "version": "2.7.6"
  }
 },
 "nbformat": 4,
 "nbformat_minor": 5
}
