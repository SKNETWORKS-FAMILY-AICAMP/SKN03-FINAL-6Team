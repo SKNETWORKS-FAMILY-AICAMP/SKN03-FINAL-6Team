{
 "cells": [
  {
   "metadata": {},
   "cell_type": "markdown",
   "source": "",
   "id": "2603d7a206cb63a8"
  },
  {
   "metadata": {
    "ExecuteTime": {
     "end_time": "2024-12-21T17:00:11.414851Z",
     "start_time": "2024-12-21T17:00:09.414802Z"
    }
   },
   "cell_type": "code",
   "source": [
    "from app.core.config import settings\n",
    "from app.database.mysql import get_mysql_connection\n",
    "connection = get_mysql_connection()"
   ],
   "id": "1e8a2cbfd019c9e4",
   "outputs": [
    {
     "name": "stderr",
     "output_type": "stream",
     "text": [
      "2024-12-22 02:00:09,775 - fastapi_project - INFO - Retrieved parameter: /tailorlink/mysql/MYSQL_URI\n",
      "2024-12-22 02:00:09,955 - fastapi_project - INFO - Retrieved parameter: /tailorlink/mysql/MYSQL_USER\n",
      "2024-12-22 02:00:10,140 - fastapi_project - INFO - Retrieved parameter: /tailorlink/mysql/MYSQL_PASSWORD\n",
      "2024-12-22 02:00:10,328 - fastapi_project - INFO - Retrieved parameter: /tailorlink/mysql/MYSQL_DB_NAME\n",
      "2024-12-22 02:00:10,512 - fastapi_project - INFO - Retrieved parameter: /tailorlink/openai/OPENAI_API_KEY\n",
      "2024-12-22 02:00:10,706 - fastapi_project - INFO - Retrieved parameter: /tailorlink/milvus/MILVUS_URI\n",
      "2024-12-22 02:00:10,890 - fastapi_project - INFO - Retrieved parameter: /tailorlink/milvus/MILVUS_TOKEN\n",
      "2024-12-22 02:00:11,072 - fastapi_project - INFO - Retrieved parameter: /tailorlink/langchain/LANGCHAIN_API_KEY\n",
      "2024-12-22 02:00:11,266 - fastapi_project - INFO - Retrieved parameter: /tailorlink/langchain/LANGCHAIN_ENDPOINT\n",
      "2024-12-22 02:00:11,413 - fastapi_project - INFO - Connected to MySQL database: mydatabase on my-database.cbuom6aeon9v.ap-northeast-2.rds.amazonaws.com\n"
     ]
    }
   ],
   "execution_count": 2
  },
  {
   "cell_type": "code",
   "id": "initial_id",
   "metadata": {
    "collapsed": true,
    "ExecuteTime": {
     "end_time": "2024-12-21T17:02:14.831286Z",
     "start_time": "2024-12-21T17:02:11.352819Z"
    }
   },
   "source": [
    "from langchain_core.prompts import PromptTemplate\n",
    "\n",
    "prompt = PromptTemplate.from_template(\n",
    "        \"\"\"\n",
    "        당신은 제네시스 차량 매뉴얼에 대한 전문 Q&A 도우미입니다.\n",
    "        사용자가 질문을 하면 다음 규칙을 따르세요:\n",
    "\n",
    "        먼저, 사용자가 한 질문이 제네시스 차량과 관련 있는지 판단하세요.\n",
    "\n",
    "        만약 질문 내용이 제네시스 차량(g90,gv90,g80,gv80,g70,gv70 등등 ) 관련이 아닌 경우(예: 날씨, 음식, 다른 브랜드 차량 등), \"제네시스 차량 관련된 질문만 가능합니다.\" 라고 한 줄로 출력하세요.\n",
    "        제네시스 차량 관련 질문이더라도, 다른 브랜드(예: 기아, 현대, 벤츠 등)를 언급하거나 비교하는 부분이 있다면 해당 질문은 무효로 간주하고, \"제네시스 차량 관련된 질문만 가능합니다.\" 라고 한 줄로 출력하세요.\n",
    "        질문이 일반적인 차량 사용에 관련된 질문 이라면 제네시스 판단하세요.\n",
    "        질문이 순수하게 제네시스 차량과 관련된 경우, 해당 질문이 단순한 하나의 질문인지, 아니면 여러 질문이 복합적으로 포함된 복합질문인지 판단하세요.\n",
    "\n",
    "        복합질문이라면, 각 서브질문을 명확히 나눈 뒤, 리스트 형태로 출력하세요. (예: [\"이 차량은 하이브리드인가요?\", \"엔진 오일은 어디서 교환하나요?\"])\n",
    "        출력은 조건에 따라 다음 두 가지 형식 중 하나를 따릅니다.\n",
    "\n",
    "        비관련 혹은 타사 브랜드 언급 시:\n",
    "        \"제네시스 차량 관련된 질문만 가능합니다.\" (한 줄)\n",
    "        제네시스 관련 복합질문 시:\n",
    "        [\"첫 번째 하위 질문\", \"두 번째 하위 질문\", ...]\n",
    "        예를 들어: [\"이 차량은 하이브리드인가요?\", \"엔진 오일은 어디서 교환하나요?\"]\n",
    "\n",
    "        # 입력 질문: {question}\n",
    "        # Output Format: {format_instructions}\n",
    "        \"\"\"\n",
    "    )\n",
    "from app.features.manual.models.model import create_openai_model\n",
    "llm = create_openai_model('gpt-4o-mini')\n",
    "\n",
    "from langchain_core.output_parsers import StrOutputParser, JsonOutputParser\n",
    "from app.features.manual.models.schemas import QuestionList\n",
    "\n",
    "parser=JsonOutputParser(pydantic_object=QuestionList)\n",
    "prompt = prompt.partial(format_instructions=parser.get_format_instructions())\n",
    "chain = prompt | llm | parser\n",
    "\n",
    "res = chain.invoke({'question':'g90 시동거는 법 알려줘'})\n",
    "print(res)\n",
    "res1 =chain.invoke({'question':'티비시청?'})\n",
    "print(res1)\n",
    "res2 =chain.invoke({'question':'차량 시동이 안켜지는데 에어컨 때문이야?'})\n",
    "print(res2)"
   ],
   "outputs": [
    {
     "name": "stdout",
     "output_type": "stream",
     "text": [
      "{'vailid_question': True, 'print': '', 'question_list': ['g90 시동 거는 법 알려줘']}\n",
      "{'vailid_question': False, 'print': '제네시스 차량 관련된 질문만 가능합니다.', 'question_list': []}\n",
      "{'vailid_question': True, 'print': '', 'question_list': ['차량 시동이 안켜지는 이유는 무엇인가요?', '에어컨이 시동에 영향을 미치나요?']}\n"
     ]
    }
   ],
   "execution_count": 5
  },
  {
   "metadata": {
    "ExecuteTime": {
     "end_time": "2024-12-21T11:13:25.661355Z",
     "start_time": "2024-12-21T11:13:24.695333Z"
    }
   },
   "cell_type": "code",
   "source": [
    "res3 =chain.invoke({'question':'g90 눈 올때 어떻게 하면돼? 그리고 차량 스펙 알려줘'})\n",
    "print(res3)"
   ],
   "id": "69dff9c72e9848b0",
   "outputs": [
    {
     "name": "stdout",
     "output_type": "stream",
     "text": [
      "{'vailid_question': True, 'print': '', 'question_list': ['눈 올 때 차량은 어떻게 운전해야 하나요?', '차량 스펙은 무엇인가요?']}\n"
     ]
    }
   ],
   "execution_count": 9
  },
  {
   "metadata": {},
   "cell_type": "markdown",
   "source": "# DB 조회",
   "id": "d5bddcd4adbb5804"
  },
  {
   "metadata": {
    "ExecuteTime": {
     "end_time": "2024-12-21T14:19:52.269168Z",
     "start_time": "2024-12-21T14:19:33.240860Z"
    }
   },
   "cell_type": "code",
   "source": [
    "from app.database.milvus import get_milvus_client\n",
    "get_milvus_client()\n",
    "from langchain_core.output_parsers import StrOutputParser\n",
    "from langchain_core.prompts import PromptTemplate\n",
    "prompt = PromptTemplate.from_template(\n",
    "        \"\"\"\n",
    "        사용자의 질문에 대해 차량 매뉴얼 벡터 데이터베이스를 조회하여 답변을 제공하십시오. 답변에는 사용된 참조 문서의 출처를 명확히 적어주세요.\n",
    "\n",
    "        # Steps\n",
    "\n",
    "        1. 사용자의 질문을 명확히 이해하고 필요한 정보를 식별합니다.\n",
    "        2. 차량 매뉴얼의 벡터 데이터베이스를 조회하여 관련 정보를 검색합니다.\n",
    "        3. 찾은 정보를 바탕으로 사용자 질문에 대한 정확하고 간결한 답변을 작성합니다.\n",
    "        4. 답변에 사용한 참조 문서의 출처를 꼭 기재합니다.\n",
    "\n",
    "        # Output Format\n",
    "\n",
    "        - 사용자 질문에 대한 답변: [응답 내용]\n",
    "        - 출처: [참조 문서 제목 및 페이지 또는 섹션 번호]\n",
    "\n",
    "        # Examples\n",
    "\n",
    "        **입력 예시:**\n",
    "        \"에어필터 교체 방법을 알고 싶어요.\"\n",
    "\n",
    "        **출력 예시:**\n",
    "        #에어필터 교체 방법 \n",
    "          에어필터는 보통 차량 엔진룸에 위치해 있으며, 커버를 열고 고정 클립을 풀러 교체할 수 있습니다.\n",
    "          출처: 차량 매뉴얼 5페이지\n",
    "\n",
    "        # Notes\n",
    "\n",
    "        - 가능한 한 정확하고 간결하게 정보를 제공하세요.\n",
    "        - 찾은 정보가 명확하지 않을 경우, 사용자가 이해할 수 있도록 추가 설명을 포함할 수 있습니다.\n",
    "        - 모든 답변에는 항상 출처를 포함해야 합니다.\n",
    "        - 답변은 보기 좋게 마크다운으로 출력합니다.\n",
    "\n",
    "        # 입력 질문: {question}\n",
    "        \"\"\"\n",
    "    )\n",
    "from app.features.manual.models.model import create_openai_model\n",
    "llm = create_openai_model('gpt-4o-mini')\n",
    "from app.features.manual.tools.tools import search_milvus\n",
    "\n",
    "# query=['차량 시동이 안켜지는 이유는 무엇인가요?', '에어컨이 시동에 영향을 미치나요?']\n",
    "query=['눈 올 때 차량은 어떻게 운전해야 하나요?', '차량 스펙은 무엇인가요?']\n",
    "context = search_milvus.invoke({\"query_list\": query})\n",
    "\n",
    "# from app.features.manual.models.reranker import bge_rf\n",
    "# results=[]\n",
    "# for index, query in enumerate(query):\n",
    "#     result = bge_rf(\n",
    "#         query=query[index],\n",
    "#         documents=temp[index],\n",
    "#         top_k=3,\n",
    "#     )\n",
    "#     results.append(result)\n",
    "# context = results\n"
   ],
   "id": "a4eb4e666f601410",
   "outputs": [
    {
     "name": "stderr",
     "output_type": "stream",
     "text": [
      "2024-12-21 23:19:35,213 - fastapi_project - INFO - Connected to Milvus at https://in01-8b96d805fab7a0f.aws-ap-northeast-1.vectordb.zillizcloud.com:19533\n",
      "E:\\TailorLink\\SKN03-FINAL-6Team\\TailorLink_LLM\\.venv\\Lib\\site-packages\\tqdm\\auto.py:21: TqdmWarning: IProgress not found. Please update jupyter and ipywidgets. See https://ipywidgets.readthedocs.io/en/stable/user_install.html\n",
      "  from .autonotebook import tqdm as notebook_tqdm\n",
      "Fetching 30 files: 100%|██████████| 30/30 [00:00<?, ?it/s]\n",
      "You're using a XLMRobertaTokenizerFast tokenizer. Please note that with a fast tokenizer, using the `__call__` method is faster than using a method to encode the text followed by a call to the `pad` method to get a padded encoding.\n",
      "You're using a XLMRobertaTokenizerFast tokenizer. Please note that with a fast tokenizer, using the `__call__` method is faster than using a method to encode the text followed by a call to the `pad` method to get a padded encoding.\n"
     ]
    }
   ],
   "execution_count": 6
  },
  {
   "metadata": {
    "ExecuteTime": {
     "end_time": "2024-12-21T11:33:18.556939Z",
     "start_time": "2024-12-21T11:33:18.554932Z"
    }
   },
   "cell_type": "code",
   "source": "",
   "id": "1ee6154f5f16524",
   "outputs": [],
   "execution_count": null
  },
  {
   "metadata": {
    "ExecuteTime": {
     "end_time": "2024-12-21T11:33:18.871364Z",
     "start_time": "2024-12-21T11:33:18.869980Z"
    }
   },
   "cell_type": "code",
   "source": "\n",
   "id": "42f4913023acb35c",
   "outputs": [],
   "execution_count": 19
  },
  {
   "metadata": {
    "ExecuteTime": {
     "end_time": "2024-12-21T14:20:07.008882Z",
     "start_time": "2024-12-21T14:20:04.566440Z"
    }
   },
   "cell_type": "code",
   "source": [
    "query= 'g90 눈 올때 어떻게 하면돼? 그리고 차량 스펙 알려줘'\n",
    "chain = prompt | llm | StrOutputParser()\n",
    "response = chain.invoke({\"context\": context, \"question\":query})\n",
    "\n",
    "print(response)"
   ],
   "id": "37b6a53b0d32b71e",
   "outputs": [
    {
     "name": "stdout",
     "output_type": "stream",
     "text": [
      "# 눈 올 때 차량 관리 방법\n",
      "눈이 올 때는 차량의 안전을 위해 몇 가지 조치를 취하는 것이 중요합니다. 먼저, 타이어의 공기압을 확인하고 겨울용 타이어로 교체하는 것이 좋습니다. 또한, 와이퍼를 점검하고, 윈드실드에 얼음이 생기지 않도록 미리 제상제를 사용하는 것이 도움이 됩니다. 주행 시에는 속도를 줄이고, 충분한 안전거리를 유지하는 것이 중요합니다.\n",
      "\n",
      "# 차량 스펙\n",
      "G90의 기본 스펙은 다음과 같습니다:\n",
      "- 엔진: 3.5L V6 또는 5.0L V8 옵션\n",
      "- 출력: 380~420 마력\n",
      "- 구동 방식: 후륜구동 또는 사륜구동\n",
      "- 연비: 약 8~12 km/l (모델에 따라 다름)\n",
      "\n",
      "출처: G90 차량 매뉴얼 12페이지 및 45페이지\n"
     ]
    }
   ],
   "execution_count": 8
  },
  {
   "metadata": {},
   "cell_type": "markdown",
   "source": "# 할루시네이션 평가",
   "id": "a84e545251772c88"
  },
  {
   "metadata": {
    "ExecuteTime": {
     "end_time": "2024-12-21T14:20:09.155421Z",
     "start_time": "2024-12-21T14:20:09.153420Z"
    }
   },
   "cell_type": "code",
   "source": [
    "docs = context\n",
    "generation = response"
   ],
   "id": "38e76da7ffd4151f",
   "outputs": [],
   "execution_count": 9
  },
  {
   "metadata": {
    "ExecuteTime": {
     "end_time": "2024-12-21T14:20:10.442924Z",
     "start_time": "2024-12-21T14:20:09.524471Z"
    }
   },
   "cell_type": "code",
   "source": [
    "from app.features.manual.models.prompt_templates import create_hallucination_prompt\n",
    "from app.features.manual.models.model import create_openai_model\n",
    "from app.features.manual.models.schemas import GradeHallucinations\n",
    "\n",
    "hallucination_prompt = create_hallucination_prompt()\n",
    "llm = create_openai_model('gpt-4o-mini')\n",
    "structured_llm_grader = llm.with_structured_output(GradeHallucinations)\n",
    "\n",
    "hallucination_grader = hallucination_prompt | structured_llm_grader\n",
    "res = hallucination_grader.invoke({\"documents\": docs, \"generation\": generation})"
   ],
   "id": "7ebe9d0bf3aa5dee",
   "outputs": [],
   "execution_count": 10
  },
  {
   "metadata": {
    "ExecuteTime": {
     "end_time": "2024-12-21T14:20:10.868642Z",
     "start_time": "2024-12-21T14:20:10.864138Z"
    }
   },
   "cell_type": "code",
   "source": "res.binary_score",
   "id": "1ac2947b4b7f40ae",
   "outputs": [
    {
     "data": {
      "text/plain": [
       "'no'"
      ]
     },
     "execution_count": 11,
     "metadata": {},
     "output_type": "execute_result"
    }
   ],
   "execution_count": 11
  },
  {
   "metadata": {},
   "cell_type": "markdown",
   "source": "# 이전 대화 내용",
   "id": "243dc752a5481d54"
  },
  {
   "metadata": {
    "ExecuteTime": {
     "end_time": "2024-12-21T14:23:31.676805Z",
     "start_time": "2024-12-21T14:23:31.424941Z"
    }
   },
   "cell_type": "code",
   "source": [
    "from app.features.manual.models.schemas import AnswerWithHistory\n",
    "from langchain_core.prompts import PromptTemplate\n",
    "from app.features.manual.models.model import create_openai_model\n",
    "\n",
    "prompt = PromptTemplate.from_template(\n",
    "    \"\"\"\n",
    "    다음은 이전 대화 내용만을 참고하여 응답을 생성하기 위한 프로세스입니다. 외부 지식이나 학습된 데이터를 사용하지 않고 오직 제공된 대화 내용을 기반으로 응답합니다.\n",
    "    \n",
    "    # 응답 가능성 판단 및 생성\n",
    "    \n",
    "    ## 절차\n",
    "    1. **이전 대화 분석**: 이전 대화의 내용을 검토하여 대화의 주제 및 구체적으로 제기된 질문을 파악합니다.\n",
    "    2. **질문 또는 프롬프트 식별**: 명시적 또는 암시적인 질문이나 요청을 식별합니다.\n",
    "    3. **응답 가능성 평가**: 제공된 이전 대화 내용만으로 충분한 정보가 있는지 판단하고, 응답 가능 여부를 결정합니다.\n",
    "       - 응답 가능하면 `'yes'`를 출력합니다.\n",
    "       - 응답이 불가능하면 `'no'`를 출력합니다.\n",
    "    4. **응답 생성**: \n",
    "       - 가능(`'yes'`)하면 이전 대화 내용만을 바탕으로 논리적이고 맥락에 맞는 응답을 작성합니다.\n",
    "       - 불가능(`'no'`)하면 추가 정보가 필요하다는 점을 명시합니다.\n",
    "    \n",
    "    ## 제한 사항\n",
    "    - 외부 지식, 학습된 데이터, 일반 상식 등을 사용하지 않습니다.\n",
    "    - 이전 대화 내용 외의 정보를 가정하거나 추가하지 않습니다.\n",
    "    \n",
    "    ## 출력 형식\n",
    "    - 출력은 **마크다운(Markdown)** 형식으로 작성합니다.\n",
    "    - 응답 가능 여부(`yes` 또는 `no`)를 표시하고, 이에 따른 적절한 내용을 제공합니다.\n",
    "    \n",
    "    ## 이전 대화 내용: {chat_history}\n",
    "    \n",
    "    ## 질문: {question}\n",
    "    \"\"\"\n",
    ")\n",
    "llm = create_openai_model('gpt-4o-mini')\n",
    "structured_llm_grader = llm.with_structured_output(AnswerWithHistory)\n",
    "contextual_responder = prompt | structured_llm_grader"
   ],
   "id": "b3113b0eed9fce46",
   "outputs": [],
   "execution_count": 25
  },
  {
   "metadata": {
    "ExecuteTime": {
     "end_time": "2024-12-21T14:23:32.417377Z",
     "start_time": "2024-12-21T14:23:32.414867Z"
    }
   },
   "cell_type": "code",
   "source": "list = ['human: g90 눈 올때 어떻게 하면돼? 그리고 차량 스펙 알려줘', f'ai:{response}']",
   "id": "ff4e53be34f23843",
   "outputs": [],
   "execution_count": 26
  },
  {
   "metadata": {
    "ExecuteTime": {
     "end_time": "2024-12-21T14:23:53.627678Z",
     "start_time": "2024-12-21T14:23:52.744707Z"
    }
   },
   "cell_type": "code",
   "source": "res = contextual_responder.invoke({\"chat_history\":list, \"question\":\"비올떄 대처법?\"})\n",
   "id": "4f352a34537162f3",
   "outputs": [],
   "execution_count": 31
  },
  {
   "metadata": {
    "ExecuteTime": {
     "end_time": "2024-12-21T14:23:53.634273Z",
     "start_time": "2024-12-21T14:23:53.632272Z"
    }
   },
   "cell_type": "code",
   "source": "print(res)",
   "id": "72ffc708ea6bc1b8",
   "outputs": [
    {
     "name": "stdout",
     "output_type": "stream",
     "text": [
      "binary_score='no' answer='비 올 때 대처법에 대한 정보는 이전 대화 내용에 포함되어 있지 않습니다. 추가 정보가 필요합니다.'\n"
     ]
    }
   ],
   "execution_count": 32
  },
  {
   "metadata": {
    "ExecuteTime": {
     "end_time": "2024-12-22T02:30:00.591036Z",
     "start_time": "2024-12-22T02:30:00.589670Z"
    }
   },
   "cell_type": "code",
   "source": "",
   "id": "656e6ec55ea38b69",
   "outputs": [],
   "execution_count": null
  },
  {
   "metadata": {
    "ExecuteTime": {
     "end_time": "2024-12-22T02:39:58.359579Z",
     "start_time": "2024-12-22T02:39:55.807786Z"
    }
   },
   "cell_type": "code",
   "source": [
    "from app.database.milvus import get_milvus_client\n",
    "get_milvus_client()"
   ],
   "id": "d499ca65831b4834",
   "outputs": [
    {
     "name": "stderr",
     "output_type": "stream",
     "text": [
      "2024-12-22 11:39:56,571 - fastapi_project - INFO - Retrieved parameter: /tailorlink/mysql/MYSQL_URI\n",
      "2024-12-22 11:39:56,749 - fastapi_project - INFO - Retrieved parameter: /tailorlink/mysql/MYSQL_USER\n",
      "2024-12-22 11:39:56,930 - fastapi_project - INFO - Retrieved parameter: /tailorlink/mysql/MYSQL_PASSWORD\n",
      "2024-12-22 11:39:57,118 - fastapi_project - INFO - Retrieved parameter: /tailorlink/mysql/MYSQL_DB_NAME\n",
      "2024-12-22 11:39:57,307 - fastapi_project - INFO - Retrieved parameter: /tailorlink/openai/OPENAI_API_KEY\n",
      "2024-12-22 11:39:57,482 - fastapi_project - INFO - Retrieved parameter: /tailorlink/milvus/MILVUS_URI\n",
      "2024-12-22 11:39:57,673 - fastapi_project - INFO - Retrieved parameter: /tailorlink/milvus/MILVUS_TOKEN\n",
      "2024-12-22 11:39:57,867 - fastapi_project - INFO - Retrieved parameter: /tailorlink/langchain/LANGCHAIN_API_KEY\n",
      "2024-12-22 11:39:58,037 - fastapi_project - INFO - Retrieved parameter: /tailorlink/langchain/LANGCHAIN_ENDPOINT\n",
      "2024-12-22 11:39:58,357 - fastapi_project - INFO - Connected to Milvus at https://in01-8b96d805fab7a0f.aws-ap-northeast-1.vectordb.zillizcloud.com:19533\n"
     ]
    }
   ],
   "execution_count": 1
  },
  {
   "metadata": {
    "ExecuteTime": {
     "end_time": "2024-12-22T02:40:09.762216Z",
     "start_time": "2024-12-22T02:39:58.378380Z"
    }
   },
   "cell_type": "code",
   "source": [
    "from app.features.manual.tools.tools import search_milvus\n",
    "results = search_milvus.invoke({\"query_list\": ['시동거는법?'], \"car_id\":2})"
   ],
   "id": "e0d8fb29c84be1c7",
   "outputs": [
    {
     "data": {
      "text/plain": [
       "Fetching 30 files:   0%|          | 0/30 [00:00<?, ?it/s]"
      ],
      "application/vnd.jupyter.widget-view+json": {
       "version_major": 2,
       "version_minor": 0,
       "model_id": "26023bfb41154451b451eb0994554656"
      }
     },
     "metadata": {},
     "output_type": "display_data"
    },
    {
     "name": "stderr",
     "output_type": "stream",
     "text": [
      "You're using a XLMRobertaTokenizerFast tokenizer. Please note that with a fast tokenizer, using the `__call__` method is faster than using a method to encode the text followed by a call to the `pad` method to get a padded encoding.\n",
      "You're using a XLMRobertaTokenizerFast tokenizer. Please note that with a fast tokenizer, using the `__call__` method is faster than using a method to encode the text followed by a call to the `pad` method to get a padded encoding.\n"
     ]
    }
   ],
   "execution_count": 2
  },
  {
   "metadata": {},
   "cell_type": "code",
   "outputs": [],
   "execution_count": null,
   "source": "results",
   "id": "d2f96692ca126194"
  },
  {
   "metadata": {},
   "cell_type": "code",
   "outputs": [],
   "execution_count": null,
   "source": "",
   "id": "b0b02098e8ddf25b"
  }
 ],
 "metadata": {
  "kernelspec": {
   "display_name": "Python 3",
   "language": "python",
   "name": "python3"
  },
  "language_info": {
   "codemirror_mode": {
    "name": "ipython",
    "version": 2
   },
   "file_extension": ".py",
   "mimetype": "text/x-python",
   "name": "python",
   "nbconvert_exporter": "python",
   "pygments_lexer": "ipython2",
   "version": "2.7.6"
  }
 },
 "nbformat": 4,
 "nbformat_minor": 5
}
