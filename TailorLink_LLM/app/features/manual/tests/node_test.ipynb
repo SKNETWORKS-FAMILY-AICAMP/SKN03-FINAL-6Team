{
 "cells": [
  {
   "metadata": {},
   "cell_type": "markdown",
   "source": "",
   "id": "2603d7a206cb63a8"
  },
  {
   "metadata": {
    "ExecuteTime": {
     "end_time": "2024-12-18T06:15:22.776994Z",
     "start_time": "2024-12-18T06:15:20.906831Z"
    }
   },
   "cell_type": "code",
   "source": "from app.core.config import settings",
   "id": "1e8a2cbfd019c9e4",
   "outputs": [
    {
     "name": "stderr",
     "output_type": "stream",
     "text": [
      "2024-12-18 15:15:21,359 - fastapi_project - INFO - Retrieved parameter: /tailorlink/mysql/MYSQL_URI\n",
      "2024-12-18 15:15:21,603 - fastapi_project - INFO - Retrieved parameter: /tailorlink/mysql/MYSQL_USER\n",
      "2024-12-18 15:15:21,845 - fastapi_project - INFO - Retrieved parameter: /tailorlink/mysql/MYSQL_PASSWORD\n",
      "2024-12-18 15:15:22,070 - fastapi_project - INFO - Retrieved parameter: /tailorlink/mysql/MYSQL_DB_NAME\n",
      "2024-12-18 15:15:22,303 - fastapi_project - INFO - Retrieved parameter: /tailorlink/openai/OPENAI_API_KEY\n",
      "2024-12-18 15:15:22,533 - fastapi_project - INFO - Retrieved parameter: /tailorlink/milvus/MILVUS_URI\n",
      "2024-12-18 15:15:22,773 - fastapi_project - INFO - Retrieved parameter: /tailorlink/milvus/MILVUS_TOKEN\n"
     ]
    }
   ],
   "execution_count": 2
  },
  {
   "cell_type": "code",
   "id": "initial_id",
   "metadata": {
    "collapsed": true,
    "ExecuteTime": {
     "end_time": "2024-12-18T03:33:26.627738Z",
     "start_time": "2024-12-18T03:33:22.482882Z"
    }
   },
   "source": [
    "from langchain_core.prompts import PromptTemplate\n",
    "\n",
    "prompt = PromptTemplate.from_template(\n",
    "        \"\"\"\n",
    "        당신은 제네시스 차량 매뉴얼에 대한 전문 Q&A 도우미입니다.\n",
    "        사용자가 질문을 하면 다음 규칙을 따르세요:\n",
    "\n",
    "        먼저, 사용자가 한 질문이 제네시스 차량과 관련 있는지 판단하세요.\n",
    "\n",
    "        만약 질문 내용이 제네시스 차량 관련이 아닌 경우(예: 날씨, 음식, 다른 브랜드 차량 등), \"제네시스 차량 관련된 질문만 가능합니다.\" 라고 한 줄로 출력하세요.\n",
    "        제네시스 차량 관련 질문이더라도, 다른 브랜드(예: 기아, 현대, 벤츠 등)를 언급하거나 비교하는 부분이 있다면 해당 질문은 무효로 간주하고, \"제네시스 차량 관련된 질문만 가능합니다.\" 라고 한 줄로 출력하세요.\n",
    "        질문이 일반적인 차량 사용에 관련된 질문 이라면 제네시스 판단하세요.\n",
    "        질문이 순수하게 제네시스 차량과 관련된 경우, 해당 질문이 단순한 하나의 질문인지, 아니면 여러 질문이 복합적으로 포함된 복합질문인지 판단하세요.\n",
    "\n",
    "        복합질문이라면, 각 서브질문을 명확히 나눈 뒤, 리스트 형태로 출력하세요. (예: [\"이 차량은 하이브리드인가요?\", \"엔진 오일은 어디서 교환하나요?\"])\n",
    "        출력은 조건에 따라 다음 두 가지 형식 중 하나를 따릅니다.\n",
    "\n",
    "        비관련 혹은 타사 브랜드 언급 시:\n",
    "        \"제네시스 차량 관련된 질문만 가능합니다.\" (한 줄)\n",
    "        제네시스 관련 복합질문 시:\n",
    "        [\"첫 번째 하위 질문\", \"두 번째 하위 질문\", ...]\n",
    "        예를 들어: [\"이 차량은 하이브리드인가요?\", \"엔진 오일은 어디서 교환하나요?\"]\n",
    "\n",
    "        # 입력 질문: {question}\n",
    "        # Output Format: {format_instructions}\n",
    "        \"\"\"\n",
    "    )\n",
    "from app.features.manual.models.model import create_openai_model\n",
    "llm = create_openai_model('gpt-4o-mini')\n",
    "\n",
    "from langchain_core.output_parsers import StrOutputParser, JsonOutputParser\n",
    "from app.features.manual.models.schemas import QuestionList\n",
    "\n",
    "parser=JsonOutputParser(pydantic_object=QuestionList)\n",
    "prompt = prompt.partial(format_instructions=parser.get_format_instructions())\n",
    "chain = prompt | llm | parser\n",
    "\n",
    "res = chain.invoke({'question':'차량시동거는법'})\n",
    "print(res)\n",
    "res1 =chain.invoke({'question':'티비시청?'})\n",
    "print(res1)\n",
    "res2 =chain.invoke({'question':'차량 시동이 안켜지는데 에어컨 때문이야?'})\n",
    "print(res2)"
   ],
   "outputs": [
    {
     "name": "stdout",
     "output_type": "stream",
     "text": [
      "{'vailid_question': True, 'print_test': '', 'question_list': ['차량 시동 거는 법은 무엇인가요?']}\n",
      "{'vailid_question': False, 'print_test': '제네시스 차량 관련된 질문만 가능합니다.', 'question_list': []}\n",
      "{'vailid_question': True, 'print_test': '', 'question_list': ['차량 시동이 안켜지는 이유는 무엇인가요?', '에어컨이 시동에 영향을 미치나요?']}\n"
     ]
    }
   ],
   "execution_count": 40
  },
  {
   "metadata": {
    "ExecuteTime": {
     "end_time": "2024-12-18T03:24:21.586414Z",
     "start_time": "2024-12-18T03:24:21.584220Z"
    }
   },
   "cell_type": "code",
   "source": "",
   "id": "c6dc0315b2cf7bf",
   "outputs": [],
   "execution_count": null
  },
  {
   "metadata": {},
   "cell_type": "markdown",
   "source": "",
   "id": "d5bddcd4adbb5804"
  },
  {
   "metadata": {
    "ExecuteTime": {
     "end_time": "2024-12-18T06:15:25.106692Z",
     "start_time": "2024-12-18T06:15:24.525739Z"
    }
   },
   "cell_type": "code",
   "source": [
    "from app.database.milvus import get_milvus_client\n",
    "get_milvus_client()"
   ],
   "id": "eb5c80e826e18b91",
   "outputs": [
    {
     "name": "stderr",
     "output_type": "stream",
     "text": [
      "2024-12-18 15:15:25,103 - fastapi_project - INFO - Connected to Milvus at https://in01-8b96d805fab7a0f.aws-ap-northeast-1.vectordb.zillizcloud.com:19533\n"
     ]
    }
   ],
   "execution_count": 3
  },
  {
   "metadata": {
    "ExecuteTime": {
     "end_time": "2024-12-18T06:26:05.983976Z",
     "start_time": "2024-12-18T06:26:05.624630Z"
    }
   },
   "cell_type": "code",
   "source": [
    "from langchain_core.prompts import PromptTemplate\n",
    "\n",
    "prompt = PromptTemplate.from_template(\n",
    "        \"\"\"\n",
    "        사용자의 질문에 대해 차량 매뉴얼 벡터 데이터베이스를 조회하여 답변을 제공하십시오. 답변에는 사용된 참조 문서의 출처를 명확히 적어주세요.\n",
    "\n",
    "        # Steps\n",
    "\n",
    "        1. 사용자의 질문을 명확히 이해하고 필요한 정보를 식별합니다.\n",
    "        2. 차량 매뉴얼의 벡터 데이터베이스를 조회하여 관련 정보를 검색합니다.\n",
    "        3. 찾은 정보를 바탕으로 사용자 질문에 대한 정확하고 간결한 답변을 작성합니다.\n",
    "        4. 답변에 사용한 참조 문서의 출처를 꼭 기재합니다.\n",
    "\n",
    "        # Output Format\n",
    "\n",
    "        - 사용자 질문에 대한 답변: [응답 내용]\n",
    "        - 출처: [참조 문서 제목 및 페이지 또는 섹션 번호]\n",
    "\n",
    "        # Examples\n",
    "\n",
    "        **입력 예시:**\n",
    "        \"에어필터 교체 방법을 알고 싶어요.\"\n",
    "\n",
    "        **출력 예시:**\n",
    "        - 사용자 질문에 대한 답변: 에어필터는 보통 차량 엔진룸에 위치해 있으며, 커버를 열고 고정 클립을 풀러 교체할 수 있습니다.\n",
    "        - 출처: 차량 매뉴얼 3장, 5페이지\n",
    "\n",
    "        # Notes\n",
    "\n",
    "        - 가능한 한 정확하고 간결하게 정보를 제공하세요.\n",
    "        - 찾은 정보가 명확하지 않을 경우, 사용자가 이해할 수 있도록 추가 설명을 포함할 수 있습니다.\n",
    "        - 모든 답변에는 항상 출처를 포함해야 합니다.\n",
    "\n",
    "        # 입력 질문: {question}\n",
    "        \"\"\"\n",
    "    )\n",
    "from app.features.manual.models.model import create_openai_model\n",
    "llm = create_openai_model('gpt-4o-mini')\n",
    "\n",
    "from app.features.manual.tools.tools import search_milvus\n"
   ],
   "id": "a4eb4e666f601410",
   "outputs": [],
   "execution_count": 14
  },
  {
   "metadata": {
    "ExecuteTime": {
     "end_time": "2024-12-18T07:38:11.212422Z",
     "start_time": "2024-12-18T07:38:10.914010Z"
    }
   },
   "cell_type": "code",
   "source": [
    "from app.database.milvus import get_milvus_client\n",
    "get_milvus_client()\n",
    "from app.features.manual.models.retriever import get_milvus_hybrid_search_retriever"
   ],
   "id": "3c0c2e271da85b4",
   "outputs": [
    {
     "name": "stderr",
     "output_type": "stream",
     "text": [
      "2024-12-18 16:38:11,093 - fastapi_project - INFO - Connected to Milvus at https://in01-8b96d805fab7a0f.aws-ap-northeast-1.vectordb.zillizcloud.com:19533\n"
     ]
    }
   ],
   "execution_count": 2
  },
  {
   "metadata": {
    "ExecuteTime": {
     "end_time": "2024-12-18T07:38:28.159999Z",
     "start_time": "2024-12-18T07:38:28.012941Z"
    }
   },
   "cell_type": "code",
   "source": "re = get_milvus_hybrid_search_retriever()",
   "id": "4b0edc0447a862c3",
   "outputs": [
    {
     "ename": "ValidationError",
     "evalue": "4 validation errors for MilvusCollectionHybridSearchRetriever\nfield_embeddings.0.is-instance[Embeddings]\n  Input should be an instance of Embeddings [type=is_instance_of, input_value=<function dense_embedding...c at 0x0000027EE3AB87C0>, input_type=function]\n    For further information visit https://errors.pydantic.dev/2.10/v/is_instance_of\nfield_embeddings.0.is-instance[BaseSparseEmbedding]\n  Input should be an instance of BaseSparseEmbedding [type=is_instance_of, input_value=<function dense_embedding...c at 0x0000027EE3AB87C0>, input_type=function]\n    For further information visit https://errors.pydantic.dev/2.10/v/is_instance_of\nfield_embeddings.1.is-instance[Embeddings]\n  Input should be an instance of Embeddings [type=is_instance_of, input_value=<function sparse_embeddin...c at 0x0000027EE3AB8E00>, input_type=function]\n    For further information visit https://errors.pydantic.dev/2.10/v/is_instance_of\nfield_embeddings.1.is-instance[BaseSparseEmbedding]\n  Input should be an instance of BaseSparseEmbedding [type=is_instance_of, input_value=<function sparse_embeddin...c at 0x0000027EE3AB8E00>, input_type=function]\n    For further information visit https://errors.pydantic.dev/2.10/v/is_instance_of",
     "output_type": "error",
     "traceback": [
      "\u001B[1;31m---------------------------------------------------------------------------\u001B[0m",
      "\u001B[1;31mValidationError\u001B[0m                           Traceback (most recent call last)",
      "Cell \u001B[1;32mIn[3], line 1\u001B[0m\n\u001B[1;32m----> 1\u001B[0m re \u001B[38;5;241m=\u001B[39m \u001B[43mget_milvus_hybrid_search_retriever\u001B[49m\u001B[43m(\u001B[49m\u001B[43m)\u001B[49m\n",
      "File \u001B[1;32mC:\\dev\\SKN\\Final\\SKN03-FINAL-6Team\\TailorLink_LLM\\app\\features\\manual\\models\\retriever.py:17\u001B[0m, in \u001B[0;36mget_milvus_hybrid_search_retriever\u001B[1;34m(sparse_weight, dense_weight, limit)\u001B[0m\n\u001B[0;32m     15\u001B[0m sparse_field \u001B[38;5;241m=\u001B[39m \u001B[38;5;124m\"\u001B[39m\u001B[38;5;124msparse_vector\u001B[39m\u001B[38;5;124m\"\u001B[39m\n\u001B[0;32m     16\u001B[0m text_field \u001B[38;5;241m=\u001B[39m \u001B[38;5;124m\"\u001B[39m\u001B[38;5;124mtext\u001B[39m\u001B[38;5;124m\"\u001B[39m\n\u001B[1;32m---> 17\u001B[0m retriever \u001B[38;5;241m=\u001B[39m \u001B[43mMilvusCollectionHybridSearchRetriever\u001B[49m\u001B[43m(\u001B[49m\n\u001B[0;32m     18\u001B[0m \u001B[43m    \u001B[49m\u001B[43mcollection\u001B[49m\u001B[38;5;241;43m=\u001B[39;49m\u001B[43mcollection\u001B[49m\u001B[43m,\u001B[49m\n\u001B[0;32m     19\u001B[0m \u001B[43m    \u001B[49m\u001B[43mrerank\u001B[49m\u001B[38;5;241;43m=\u001B[39;49m\u001B[43mWeightedRanker\u001B[49m\u001B[43m(\u001B[49m\u001B[43msparse_weight\u001B[49m\u001B[43m,\u001B[49m\u001B[43m \u001B[49m\u001B[43mdense_weight\u001B[49m\u001B[43m)\u001B[49m\u001B[43m,\u001B[49m\n\u001B[0;32m     20\u001B[0m \u001B[43m    \u001B[49m\u001B[43manns_fields\u001B[49m\u001B[38;5;241;43m=\u001B[39;49m\u001B[43m[\u001B[49m\u001B[43mdense_field\u001B[49m\u001B[43m,\u001B[49m\u001B[43m \u001B[49m\u001B[43msparse_field\u001B[49m\u001B[43m]\u001B[49m\u001B[43m,\u001B[49m\n\u001B[0;32m     21\u001B[0m \u001B[43m    \u001B[49m\u001B[43mfield_embeddings\u001B[49m\u001B[38;5;241;43m=\u001B[39;49m\u001B[43m[\u001B[49m\u001B[43mdense_embedding_func\u001B[49m\u001B[43m,\u001B[49m\u001B[43m \u001B[49m\u001B[43msparse_embedding_func\u001B[49m\u001B[43m]\u001B[49m\u001B[43m,\u001B[49m\n\u001B[0;32m     22\u001B[0m \u001B[43m    \u001B[49m\u001B[43mfield_search_params\u001B[49m\u001B[38;5;241;43m=\u001B[39;49m\u001B[43m[\u001B[49m\u001B[43mdense_search_params\u001B[49m\u001B[43m,\u001B[49m\u001B[43m \u001B[49m\u001B[43msparse_search_params\u001B[49m\u001B[43m]\u001B[49m\u001B[43m,\u001B[49m\n\u001B[0;32m     23\u001B[0m \u001B[43m    \u001B[49m\u001B[43mtop_k\u001B[49m\u001B[38;5;241;43m=\u001B[39;49m\u001B[43mlimit\u001B[49m\u001B[43m,\u001B[49m\n\u001B[0;32m     24\u001B[0m \u001B[43m    \u001B[49m\u001B[43mtext_field\u001B[49m\u001B[38;5;241;43m=\u001B[39;49m\u001B[43mtext_field\u001B[49m\u001B[43m,\u001B[49m\n\u001B[0;32m     25\u001B[0m \u001B[43m\u001B[49m\u001B[43m)\u001B[49m\n\u001B[0;32m     26\u001B[0m \u001B[38;5;28;01mreturn\u001B[39;00m retriever\n",
      "File \u001B[1;32mC:\\dev\\SKN\\Final\\SKN03-FINAL-6Team\\TailorLink_LLM\\.venv\\Lib\\site-packages\\langchain_milvus\\retrievers\\milvus_hybrid_search.py:49\u001B[0m, in \u001B[0;36mMilvusCollectionHybridSearchRetriever.__init__\u001B[1;34m(self, **kwargs)\u001B[0m\n\u001B[0;32m     48\u001B[0m \u001B[38;5;28;01mdef\u001B[39;00m \u001B[38;5;21m__init__\u001B[39m(\u001B[38;5;28mself\u001B[39m, \u001B[38;5;241m*\u001B[39m\u001B[38;5;241m*\u001B[39mkwargs: Any):\n\u001B[1;32m---> 49\u001B[0m     \u001B[38;5;28;43msuper\u001B[39;49m\u001B[43m(\u001B[49m\u001B[43m)\u001B[49m\u001B[38;5;241;43m.\u001B[39;49m\u001B[38;5;21;43m__init__\u001B[39;49m\u001B[43m(\u001B[49m\u001B[38;5;241;43m*\u001B[39;49m\u001B[38;5;241;43m*\u001B[39;49m\u001B[43mkwargs\u001B[49m\u001B[43m)\u001B[49m\n\u001B[0;32m     51\u001B[0m     \u001B[38;5;66;03m# If some parameters are not specified, set default values\u001B[39;00m\n\u001B[0;32m     52\u001B[0m     \u001B[38;5;28;01mif\u001B[39;00m \u001B[38;5;28mself\u001B[39m\u001B[38;5;241m.\u001B[39mfield_search_params \u001B[38;5;129;01mis\u001B[39;00m \u001B[38;5;28;01mNone\u001B[39;00m:\n",
      "File \u001B[1;32mC:\\dev\\SKN\\Final\\SKN03-FINAL-6Team\\TailorLink_LLM\\.venv\\Lib\\site-packages\\langchain_core\\load\\serializable.py:125\u001B[0m, in \u001B[0;36mSerializable.__init__\u001B[1;34m(self, *args, **kwargs)\u001B[0m\n\u001B[0;32m    123\u001B[0m \u001B[38;5;28;01mdef\u001B[39;00m \u001B[38;5;21m__init__\u001B[39m(\u001B[38;5;28mself\u001B[39m, \u001B[38;5;241m*\u001B[39margs: Any, \u001B[38;5;241m*\u001B[39m\u001B[38;5;241m*\u001B[39mkwargs: Any) \u001B[38;5;241m-\u001B[39m\u001B[38;5;241m>\u001B[39m \u001B[38;5;28;01mNone\u001B[39;00m:\n\u001B[0;32m    124\u001B[0m \u001B[38;5;250m    \u001B[39m\u001B[38;5;124;03m\"\"\"\"\"\"\u001B[39;00m\n\u001B[1;32m--> 125\u001B[0m     \u001B[38;5;28;43msuper\u001B[39;49m\u001B[43m(\u001B[49m\u001B[43m)\u001B[49m\u001B[38;5;241;43m.\u001B[39;49m\u001B[38;5;21;43m__init__\u001B[39;49m\u001B[43m(\u001B[49m\u001B[38;5;241;43m*\u001B[39;49m\u001B[43margs\u001B[49m\u001B[43m,\u001B[49m\u001B[43m \u001B[49m\u001B[38;5;241;43m*\u001B[39;49m\u001B[38;5;241;43m*\u001B[39;49m\u001B[43mkwargs\u001B[49m\u001B[43m)\u001B[49m\n",
      "File \u001B[1;32mC:\\dev\\SKN\\Final\\SKN03-FINAL-6Team\\TailorLink_LLM\\.venv\\Lib\\site-packages\\pydantic\\main.py:214\u001B[0m, in \u001B[0;36mBaseModel.__init__\u001B[1;34m(self, **data)\u001B[0m\n\u001B[0;32m    212\u001B[0m \u001B[38;5;66;03m# `__tracebackhide__` tells pytest and some other tools to omit this function from tracebacks\u001B[39;00m\n\u001B[0;32m    213\u001B[0m __tracebackhide__ \u001B[38;5;241m=\u001B[39m \u001B[38;5;28;01mTrue\u001B[39;00m\n\u001B[1;32m--> 214\u001B[0m validated_self \u001B[38;5;241m=\u001B[39m \u001B[38;5;28;43mself\u001B[39;49m\u001B[38;5;241;43m.\u001B[39;49m\u001B[43m__pydantic_validator__\u001B[49m\u001B[38;5;241;43m.\u001B[39;49m\u001B[43mvalidate_python\u001B[49m\u001B[43m(\u001B[49m\u001B[43mdata\u001B[49m\u001B[43m,\u001B[49m\u001B[43m \u001B[49m\u001B[43mself_instance\u001B[49m\u001B[38;5;241;43m=\u001B[39;49m\u001B[38;5;28;43mself\u001B[39;49m\u001B[43m)\u001B[49m\n\u001B[0;32m    215\u001B[0m \u001B[38;5;28;01mif\u001B[39;00m \u001B[38;5;28mself\u001B[39m \u001B[38;5;129;01mis\u001B[39;00m \u001B[38;5;129;01mnot\u001B[39;00m validated_self:\n\u001B[0;32m    216\u001B[0m     warnings\u001B[38;5;241m.\u001B[39mwarn(\n\u001B[0;32m    217\u001B[0m         \u001B[38;5;124m'\u001B[39m\u001B[38;5;124mA custom validator is returning a value other than `self`.\u001B[39m\u001B[38;5;130;01m\\n\u001B[39;00m\u001B[38;5;124m'\u001B[39m\n\u001B[0;32m    218\u001B[0m         \u001B[38;5;124m\"\u001B[39m\u001B[38;5;124mReturning anything other than `self` from a top level model validator isn\u001B[39m\u001B[38;5;124m'\u001B[39m\u001B[38;5;124mt supported when validating via `__init__`.\u001B[39m\u001B[38;5;130;01m\\n\u001B[39;00m\u001B[38;5;124m\"\u001B[39m\n\u001B[0;32m    219\u001B[0m         \u001B[38;5;124m'\u001B[39m\u001B[38;5;124mSee the `model_validator` docs (https://docs.pydantic.dev/latest/concepts/validators/#model-validators) for more details.\u001B[39m\u001B[38;5;124m'\u001B[39m,\n\u001B[0;32m    220\u001B[0m         stacklevel\u001B[38;5;241m=\u001B[39m\u001B[38;5;241m2\u001B[39m,\n\u001B[0;32m    221\u001B[0m     )\n",
      "\u001B[1;31mValidationError\u001B[0m: 4 validation errors for MilvusCollectionHybridSearchRetriever\nfield_embeddings.0.is-instance[Embeddings]\n  Input should be an instance of Embeddings [type=is_instance_of, input_value=<function dense_embedding...c at 0x0000027EE3AB87C0>, input_type=function]\n    For further information visit https://errors.pydantic.dev/2.10/v/is_instance_of\nfield_embeddings.0.is-instance[BaseSparseEmbedding]\n  Input should be an instance of BaseSparseEmbedding [type=is_instance_of, input_value=<function dense_embedding...c at 0x0000027EE3AB87C0>, input_type=function]\n    For further information visit https://errors.pydantic.dev/2.10/v/is_instance_of\nfield_embeddings.1.is-instance[Embeddings]\n  Input should be an instance of Embeddings [type=is_instance_of, input_value=<function sparse_embeddin...c at 0x0000027EE3AB8E00>, input_type=function]\n    For further information visit https://errors.pydantic.dev/2.10/v/is_instance_of\nfield_embeddings.1.is-instance[BaseSparseEmbedding]\n  Input should be an instance of BaseSparseEmbedding [type=is_instance_of, input_value=<function sparse_embeddin...c at 0x0000027EE3AB8E00>, input_type=function]\n    For further information visit https://errors.pydantic.dev/2.10/v/is_instance_of"
     ]
    }
   ],
   "execution_count": 3
  },
  {
   "metadata": {
    "ExecuteTime": {
     "end_time": "2024-12-18T07:40:49.702013Z",
     "start_time": "2024-12-18T07:40:47.786870Z"
    }
   },
   "cell_type": "code",
   "source": [
    "from pymilvus.model.hybrid import BGEM3EmbeddingFunction\n",
    "\n",
    "DEVICE = \"cpu\"\n",
    "\n",
    "bge_m3_ef = BGEM3EmbeddingFunction(\n",
    "        model_name='BAAI/bge-m3', # Specify the model name\n",
    "        device=DEVICE, # Specify the device to use, e.g., 'cpu' or 'cuda:0'\n",
    "        use_fp16=False # Specify whether to use fp16. Set to `False` if `device` is `cpu`.\n",
    "    )"
   ],
   "id": "4a9c47e4df0e968c",
   "outputs": [
    {
     "name": "stderr",
     "output_type": "stream",
     "text": [
      "Fetching 30 files: 100%|██████████| 30/30 [00:00<00:00, 15827.56it/s]\n"
     ]
    }
   ],
   "execution_count": 5
  },
  {
   "metadata": {},
   "cell_type": "code",
   "outputs": [],
   "execution_count": null,
   "source": "bge_m3_ef",
   "id": "2ead64eafe08a278"
  },
  {
   "metadata": {
    "ExecuteTime": {
     "end_time": "2024-12-18T07:20:14.664368Z",
     "start_time": "2024-12-18T07:20:14.499175Z"
    }
   },
   "cell_type": "code",
   "source": [
    "from langchain_milvus.retrievers import MilvusCollectionHybridSearchRetriever\n",
    "from app.database.milvus import get_collection\n",
    "from pymilvus import WeightedRanker\n",
    "from pymilvus.model.hybrid import BGEM3EmbeddingFunction\n",
    "\n",
    "dense_embedding = BGEM3EmbeddingFunction(\n",
    "    model_path=dense_embedding_model_path,\n",
    "    embedding_type=\"dense\"\n",
    ")\n",
    "\n",
    "sparse_embedding = BGEM3EmbeddingFunction(\n",
    "    model_path=sparse_embedding_model_path,\n",
    "    embedding_type=\"sparse\"\n",
    ")\n",
    "\n",
    "bge_m3_ef = BGEM3EmbeddingFunction(\n",
    "        model_name='BAAI/bge-m3', # Specify the model name\n",
    "        device=DEVICE, # Specify the device to use, e.g., 'cpu' or 'cuda:0'\n",
    "        use_fp16=False # Specify whether to use fp16. Set to `False` if `device` is `cpu`.\n",
    "    )\n",
    "\n",
    "def dense_embedding_func(texts: List[str]) -> List[List[float]]:\n",
    "    # texts를 dense 임베딩으로 변환\n",
    "    return dense_embedding(texts)\n",
    "\n",
    "def sparse_embedding_func(texts: List[str]) -> List[List[float]]:\n",
    "    # texts를 sparse 임베딩으로 변환\n",
    "    return sparse_embedding(texts)"
   ],
   "id": "95f2fc8f4790f54a",
   "outputs": [
    {
     "ename": "NameError",
     "evalue": "name 'BGEM3EmbeddingFunction' is not defined",
     "output_type": "error",
     "traceback": [
      "\u001B[1;31m---------------------------------------------------------------------------\u001B[0m",
      "\u001B[1;31mNameError\u001B[0m                                 Traceback (most recent call last)",
      "Cell \u001B[1;32mIn[15], line 1\u001B[0m\n\u001B[1;32m----> 1\u001B[0m dense_embedding \u001B[38;5;241m=\u001B[39m \u001B[43mBGEM3EmbeddingFunction\u001B[49m(\n\u001B[0;32m      2\u001B[0m     model_path\u001B[38;5;241m=\u001B[39mdense_embedding_model_path,\n\u001B[0;32m      3\u001B[0m     embedding_type\u001B[38;5;241m=\u001B[39m\u001B[38;5;124m\"\u001B[39m\u001B[38;5;124mdense\u001B[39m\u001B[38;5;124m\"\u001B[39m\n\u001B[0;32m      4\u001B[0m )\n\u001B[0;32m      6\u001B[0m sparse_embedding \u001B[38;5;241m=\u001B[39m BGEM3EmbeddingFunction(\n\u001B[0;32m      7\u001B[0m     model_path\u001B[38;5;241m=\u001B[39msparse_embedding_model_path,\n\u001B[0;32m      8\u001B[0m     embedding_type\u001B[38;5;241m=\u001B[39m\u001B[38;5;124m\"\u001B[39m\u001B[38;5;124msparse\u001B[39m\u001B[38;5;124m\"\u001B[39m\n\u001B[0;32m      9\u001B[0m )\n\u001B[0;32m     11\u001B[0m \u001B[38;5;28;01mdef\u001B[39;00m \u001B[38;5;21mdense_embedding_func\u001B[39m(texts: List[\u001B[38;5;28mstr\u001B[39m]) \u001B[38;5;241m-\u001B[39m\u001B[38;5;241m>\u001B[39m List[List[\u001B[38;5;28mfloat\u001B[39m]]:\n\u001B[0;32m     12\u001B[0m     \u001B[38;5;66;03m# texts를 dense 임베딩으로 변환\u001B[39;00m\n",
      "\u001B[1;31mNameError\u001B[0m: name 'BGEM3EmbeddingFunction' is not defined"
     ]
    }
   ],
   "execution_count": 15
  },
  {
   "metadata": {},
   "cell_type": "code",
   "outputs": [],
   "execution_count": null,
   "source": "",
   "id": "1ee6154f5f16524"
  },
  {
   "metadata": {},
   "cell_type": "code",
   "outputs": [],
   "execution_count": null,
   "source": "",
   "id": "42f4913023acb35c"
  }
 ],
 "metadata": {
  "kernelspec": {
   "display_name": "Python 3",
   "language": "python",
   "name": "python3"
  },
  "language_info": {
   "codemirror_mode": {
    "name": "ipython",
    "version": 2
   },
   "file_extension": ".py",
   "mimetype": "text/x-python",
   "name": "python",
   "nbconvert_exporter": "python",
   "pygments_lexer": "ipython2",
   "version": "2.7.6"
  }
 },
 "nbformat": 4,
 "nbformat_minor": 5
}
