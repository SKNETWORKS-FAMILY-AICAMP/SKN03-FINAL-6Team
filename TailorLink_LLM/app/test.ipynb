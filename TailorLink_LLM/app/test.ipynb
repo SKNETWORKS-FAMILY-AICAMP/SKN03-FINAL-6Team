{
 "cells": [
  {
   "cell_type": "code",
   "id": "initial_id",
   "metadata": {
    "collapsed": true,
    "ExecuteTime": {
     "end_time": "2024-12-17T14:05:39.294675Z",
     "start_time": "2024-12-17T14:05:37.647635Z"
    }
   },
   "source": "from app.core.config import settings",
   "outputs": [
    {
     "name": "stderr",
     "output_type": "stream",
     "text": [
      "2024-12-17 23:05:38,111 - fastapi_project - INFO - Retrieved parameter: /tailorlink/mysql/MYSQL_URI\n",
      "2024-12-17 23:05:38,326 - fastapi_project - INFO - Retrieved parameter: /tailorlink/mysql/MYSQL_USER\n",
      "2024-12-17 23:05:38,526 - fastapi_project - INFO - Retrieved parameter: /tailorlink/mysql/MYSQL_PASSWORD\n",
      "2024-12-17 23:05:38,726 - fastapi_project - INFO - Retrieved parameter: /tailorlink/mysql/MYSQL_DB_NAME\n",
      "2024-12-17 23:05:38,909 - fastapi_project - INFO - Retrieved parameter: /tailorlink/openai/OPENAI_API_KEY\n",
      "2024-12-17 23:05:39,115 - fastapi_project - INFO - Retrieved parameter: /tailorlink/milvus/MILVUS_URI\n",
      "2024-12-17 23:05:39,291 - fastapi_project - INFO - Retrieved parameter: /tailorlink/milvus/MILVUS_TOKEN\n"
     ]
    }
   ],
   "execution_count": 1
  },
  {
   "metadata": {
    "ExecuteTime": {
     "end_time": "2024-12-17T14:06:15.885432Z",
     "start_time": "2024-12-17T14:06:07.897462Z"
    }
   },
   "cell_type": "code",
   "source": "",
   "id": "b2417e2833dc0f5a",
   "outputs": [
    {
     "name": "stderr",
     "output_type": "stream",
     "text": [
      "E:\\TailorLink\\SKN03-FINAL-6Team\\TailorLink_LLM\\.venv\\Lib\\site-packages\\tqdm\\auto.py:21: TqdmWarning: IProgress not found. Please update jupyter and ipywidgets. See https://ipywidgets.readthedocs.io/en/stable/user_install.html\n",
      "  from .autonotebook import tqdm as notebook_tqdm\n",
      "Fetching 30 files: 100%|██████████| 30/30 [00:00<?, ?it/s]\n"
     ]
    }
   ],
   "execution_count": 2
  },
  {
   "metadata": {
    "ExecuteTime": {
     "end_time": "2024-12-17T13:48:36.140058Z",
     "start_time": "2024-12-17T13:48:36.137119Z"
    }
   },
   "cell_type": "code",
   "source": "settings.PROJECT_VERSION",
   "id": "9e59f38f5556143d",
   "outputs": [
    {
     "data": {
      "text/plain": [
       "'1.0.1'"
      ]
     },
     "execution_count": 3,
     "metadata": {},
     "output_type": "execute_result"
    }
   ],
   "execution_count": 3
  },
  {
   "metadata": {},
   "cell_type": "code",
   "outputs": [],
   "execution_count": null,
   "source": "",
   "id": "d082a85b7551f513"
  }
 ],
 "metadata": {
  "kernelspec": {
   "display_name": "Python 3",
   "language": "python",
   "name": "python3"
  },
  "language_info": {
   "codemirror_mode": {
    "name": "ipython",
    "version": 2
   },
   "file_extension": ".py",
   "mimetype": "text/x-python",
   "name": "python",
   "nbconvert_exporter": "python",
   "pygments_lexer": "ipython2",
   "version": "2.7.6"
  }
 },
 "nbformat": 4,
 "nbformat_minor": 5
}
