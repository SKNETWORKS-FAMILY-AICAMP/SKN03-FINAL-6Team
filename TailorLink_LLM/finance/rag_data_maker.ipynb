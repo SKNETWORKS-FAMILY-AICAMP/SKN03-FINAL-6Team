{
 "cells": [
  {
   "cell_type": "markdown",
   "metadata": {},
   "source": [
    "# 환경설정"
   ]
  },
  {
   "cell_type": "code",
   "execution_count": 2,
   "metadata": {},
   "outputs": [],
   "source": [
    "import os\n",
    "from modules import logging\n",
    "from dotenv import load_dotenv\n",
    "from langchain.document_loaders import PyMuPDFLoader\n",
    "from langchain.text_splitter import RecursiveCharacterTextSplitter\n",
    "from langchain_community.embeddings import OllamaEmbeddings\n",
    "from langchain_community.vectorstores import FAISS"
   ]
  },
  {
   "cell_type": "code",
   "execution_count": 3,
   "metadata": {},
   "outputs": [
    {
     "name": "stdout",
     "output_type": "stream",
     "text": [
      "LangSmith 추적을 시작합니다.\n",
      "[프로젝트명]\n",
      "Model_RAG\n"
     ]
    },
    {
     "data": {
      "text/plain": [
       "True"
      ]
     },
     "execution_count": 3,
     "metadata": {},
     "output_type": "execute_result"
    }
   ],
   "source": [
    "# langsmith logging\n",
    "logging.langsmith(\"Model_RAG\")\n",
    "\n",
    "# API KEY 정보로드\n",
    "load_dotenv()"
   ]
  },
  {
   "cell_type": "code",
   "execution_count": 4,
   "metadata": {},
   "outputs": [],
   "source": [
    "# check metadata\n",
    "def show_metadata(docs):\n",
    "    if docs:\n",
    "        print(\"[metadata]\")\n",
    "        print(list(docs[0].metadata.keys()))\n",
    "        print(\"\\n[examples]\")\n",
    "        max_key_length = max(len(k) for k in docs[0].metadata.keys())\n",
    "        for k, v in docs[0].metadata.items():\n",
    "            print(f\"{k:<{max_key_length}} : {v}\")"
   ]
  },
  {
   "cell_type": "markdown",
   "metadata": {},
   "source": [
    "# 파일로드"
   ]
  },
  {
   "cell_type": "code",
   "execution_count": 5,
   "metadata": {},
   "outputs": [],
   "source": [
    "FILE_PATH = \"data\\무배당 메리츠 다이렉트 운전자보험2409.pdf\"\n",
    "raw_documents = PyMuPDFLoader(FILE_PATH).load()\n",
    "text_splitter = RecursiveCharacterTextSplitter(chunk_size=512, chunk_overlap=125)\n",
    "documents = text_splitter.split_documents(raw_documents)"
   ]
  },
  {
   "cell_type": "code",
   "execution_count": 6,
   "metadata": {},
   "outputs": [
    {
     "name": "stdout",
     "output_type": "stream",
     "text": [
      "[metadata]\n",
      "['source', 'file_path', 'page', 'total_pages', 'format', 'title', 'author', 'subject', 'keywords', 'creator', 'producer', 'creationDate', 'modDate', 'trapped']\n",
      "\n",
      "[examples]\n",
      "source       : data\\무배당 메리츠 다이렉트 운전자보험2409.pdf\n",
      "file_path    : data\\무배당 메리츠 다이렉트 운전자보험2409.pdf\n",
      "page         : 0\n",
      "total_pages  : 13\n",
      "format       : PDF 1.4\n",
      "title        : \n",
      "author       : \n",
      "subject      : \n",
      "keywords     : \n",
      "creator      : Hancom PDF 1.3.0.430\n",
      "producer     : Hancom PDF 1.3.0.430\n",
      "creationDate : D:20241111165015+09'00'\n",
      "modDate      : D:20241111165015+09'00'\n",
      "trapped      : \n"
     ]
    }
   ],
   "source": [
    "show_metadata(documents)"
   ]
  },
  {
   "cell_type": "code",
   "execution_count": 32,
   "metadata": {},
   "outputs": [
    {
     "name": "stdout",
     "output_type": "stream",
     "text": [
      "분할된 청크의수: 51\n"
     ]
    }
   ],
   "source": [
    "print(f\"분할된 청크의수: {len(documents)}\")"
   ]
  },
  {
   "cell_type": "markdown",
   "metadata": {},
   "source": [
    "# 임베딩"
   ]
  },
  {
   "cell_type": "code",
   "execution_count": 7,
   "metadata": {},
   "outputs": [
    {
     "name": "stderr",
     "output_type": "stream",
     "text": [
      "C:\\Users\\vkxql\\AppData\\Local\\Temp\\ipykernel_8952\\1667557180.py:1: LangChainDeprecationWarning: The class `OllamaEmbeddings` was deprecated in LangChain 0.3.1 and will be removed in 1.0.0. An updated version of the class exists in the :class:`~langchain-ollama package and should be used instead. To use it run `pip install -U :class:`~langchain-ollama` and import as `from :class:`~langchain_ollama import OllamaEmbeddings``.\n",
      "  ollama_embeddings = OllamaEmbeddings(\n"
     ]
    }
   ],
   "source": [
    "ollama_embeddings = OllamaEmbeddings(\n",
    "    model=\"nomic-embed-text\"\n",
    ")"
   ]
  },
  {
   "cell_type": "code",
   "execution_count": 34,
   "metadata": {},
   "outputs": [],
   "source": [
    "vectorstore = FAISS.from_documents(documents=documents, embedding=ollama_embeddings)"
   ]
  },
  {
   "cell_type": "code",
   "execution_count": 35,
   "metadata": {},
   "outputs": [],
   "source": [
    "# 로컬 Disk 에 저장\n",
    "vectorstore.save_local(folder_path=\"faiss_db\", index_name=\"meritz_index\")"
   ]
  },
  {
   "cell_type": "markdown",
   "metadata": {},
   "source": [
    "# 파일 불러오기"
   ]
  },
  {
   "cell_type": "code",
   "execution_count": 8,
   "metadata": {},
   "outputs": [],
   "source": [
    "loaded_db = FAISS.load_local(\n",
    "    folder_path=\"faiss_db\",\n",
    "    index_name=\"meritz_index\",\n",
    "    embeddings=ollama_embeddings,\n",
    "    allow_dangerous_deserialization=True,\n",
    ")"
   ]
  },
  {
   "cell_type": "code",
   "execution_count": 10,
   "metadata": {},
   "outputs": [
    {
     "name": "stdout",
     "output_type": "stream",
     "text": [
      "06c146f3-15d7-40e3-8e23-e69f81ac3507\n"
     ]
    }
   ],
   "source": [
    "print(loaded_db.index_to_docstore_id[3])"
   ]
  },
  {
   "cell_type": "code",
   "execution_count": 11,
   "metadata": {},
   "outputs": [],
   "source": [
    "retriever = loaded_db.as_retriever()"
   ]
  },
  {
   "cell_type": "code",
   "execution_count": 12,
   "metadata": {},
   "outputs": [
    {
     "data": {
      "text/plain": [
       "[Document(metadata={'source': 'data\\\\무배당 메리츠 다이렉트 운전자보험2409.pdf', 'file_path': 'data\\\\무배당 메리츠 다이렉트 운전자보험2409.pdf', 'page': 3, 'total_pages': 13, 'format': 'PDF 1.4', 'title': '', 'author': '', 'subject': '', 'keywords': '', 'creator': 'Hancom PDF 1.3.0.430', 'producer': 'Hancom PDF 1.3.0.430', 'creationDate': \"D:20241111165015+09'00'\", 'modDate': \"D:20241111165015+09'00'\", 'trapped': ''}, page_content='(1) 보험금지급사유 및 지급금액\\n○ 기본계약\\n보장명\\n지급사유\\n지급금액\\n운전자용 교통상해사망/\\n비운전자용 교통상해사망\\n보험기간 중 교통상해(비운전자용은 비운전중 교통상해로 한\\n함)의 직접결과로써 사망한 경우(질병으로 인한 사망은 제외\\n합니다)\\n가입금액\\n○ 선택계약\\n[상해]'),\n",
       " Document(metadata={'source': 'data\\\\무배당 메리츠 다이렉트 운전자보험2409.pdf', 'file_path': 'data\\\\무배당 메리츠 다이렉트 운전자보험2409.pdf', 'page': 7, 'total_pages': 13, 'format': 'PDF 1.4', 'title': '', 'author': '', 'subject': '', 'keywords': '', 'creator': 'Hancom PDF 1.3.0.430', 'producer': 'Hancom PDF 1.3.0.430', 'creationDate': \"D:20241111165015+09'00'\", 'modDate': \"D:20241111165015+09'00'\", 'trapped': ''}, page_content='배우자, 자녀 제외)에게 아래의 상해를 입혀 형사\\n합의를 한 경우 피보험자에게 매 사고마다 피해자 \\n각각에 대하여 피보험자가 형사합의금으로 지급한 \\n금액을 교통사고 처리지원금으로 지급\\n  - 중대법규위반 교통사고로 피해자가 42일(피해\\n28일(4주)\\n미만 \\n진단시\\n교통사고 \\n처리지원금\\n(150만원/200만원/\\n500만원/600만원 \\n한도)'),\n",
       " Document(metadata={'source': 'data\\\\무배당 메리츠 다이렉트 운전자보험2409.pdf', 'file_path': 'data\\\\무배당 메리츠 다이렉트 운전자보험2409.pdf', 'page': 9, 'total_pages': 13, 'format': 'PDF 1.4', 'title': '', 'author': '', 'subject': '', 'keywords': '', 'creator': 'Hancom PDF 1.3.0.430', 'producer': 'Hancom PDF 1.3.0.430', 'creationDate': \"D:20241111165015+09'00'\", 'modDate': \"D:20241111165015+09'00'\", 'trapped': ''}, page_content='를 포함, 단, 타인이 사망한 경우 이외에는 ①에 한함.\\n※ 자가용운전자형의 경우 피보험자가 자동차를 영업목적으로 \\n운전하던 중 발생한 사고는 보상하지 않음\\n(2) 보험금 지급제한 사항 \\n \\n  ① 회사의 보장은 보험기간의 첫날 제1회 보험료를 받은 때에 시작하며 마지막날 24시에 끝납니다. 이 경우 시\\n각은 보험증권 발행지의 표준시에 따릅니다.\\n  ② 이 계약에서 보장하는 위험과 같은 위험을 보장하는 다른 계약(공제계약 포함)이 있을 경우에는 각 계약에 \\n대하여 다른 계약이 없는 것으로 하여 각각 산출한 보상책임액의 합계액이 손해액을 초과할 때에는 이 계약\\n에 의한 보상책임액의 상기 합계액에 대한 비율에 따라 보상합니다.\\n  ③ 보험금을 지급하지 않는 사유 등 기타 세부적인 사항은 약관내용에 따라 제한될 수 있으니, 반드시 약\\n관 본문을 참조하여 주시기 바랍니다.'),\n",
       " Document(metadata={'source': 'data\\\\무배당 메리츠 다이렉트 운전자보험2409.pdf', 'file_path': 'data\\\\무배당 메리츠 다이렉트 운전자보험2409.pdf', 'page': 12, 'total_pages': 13, 'format': 'PDF 1.4', 'title': '', 'author': '', 'subject': '', 'keywords': '', 'creator': 'Hancom PDF 1.3.0.430', 'producer': 'Hancom PDF 1.3.0.430', 'creationDate': \"D:20241111165015+09'00'\", 'modDate': \"D:20241111165015+09'00'\", 'trapped': ''}, page_content='수도 있습니다.\\n   - 본 상품은 보장성보험으로 저축성 상품이 아닙니다.\\n 상품요약서는 상품의 주요내용만을 요약한 자료입니다. \\n구체적인 상품내용은 해당 보험약관 등을 참조하시기 바랍니다.')]"
      ]
     },
     "execution_count": 12,
     "metadata": {},
     "output_type": "execute_result"
    }
   ],
   "source": [
    "retriever.invoke(\"보험\")"
   ]
  }
 ],
 "metadata": {
  "kernelspec": {
   "display_name": ".venv",
   "language": "python",
   "name": "python3"
  },
  "language_info": {
   "codemirror_mode": {
    "name": "ipython",
    "version": 3
   },
   "file_extension": ".py",
   "mimetype": "text/x-python",
   "name": "python",
   "nbconvert_exporter": "python",
   "pygments_lexer": "ipython3",
   "version": "3.12.0"
  }
 },
 "nbformat": 4,
 "nbformat_minor": 2
}
