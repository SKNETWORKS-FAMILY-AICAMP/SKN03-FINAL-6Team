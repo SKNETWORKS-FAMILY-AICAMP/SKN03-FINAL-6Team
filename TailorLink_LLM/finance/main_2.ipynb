{
 "cells": [
  {
   "cell_type": "code",
   "execution_count": 1,
   "metadata": {},
   "outputs": [],
   "source": [
    "import uuid\n",
    "from dotenv import load_dotenv\n",
    "from modules import logging\n",
    "from langchain_community.vectorstores import FAISS\n",
    "from langchain_community.embeddings import OllamaEmbeddings\n",
    "from langchain_openai import ChatOpenAI\n",
    "from langchain.retrievers.multi_query import MultiQueryRetriever\n",
    "from langchain.schema import BaseMessage\n",
    "from typing_extensions import Annotated, Literal, Sequence, TypedDict\n",
    "from langgraph.checkpoint.memory import MemorySaver\n",
    "from langgraph.graph import StateGraph, START, END\n",
    "from IPython.display import Image, display\n",
    "import pprint\n",
    "from langchain_core.runnables import RunnableConfig"
   ]
  },
  {
   "cell_type": "code",
   "execution_count": 2,
   "metadata": {},
   "outputs": [],
   "source": [
    "from dotenv import load_dotenv\n",
    "from modules import logging"
   ]
  },
  {
   "cell_type": "code",
   "execution_count": 3,
   "metadata": {},
   "outputs": [
    {
     "name": "stdout",
     "output_type": "stream",
     "text": [
      "LangSmith 추적을 시작합니다.\n",
      "[프로젝트명]\n",
      "Model_RAG\n"
     ]
    },
    {
     "data": {
      "text/plain": [
       "True"
      ]
     },
     "execution_count": 3,
     "metadata": {},
     "output_type": "execute_result"
    }
   ],
   "source": [
    "# LangSmith Logging\n",
    "logging.langsmith(\"Model_RAG\")\n",
    "# API 키 정보 로드\n",
    "load_dotenv()"
   ]
  },
  {
   "cell_type": "code",
   "execution_count": 4,
   "metadata": {},
   "outputs": [],
   "source": [
    "session_id = str(uuid.uuid4())"
   ]
  },
  {
   "cell_type": "code",
   "execution_count": 5,
   "metadata": {},
   "outputs": [],
   "source": [
    "memory = MemorySaver()"
   ]
  },
  {
   "cell_type": "code",
   "execution_count": 6,
   "metadata": {},
   "outputs": [
    {
     "name": "stderr",
     "output_type": "stream",
     "text": [
      "C:\\Users\\vkxql\\AppData\\Local\\Temp\\ipykernel_15984\\4185708034.py:1: LangChainDeprecationWarning: The class `OllamaEmbeddings` was deprecated in LangChain 0.3.1 and will be removed in 1.0.0. An updated version of the class exists in the :class:`~langchain-ollama package and should be used instead. To use it run `pip install -U :class:`~langchain-ollama` and import as `from :class:`~langchain_ollama import OllamaEmbeddings``.\n",
      "  ollama_embeddings = OllamaEmbeddings(\n"
     ]
    }
   ],
   "source": [
    "ollama_embeddings = OllamaEmbeddings(\n",
    "    model=\"nomic-embed-text\"\n",
    ")\n",
    "\n",
    "loaded_db = FAISS.load_local(\n",
    "    folder_path=\"faiss_db\",\n",
    "    index_name=\"meritz_index\",\n",
    "    embeddings=ollama_embeddings,\n",
    "    allow_dangerous_deserialization=True,\n",
    ")"
   ]
  },
  {
   "cell_type": "code",
   "execution_count": 7,
   "metadata": {},
   "outputs": [],
   "source": [
    "llm = ChatOpenAI(model=\"gpt-4o-mini\", temperature=0)"
   ]
  },
  {
   "cell_type": "code",
   "execution_count": 8,
   "metadata": {},
   "outputs": [],
   "source": [
    "# MultiQueryRetriever 설정\n",
    "multi_query_retriever = MultiQueryRetriever.from_llm(\n",
    "    retriever=loaded_db.as_retriever(),\n",
    "    llm=llm\n",
    ")"
   ]
  },
  {
   "cell_type": "code",
   "execution_count": 9,
   "metadata": {},
   "outputs": [],
   "source": [
    "class state(TypedDict):\n",
    "    # 메시지 관리 (사용자와 시스템의 대화 기록)\n",
    "    messages: Annotated[Sequence[BaseMessage], \"add_messages\"]\n",
    "    # 세션 ID (각 워크플로우 인스턴스에 고유한 ID)\n",
    "    session_id: str\n",
    "    # 기타 메타데이터 (사용자 정보, 소스 등)\n",
    "    metadata: dict\n",
    "    # 검색된 문서 리스트\n",
    "    retrieved_docs: list  # 검색 결과 (MultiQueryRetriever의 반환 값)\n",
    "    # 재 생성 된 답변\n",
    "    rewritten_question : list\n",
    "    # 생성된 최종 답변\n",
    "    generated_response: str  # 시스템의 최종 답변"
   ]
  },
  {
   "cell_type": "markdown",
   "metadata": {},
   "source": [
    "## 노드"
   ]
  },
  {
   "cell_type": "code",
   "execution_count": 10,
   "metadata": {},
   "outputs": [],
   "source": [
    "# Agent 노드\n",
    "\n",
    "def agent(state):\n",
    "    \"\"\"\n",
    "    Invokes the agent model to generate a response based on the current state. Given\n",
    "    the question, it will decide to retrieve using the retriever tool, or simply end.\n",
    "\n",
    "    Args:\n",
    "        state (messages): The current state\n",
    "\n",
    "    Returns:\n",
    "        dict: The updated state with the agent response appended to messages\n",
    "    \"\"\"\n",
    "    print(\"---CALL AGENT---\")\n",
    "    messages = state[\"messages\"]\n",
    "    model = ChatOpenAI(temperature=0, streaming=True, model=\"gpt-4o-mini\")\n",
    "    # model = model.bind_tools(tools)\n",
    "    response = model.invoke(messages)\n",
    "    # We return a list, because this will get added to the existing list\n",
    "    state[\"messages\"] = response\n",
    "    return state"
   ]
  },
  {
   "cell_type": "code",
   "execution_count": 11,
   "metadata": {},
   "outputs": [],
   "source": [
    "def retriever_tool(state:state) -> state:\n",
    "    \"\"\"\n",
    "    Retrieves documents using MultiQueryRetriever based on the current question.\n",
    "    \"\"\"\n",
    "    print(\"---CALL RETRIEVE TOOL---\")\n",
    "    \n",
    "    # 사용자의 마지막 질문 또는 rewritten_question이 있는 경우 해당 값을 사용\n",
    "    user_question = state[\"rewritten_question\"] if \"rewritten_question\" in state and state[\"rewritten_question\"] else state[\"messages\"][-1][\"content\"]\n",
    "\n",
    "    \n",
    "    # MultiQueryRetriever에 사용할 프롬프트\n",
    "    multi_query_prompt = f\"\"\"\n",
    "    You are an expert assistant trained to optimize search queries for retrieving the most relevant documents.\n",
    "    Given a user question, your task is to generate multiple rephrased versions of the same question. These\n",
    "    rephrased questions should:\n",
    "    \n",
    "    1. Cover different ways a user might phrase the same question.\n",
    "    2. Maintain the original intent and meaning of the question.\n",
    "    3. Use synonyms, structural variations, and alternative expressions where applicable.\n",
    "\n",
    "    For the following user question, generate at least **5 rephrased versions**:\n",
    "    \n",
    "    Original Question:\n",
    "    \"{user_question}\"\n",
    "    \n",
    "    Ensure your rephrased versions are concise, clear, and ready to be used in a search query. Output the rephrased questions as a list.\n",
    "    \"\"\"\n",
    "    \n",
    "    # MultiQueryRetriever로 문서 검색\n",
    "    retrieved_docs = multi_query_retriever.get_relevant_documents(multi_query_prompt)\n",
    "    \n",
    "    # 검색된 문서를 상태에 저장\n",
    "    state[\"retrieved_docs\"] = retrieved_docs\n",
    "    return state"
   ]
  },
  {
   "cell_type": "code",
   "execution_count": 12,
   "metadata": {},
   "outputs": [],
   "source": [
    "def grade_documents(state: state) -> state:\n",
    "    \"\"\"\n",
    "    Grades the retrieved documents to determine relevance to the user's question.\n",
    "    \"\"\"\n",
    "    print(\"---GRADE DOCUMENTS NODE ACTIVATED---\")\n",
    "    \n",
    "    retrieved_docs = state.get(\"retrieved_docs\", [])\n",
    "    current_question = state[\"current_question\"]\n",
    "    \n",
    "    grading_prompt = f\"\"\"\n",
    "    You are an expert in evaluating document relevance. Given the user's question and the retrieved documents,\n",
    "    evaluate whether the documents are relevant or not.\n",
    "\n",
    "    User Question:\n",
    "    \"{current_question}\"\n",
    "\n",
    "    Retrieved Documents (Summarized):\n",
    "    {retrieved_docs}\n",
    "\n",
    "    Respond with:\n",
    "    - \"Relevant\" if the documents are relevant to the question.\n",
    "    - \"Not Relevant\" if the documents are not relevant.\n",
    "    \"\"\"\n",
    "    \n",
    "    # LLM 평가\n",
    "    relevance_result = llm(grading_prompt)\n",
    "    state[\"document_grading\"] = relevance_result.strip().lower()\n",
    "    print(f\"Document Grading: {state['document_grading']}\")\n",
    "    return state\n"
   ]
  },
  {
   "cell_type": "code",
   "execution_count": 13,
   "metadata": {},
   "outputs": [],
   "source": [
    "def rewrite(state: state) -> state:\n",
    "    \"\"\"\n",
    "    Generates a new question if the retrieved documents are not relevant.\n",
    "    \"\"\"\n",
    "    print(\"---REWRITE NODE ACTIVATED---\")\n",
    "    \n",
    "    current_question = state[\"current_question\"]\n",
    "    rewrite_prompt = f\"\"\"\n",
    "    The retrieved documents were not relevant to the following user question:\n",
    "    \"{current_question}\"\n",
    "    \n",
    "    Please analyze the user's intent and generate a new question that better represents the user's intent\n",
    "    to find relevant documents. Ensure the new question is concise and clear.\n",
    "    \"\"\"\n",
    "    \n",
    "    # LLM을 사용하여 질문 재작성\n",
    "    rewritten_question = llm(rewrite_prompt)\n",
    "    state[\"rewritten_question\"] = rewritten_question.strip()\n",
    "    print(f\"Rewritten Question: {state['rewritten_question']}\")\n",
    "    return state\n"
   ]
  },
  {
   "cell_type": "code",
   "execution_count": 14,
   "metadata": {},
   "outputs": [],
   "source": [
    "# 답변 생성 노드\n",
    "\n",
    "def generate(state):\n",
    "    \"\"\"\n",
    "    Generate answer\n",
    "\n",
    "    Args:\n",
    "        state (messages): The current state\n",
    "\n",
    "    Returns:\n",
    "         dict: The updated state with re-phrased question\n",
    "    \"\"\"\n",
    "    print(\"---GENERATE---\")\n",
    "    messages = state[\"messages\"]\n",
    "    question = messages[0].content\n",
    "    last_message = messages[-1]\n",
    "\n",
    "    docs = last_message.content\n",
    "\n",
    "    # Prompt\n",
    "    # prompt = hub.pull(\"rlm/rag-prompt\")\n",
    "    # print(prompt)\n",
    "    prompt = PromptTemplate(\n",
    "        template=\"\"\"You are an assistant for question-answering tasks. \\n\n",
    "        Use the following pieces of retrieved context to answer the question.\n",
    "        If you don't know the answer, just say that you don't know.\n",
    "        Use three sentences maximum and keep the answer concise.\n",
    "        \"\"\"\n",
    "    )\n",
    "\n",
    "    # LLM\n",
    "    llm = ChatOpenAI(model_name=\"gpt-4o-mini\", temperature=0, streaming=True)\n",
    "\n",
    "    # Post-processing\n",
    "    def format_docs(docs):\n",
    "        return \"\\n\\n\".join(doc.page_content for doc in docs)\n",
    "\n",
    "    # Chain\n",
    "    rag_chain = prompt | llm | StrOutputParser()\n",
    "\n",
    "    # Run\n",
    "    response = rag_chain.invoke({\"context\": docs, \"question\": question})\n",
    "    return {\"messages\": [response]}"
   ]
  },
  {
   "cell_type": "code",
   "execution_count": 15,
   "metadata": {},
   "outputs": [],
   "source": [
    "workflow = StateGraph(state)"
   ]
  },
  {
   "cell_type": "code",
   "execution_count": 16,
   "metadata": {},
   "outputs": [
    {
     "data": {
      "text/plain": [
       "<langgraph.graph.state.StateGraph at 0x29978ec7290>"
      ]
     },
     "execution_count": 16,
     "metadata": {},
     "output_type": "execute_result"
    }
   ],
   "source": [
    "workflow.add_node(\"agent\", agent)\n",
    "workflow.add_node(\"retriever_tool\", retriever_tool)\n",
    "workflow.add_node(\"grade_documents\", grade_documents)\n",
    "workflow.add_node(\"rewrite\", rewrite)\n",
    "workflow.add_node(\"generate\", generate)"
   ]
  },
  {
   "cell_type": "code",
   "execution_count": 17,
   "metadata": {},
   "outputs": [
    {
     "data": {
      "text/plain": [
       "<langgraph.graph.state.StateGraph at 0x29978ec7290>"
      ]
     },
     "execution_count": 17,
     "metadata": {},
     "output_type": "execute_result"
    }
   ],
   "source": [
    "# 노드 간 기본 연결\n",
    "workflow.add_edge(START, \"agent\")\n",
    "workflow.add_edge(\"agent\", \"retriever_tool\")\n",
    "workflow.add_edge(\"retriever_tool\", \"grade_documents\")\n",
    "\n",
    "# 조건부 연결 추가\n",
    "def conditional_decision(state):\n",
    "    \"\"\"\n",
    "    조건부 경로를 결정하는 함수.\n",
    "    'grade_documents' 결과에 따라 경로가 나뉨.\n",
    "    \"\"\"\n",
    "    if state.get(\"document_grading\") == \"relevant\":\n",
    "        return \"generate\"\n",
    "    else:\n",
    "        return \"rewrite\"\n",
    "\n",
    "workflow.add_conditional_edges(\n",
    "    \"grade_documents\",\n",
    "    \n",
    "    conditional_decision,  # 조건 함수\n",
    "     path_map={\n",
    "        \"generate\": \"generate\",     # Generate로 이어지는 경우 END로 연결\n",
    "        \"rewrite\": \"rewrite\"   # Rewrite로 이어지는 경우 Agent로 루프\n",
    "    }\n",
    ")\n",
    "# 다른 연결 추가\n",
    "workflow.add_edge(\"generate\", END)\n",
    "workflow.add_edge(\"rewrite\", \"retriever_tool\")"
   ]
  },
  {
   "cell_type": "code",
   "execution_count": 18,
   "metadata": {},
   "outputs": [],
   "source": [
    "graph = workflow.compile(checkpointer=memory)"
   ]
  },
  {
   "cell_type": "code",
   "execution_count": 19,
   "metadata": {},
   "outputs": [
    {
     "data": {
      "image/png": "[encoded data removed]",
      "text/plain": [
       "<IPython.core.display.Image object>"
      ]
     },
     "metadata": {},
     "output_type": "display_data"
    }
   ],
   "source": [
    "from IPython.display import Image, display\n",
    "\n",
    "try:\n",
    "    display(Image(graph.get_graph(xray=True).draw_mermaid_png()))\n",
    "except Exception:\n",
    "    # This requires some extra dependencies and is optional\n",
    "    pass"
   ]
  },
  {
   "cell_type": "code",
   "execution_count": 20,
   "metadata": {},
   "outputs": [],
   "source": [
    "inputs = {\n",
    "    \"messages\": [\n",
    "        (\"user\", \"대인 부분 약관과 보장 범위에 대해 알려줘.\"),\n",
    "    ]\n",
    "}"
   ]
  },
  {
   "cell_type": "code",
   "execution_count": 21,
   "metadata": {},
   "outputs": [],
   "source": [
    "config = RunnableConfig(\n",
    "    recursion_limit=10,  # 최대 10개의 노드까지 방문. 그 이상은 RecursionError 발생\n",
    "    configurable={\"thread_id\": \"1\"}, # 스레드 ID 설정\n",
    "    tags=[\"my-tag\"], # Tag\n",
    ")"
   ]
  },
  {
   "cell_type": "code",
   "execution_count": 22,
   "metadata": {},
   "outputs": [
    {
     "ename": "NameError",
     "evalue": "name 'ᄋᄋᄋᄋ' is not defined",
     "output_type": "error",
     "traceback": [
      "\u001b[1;31m---------------------------------------------------------------------------\u001b[0m",
      "\u001b[1;31mNameError\u001b[0m                                 Traceback (most recent call last)",
      "Cell \u001b[1;32mIn[22], line 1\u001b[0m\n\u001b[1;32m----> 1\u001b[0m \u001b[43mㅇㅇㅇㅇ\u001b[49m\n",
      "\u001b[1;31mNameError\u001b[0m: name 'ᄋᄋᄋᄋ' is not defined"
     ]
    }
   ],
   "source": [
    "ㅇㅇㅇㅇ"
   ]
  },
  {
   "cell_type": "code",
   "execution_count": null,
   "metadata": {},
   "outputs": [],
   "source": []
  }
 ],
 "metadata": {
  "kernelspec": {
   "display_name": ".venv",
   "language": "python",
   "name": "python3"
  },
  "language_info": {
   "codemirror_mode": {
    "name": "ipython",
    "version": 3
   },
   "file_extension": ".py",
   "mimetype": "text/x-python",
   "name": "python",
   "nbconvert_exporter": "python",
   "pygments_lexer": "ipython3",
   "version": "3.12.0"
  }
 },
 "nbformat": 4,
 "nbformat_minor": 2
}
